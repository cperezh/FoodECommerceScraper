{
 "cells": [
  {
   "cell_type": "code",
   "execution_count": 2,
   "id": "e3babebc-b820-4f3d-8adc-5131de5ab6ce",
   "metadata": {},
   "outputs": [],
   "source": [
    "import pandas as pd\n",
    "import sys\n",
    "import pyspark.sql\n",
    "from pyspark.sql.types import StructType, StructField, DateType, StringType, DoubleType, TimestampType\n",
    "from SparkDBUtils import SparkDB\n",
    "import datetime\n",
    "from pyspark.sql.functions import current_timestamp\n",
    "import delta\n",
    "\n",
    "sparkdb = SparkDB()\n",
    "spark = sparkdb.spark"
   ]
  },
  {
   "cell_type": "code",
   "execution_count": 18,
   "id": "2a0dce28-a325-4ba1-95e9-f7e318a20cb2",
   "metadata": {},
   "outputs": [],
   "source": [
    "producto_dim_schema = StructType([\n",
    "        StructField(\"date\", DateType(), True),\n",
    "        StructField(\"product\", StringType(), True),\n",
    "        StructField(\"product_id\", StringType(), True),\n",
    "        StructField(\"brand\", StringType(), True),\n",
    "        StructField(\"price\", DoubleType(), True),\n",
    "        StructField(\"categories\", StringType(), True),\n",
    "        StructField(\"unit_price\", DoubleType(), True),\n",
    "        StructField(\"units\", StringType(), True),\n",
    "        StructField(\"discount\", DoubleType(), True),\n",
    "        StructField(\"ts_load\", TimestampType(), True)\n",
    "    ])\n",
    "\n",
    "dataset = spark.read.option(\"delimiter\", \";\").csv(\"../../dataset/dataset.csv\",  schema= producto_dim_schema, header=True)"
   ]
  },
  {
   "cell_type": "code",
   "execution_count": 19,
   "id": "d3354b52-7cca-4f35-8ad5-163b5236e5db",
   "metadata": {},
   "outputs": [
    {
     "data": {
      "text/plain": [
       "Row(date=datetime.date(2022, 11, 21), product='DIA MARI MARINERA langostino cocido 24/32 piezas caja 800 gr', product_id='8456', brand='DIA MARI MARINERA', price=7.99, categories=\"['Congelados', 'Pescado y marisco']\", unit_price=9.99, units='€/Kg.', discount=None, ts_load=None)"
      ]
     },
     "execution_count": 19,
     "metadata": {},
     "output_type": "execute_result"
    }
   ],
   "source": [
    "dataset.head()"
   ]
  },
  {
   "cell_type": "code",
   "execution_count": 27,
   "id": "7a8aa9c4-d92e-4417-a692-321fc70e0717",
   "metadata": {},
   "outputs": [],
   "source": [
    "dataset = dataset.withColumn(\"ts_load\", current_timestamp())"
   ]
  },
  {
   "cell_type": "code",
   "execution_count": 29,
   "id": "ab4b31a7-8eae-4166-b4c6-4141058d8299",
   "metadata": {},
   "outputs": [
    {
     "name": "stdout",
     "output_type": "stream",
     "text": [
      "+-------+--------------------+------------------+--------------+------------------+--------------------+------------------+---------------+--------+\n",
      "|summary|             product|        product_id|         brand|             price|          categories|        unit_price|          units|discount|\n",
      "+-------+--------------------+------------------+--------------+------------------+--------------------+------------------+---------------+--------+\n",
      "|  count|              258598|            258598|        251175|            258171|              258598|            258171|         258171|       0|\n",
      "|   mean|                null|184070.27116739505|          null| 3.335872270704507|                null|13.251186732823822|           null|    null|\n",
      "| stddev|                null| 93759.95093658975|          null|4.6163258336936766|                null| 59.14028297290332|           null|    null|\n",
      "|    min|1902 licor de gin...|               100|ABADIA DA COVA|              0.15|['Aceites. salsas...|              0.01|     €/100 GR.)|    null|\n",
      "|    25%|                null|          114671.0|          null|              1.59|                null|               2.6|           null|    null|\n",
      "|    50%|                null|          207831.0|          null|              2.45|                null|              6.83|           null|    null|\n",
      "|    75%|                null|          272033.0|          null|              3.79|                null|             13.25|           null|    null|\n",
      "|    max|Zumo tropical sin...|             99783|     Zumosfera|             305.0|['Yogures y postr...|           8764.71|€/ud.6,75 €/ud.|    null|\n",
      "+-------+--------------------+------------------+--------------+------------------+--------------------+------------------+---------------+--------+\n",
      "\n"
     ]
    }
   ],
   "source": [
    "dataset.summary().show()"
   ]
  },
  {
   "cell_type": "code",
   "execution_count": 28,
   "id": "4183f7d6-6170-4245-a41a-3c9e77161116",
   "metadata": {},
   "outputs": [
    {
     "data": {
      "text/plain": [
       "Row(date=datetime.date(2022, 11, 21), product='DIA MARI MARINERA langostino cocido 24/32 piezas caja 800 gr', product_id='8456', brand='DIA MARI MARINERA', price=7.99, categories=\"['Congelados', 'Pescado y marisco']\", unit_price=9.99, units='€/Kg.', discount=None, ts_load=datetime.datetime(2023, 9, 15, 6, 53, 39, 969000))"
      ]
     },
     "execution_count": 28,
     "metadata": {},
     "output_type": "execute_result"
    }
   ],
   "source": [
    "dataset.head()"
   ]
  },
  {
   "cell_type": "code",
   "execution_count": 30,
   "id": "72b313cd-142f-4736-97fc-4bc2cdd7fcee",
   "metadata": {},
   "outputs": [],
   "source": [
    "sparkdb.write_table(dataset, \"producto_dia.producto_dim\", \"append\")"
   ]
  },
  {
   "cell_type": "markdown",
   "id": "7575cd56-6e3f-4be6-a672-bd623d9a75aa",
   "metadata": {},
   "source": [
    "# Analisis de la migración"
   ]
  },
  {
   "cell_type": "code",
   "execution_count": 9,
   "id": "eed0eb9e-08e9-4dd5-81fb-1c13f1e6c1b6",
   "metadata": {},
   "outputs": [],
   "source": [
    "df_producto_dim = spark.table(\"producto_dia.producto_dim\")"
   ]
  },
  {
   "cell_type": "code",
   "execution_count": 10,
   "id": "a61bbe3e-dba4-4e9c-9943-8dd2503ebce2",
   "metadata": {},
   "outputs": [
    {
     "name": "stderr",
     "output_type": "stream",
     "text": [
      "c:\\users\\carlos\\proyectos\\foodecommercescraper\\venv\\lib\\site-packages\\pyspark\\sql\\pandas\\conversion.py:248: FutureWarning: Passing unit-less datetime64 dtype to .astype is deprecated and will raise in a future version. Pass 'datetime64[ns]' instead\n",
      "  series = series.astype(t, copy=False)\n"
     ]
    }
   ],
   "source": [
    "df = df_producto_dim.toPandas()\n",
    "df[\"date\"]  = pd.to_datetime(df[\"date\"])\n",
    "df.drop(columns=[\"discount\"], inplace=True)"
   ]
  },
  {
   "cell_type": "code",
   "execution_count": 11,
   "id": "12cae8f0-92e0-4e19-b116-4405a2a979cd",
   "metadata": {},
   "outputs": [
    {
     "name": "stdout",
     "output_type": "stream",
     "text": [
      "<class 'pandas.core.frame.DataFrame'>\n",
      "RangeIndex: 295609 entries, 0 to 295608\n",
      "Data columns (total 9 columns):\n",
      " #   Column      Non-Null Count   Dtype         \n",
      "---  ------      --------------   -----         \n",
      " 0   product_id  295609 non-null  object        \n",
      " 1   product     295609 non-null  object        \n",
      " 2   brand       288186 non-null  object        \n",
      " 3   categories  295609 non-null  object        \n",
      " 4   units       295182 non-null  object        \n",
      " 5   price       295182 non-null  float64       \n",
      " 6   unit_price  295182 non-null  float64       \n",
      " 7   date        295609 non-null  datetime64[ns]\n",
      " 8   ts_load     295609 non-null  datetime64[ns]\n",
      "dtypes: datetime64[ns](2), float64(2), object(5)\n",
      "memory usage: 20.3+ MB\n"
     ]
    }
   ],
   "source": [
    "df.info()"
   ]
  },
  {
   "cell_type": "markdown",
   "id": "8e3878c4-cfde-4e3d-a13c-9ba4cbc35a55",
   "metadata": {},
   "source": [
    "# Analisis de campos"
   ]
  },
  {
   "cell_type": "markdown",
   "id": "5ad86fc9-4157-48dc-b038-9b0d5f0eef70",
   "metadata": {},
   "source": [
    "**PRODUCTO**"
   ]
  },
  {
   "cell_type": "markdown",
   "id": "cbbc481e-7855-447e-b381-e38170a70c3e",
   "metadata": {},
   "source": [
    "**NULOS**"
   ]
  },
  {
   "cell_type": "code",
   "execution_count": 12,
   "id": "d2c6c66f-10ea-456d-9922-7695fc9858ca",
   "metadata": {},
   "outputs": [],
   "source": [
    "nulos = df[df[\"product\"].isna()]"
   ]
  },
  {
   "cell_type": "code",
   "execution_count": 13,
   "id": "1786c57c-214f-4f4b-9438-8b547a0264fd",
   "metadata": {},
   "outputs": [
    {
     "data": {
      "text/plain": [
       "array([], dtype='datetime64[ns]')"
      ]
     },
     "execution_count": 13,
     "metadata": {},
     "output_type": "execute_result"
    }
   ],
   "source": [
    "nulos[\"date\"].unique()"
   ]
  },
  {
   "cell_type": "markdown",
   "id": "11677d3b-3388-4b5e-9a6e-4ecc0235382a",
   "metadata": {},
   "source": [
    "Borrado de los nulos en tabla"
   ]
  },
  {
   "cell_type": "code",
   "execution_count": 14,
   "id": "38aac0f7-9f57-4e23-b789-afb9cfffc044",
   "metadata": {},
   "outputs": [],
   "source": [
    "dt = delta.DeltaTable.forName(sparkdb.spark, \"producto_dia.producto_dim\")"
   ]
  },
  {
   "cell_type": "code",
   "execution_count": 15,
   "id": "175e5e93-c701-4a98-a7df-d198d7cdadc5",
   "metadata": {},
   "outputs": [],
   "source": [
    "dt.delete(\"product is null\")"
   ]
  },
  {
   "cell_type": "markdown",
   "id": "1eb889a9-ad96-47ca-ac7e-2950a705e6a5",
   "metadata": {},
   "source": [
    "Analisis de total de productos unicos por fecha"
   ]
  },
  {
   "cell_type": "code",
   "execution_count": 14,
   "id": "72557d52-31e7-4e44-9c24-d34ddf648c5d",
   "metadata": {},
   "outputs": [
    {
     "data": {
      "text/plain": [
       "<AxesSubplot: xlabel='date'>"
      ]
     },
     "execution_count": 14,
     "metadata": {},
     "output_type": "execute_result"
    },
    {
     "data": {
      "image/png": "[encoded data removed]",
      "text/plain": [
       "<Figure size 640x480 with 1 Axes>"
      ]
     },
     "metadata": {},
     "output_type": "display_data"
    }
   ],
   "source": [
    "df.groupby(\"date\")[\"product_id\"].agg(pd.Series.nunique).plot(kind=\"bar\")"
   ]
  },
  {
   "cell_type": "markdown",
   "id": "7e0eaa0b-4cb1-4b23-affa-12820a35d1ff",
   "metadata": {},
   "source": [
    "**Duplicados**"
   ]
  },
  {
   "cell_type": "code",
   "execution_count": 15,
   "id": "665cbbce-7192-4399-8743-16e7df1afb68",
   "metadata": {},
   "outputs": [
    {
     "data": {
      "text/plain": [
       "Series([], Name: product_id, dtype: int64)"
      ]
     },
     "execution_count": 15,
     "metadata": {},
     "output_type": "execute_result"
    }
   ],
   "source": [
    "df.groupby([\"product_id\",\"ts_load\",\"date\"])[\"product_id\"].count().loc[lambda x: x>=2]"
   ]
  },
  {
   "cell_type": "markdown",
   "id": "81d16d66-2572-44d6-bb66-1c8c0e8c077e",
   "metadata": {},
   "source": [
    "Borrado de los duplicados"
   ]
  },
  {
   "cell_type": "code",
   "execution_count": 7,
   "id": "b1b8e4dc-a160-4389-bc73-b157e5f014ac",
   "metadata": {},
   "outputs": [],
   "source": [
    "dt = delta.DeltaTable.forName(sparkdb.spark, \"producto_dia.producto_dim\")"
   ]
  },
  {
   "cell_type": "code",
   "execution_count": 8,
   "id": "19ff9302-fa05-4265-b52f-334882c0e3d7",
   "metadata": {},
   "outputs": [],
   "source": [
    "dt.delete(\"product_id = 18013 and ts_load='2023-09-15 06:59:58.497'\")"
   ]
  }
 ],
 "metadata": {
  "kernelspec": {
   "display_name": "Python 3 (ipykernel)",
   "language": "python",
   "name": "python3"
  },
  "language_info": {
   "codemirror_mode": {
    "name": "ipython",
    "version": 3
   },
   "file_extension": ".py",
   "mimetype": "text/x-python",
   "name": "python",
   "nbconvert_exporter": "python",
   "pygments_lexer": "ipython3",
   "version": "3.8.0"
  }
 },
 "nbformat": 4,
 "nbformat_minor": 5
}
