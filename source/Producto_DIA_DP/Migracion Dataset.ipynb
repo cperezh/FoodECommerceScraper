{
 "cells": [
  {
   "cell_type": "code",
   "execution_count": 26,
   "id": "e3babebc-b820-4f3d-8adc-5131de5ab6ce",
   "metadata": {},
   "outputs": [],
   "source": [
    "import pandas as pd\n",
    "import sys\n",
    "import pyspark.sql\n",
    "from pyspark.sql.types import StructType, StructField, DateType, StringType, DoubleType, TimestampType\n",
    "from SparkDBUtils import SparkDB\n",
    "import datetime\n",
    "from pyspark.sql.functions import current_timestamp\n",
    "\n",
    "sparkdb = SparkDB()\n",
    "spark = sparkdb.spark"
   ]
  },
  {
   "cell_type": "code",
   "execution_count": 18,
   "id": "2a0dce28-a325-4ba1-95e9-f7e318a20cb2",
   "metadata": {},
   "outputs": [],
   "source": [
    "producto_dim_schema = StructType([\n",
    "        StructField(\"date\", DateType(), True),\n",
    "        StructField(\"product\", StringType(), True),\n",
    "        StructField(\"product_id\", StringType(), True),\n",
    "        StructField(\"brand\", StringType(), True),\n",
    "        StructField(\"price\", DoubleType(), True),\n",
    "        StructField(\"categories\", StringType(), True),\n",
    "        StructField(\"unit_price\", DoubleType(), True),\n",
    "        StructField(\"units\", StringType(), True),\n",
    "        StructField(\"discount\", DoubleType(), True),\n",
    "        StructField(\"ts_load\", TimestampType(), True)\n",
    "    ])\n",
    "\n",
    "dataset = spark.read.option(\"delimiter\", \";\").csv(\"../../dataset/dataset.csv\",  schema= producto_dim_schema, header=True)"
   ]
  },
  {
   "cell_type": "code",
   "execution_count": 19,
   "id": "d3354b52-7cca-4f35-8ad5-163b5236e5db",
   "metadata": {},
   "outputs": [
    {
     "data": {
      "text/plain": [
       "Row(date=datetime.date(2022, 11, 21), product='DIA MARI MARINERA langostino cocido 24/32 piezas caja 800 gr', product_id='8456', brand='DIA MARI MARINERA', price=7.99, categories=\"['Congelados', 'Pescado y marisco']\", unit_price=9.99, units='€/Kg.', discount=None, ts_load=None)"
      ]
     },
     "execution_count": 19,
     "metadata": {},
     "output_type": "execute_result"
    }
   ],
   "source": [
    "dataset.head()"
   ]
  },
  {
   "cell_type": "code",
   "execution_count": 27,
   "id": "7a8aa9c4-d92e-4417-a692-321fc70e0717",
   "metadata": {},
   "outputs": [],
   "source": [
    "dataset = dataset.withColumn(\"ts_load\", current_timestamp())"
   ]
  },
  {
   "cell_type": "code",
   "execution_count": 29,
   "id": "ab4b31a7-8eae-4166-b4c6-4141058d8299",
   "metadata": {},
   "outputs": [
    {
     "name": "stdout",
     "output_type": "stream",
     "text": [
      "+-------+--------------------+------------------+--------------+------------------+--------------------+------------------+---------------+--------+\n",
      "|summary|             product|        product_id|         brand|             price|          categories|        unit_price|          units|discount|\n",
      "+-------+--------------------+------------------+--------------+------------------+--------------------+------------------+---------------+--------+\n",
      "|  count|              258598|            258598|        251175|            258171|              258598|            258171|         258171|       0|\n",
      "|   mean|                null|184070.27116739505|          null| 3.335872270704507|                null|13.251186732823822|           null|    null|\n",
      "| stddev|                null| 93759.95093658975|          null|4.6163258336936766|                null| 59.14028297290332|           null|    null|\n",
      "|    min|1902 licor de gin...|               100|ABADIA DA COVA|              0.15|['Aceites. salsas...|              0.01|     €/100 GR.)|    null|\n",
      "|    25%|                null|          114671.0|          null|              1.59|                null|               2.6|           null|    null|\n",
      "|    50%|                null|          207831.0|          null|              2.45|                null|              6.83|           null|    null|\n",
      "|    75%|                null|          272033.0|          null|              3.79|                null|             13.25|           null|    null|\n",
      "|    max|Zumo tropical sin...|             99783|     Zumosfera|             305.0|['Yogures y postr...|           8764.71|€/ud.6,75 €/ud.|    null|\n",
      "+-------+--------------------+------------------+--------------+------------------+--------------------+------------------+---------------+--------+\n",
      "\n"
     ]
    }
   ],
   "source": [
    "dataset.summary().show()"
   ]
  },
  {
   "cell_type": "code",
   "execution_count": 28,
   "id": "4183f7d6-6170-4245-a41a-3c9e77161116",
   "metadata": {},
   "outputs": [
    {
     "data": {
      "text/plain": [
       "Row(date=datetime.date(2022, 11, 21), product='DIA MARI MARINERA langostino cocido 24/32 piezas caja 800 gr', product_id='8456', brand='DIA MARI MARINERA', price=7.99, categories=\"['Congelados', 'Pescado y marisco']\", unit_price=9.99, units='€/Kg.', discount=None, ts_load=datetime.datetime(2023, 9, 15, 6, 53, 39, 969000))"
      ]
     },
     "execution_count": 28,
     "metadata": {},
     "output_type": "execute_result"
    }
   ],
   "source": [
    "dataset.head()"
   ]
  },
  {
   "cell_type": "code",
   "execution_count": 30,
   "id": "72b313cd-142f-4736-97fc-4bc2cdd7fcee",
   "metadata": {},
   "outputs": [],
   "source": [
    "sparkdb.write_table(dataset, \"producto_dia.producto_dim\", \"append\")"
   ]
  },
  {
   "cell_type": "markdown",
   "id": "7575cd56-6e3f-4be6-a672-bd623d9a75aa",
   "metadata": {},
   "source": [
    "# Analisis de la migración"
   ]
  },
  {
   "cell_type": "code",
   "execution_count": 31,
   "id": "eed0eb9e-08e9-4dd5-81fb-1c13f1e6c1b6",
   "metadata": {},
   "outputs": [],
   "source": [
    "df_producto_dim = spark.table(\"producto_dia.producto_dim\")"
   ]
  },
  {
   "cell_type": "code",
   "execution_count": 33,
   "id": "ee9f5fd1-b544-44e3-a4f6-61d918b43ecf",
   "metadata": {},
   "outputs": [
    {
     "name": "stdout",
     "output_type": "stream",
     "text": [
      "+-------+-----------------+--------------------+--------------+--------------------+---------------+-----------------+------------------+--------+\n",
      "|summary|       product_id|             product|         brand|          categories|          units|            price|        unit_price|discount|\n",
      "+-------+-----------------+--------------------+--------------+--------------------+---------------+-----------------+------------------+--------+\n",
      "|  count|           283964|              281643|        274220|              283964|         282134|           282134|            282134|       0|\n",
      "|   mean|184860.8042095201|                null|          null|                null|           null|3.354801406421586|13.322132249216615|    null|\n",
      "| stddev|93761.80664985458|                null|          null|                null|           null|4.682288481983296| 77.87560232183472|    null|\n",
      "|    min|              100|1902 licor de gin...|ABADIA DA COVA|['Aceites. salsas...|     €/100 GR.)|             0.15|              0.01|    null|\n",
      "|    25%|         115789.0|                null|          null|                null|           null|             1.59|              2.54|    null|\n",
      "|    50%|         208914.0|                null|          null|                null|           null|             2.45|              6.71|    null|\n",
      "|    75%|         272368.0|                null|          null|                null|           null|             3.85|             13.16|    null|\n",
      "|    max|            99783|Zumo tropical sin...|     Zumosfera|                  []|€/ud.6,75 €/ud.|            305.0|           8764.71|    null|\n",
      "+-------+-----------------+--------------------+--------------+--------------------+---------------+-----------------+------------------+--------+\n",
      "\n"
     ]
    }
   ],
   "source": [
    "df_producto_dim.summary().show()"
   ]
  },
  {
   "cell_type": "code",
   "execution_count": 34,
   "id": "a61bbe3e-dba4-4e9c-9943-8dd2503ebce2",
   "metadata": {},
   "outputs": [
    {
     "name": "stderr",
     "output_type": "stream",
     "text": [
      "c:\\users\\carlos\\proyectos\\foodecommercescraper\\venv\\lib\\site-packages\\pyspark\\sql\\pandas\\conversion.py:248: FutureWarning: Passing unit-less datetime64 dtype to .astype is deprecated and will raise in a future version. Pass 'datetime64[ns]' instead\n",
      "  series = series.astype(t, copy=False)\n"
     ]
    }
   ],
   "source": [
    "df = df_producto_dim.toPandas()"
   ]
  },
  {
   "cell_type": "code",
   "execution_count": 41,
   "id": "12cae8f0-92e0-4e19-b116-4405a2a979cd",
   "metadata": {},
   "outputs": [
    {
     "name": "stdout",
     "output_type": "stream",
     "text": [
      "<class 'pandas.core.frame.DataFrame'>\n",
      "RangeIndex: 283964 entries, 0 to 283963\n",
      "Data columns (total 10 columns):\n",
      " #   Column      Non-Null Count   Dtype         \n",
      "---  ------      --------------   -----         \n",
      " 0   product_id  283964 non-null  object        \n",
      " 1   product     281643 non-null  object        \n",
      " 2   brand       274220 non-null  object        \n",
      " 3   categories  283964 non-null  object        \n",
      " 4   units       282134 non-null  object        \n",
      " 5   price       282134 non-null  float64       \n",
      " 6   unit_price  282134 non-null  float64       \n",
      " 7   discount    0 non-null       float64       \n",
      " 8   date        283964 non-null  object        \n",
      " 9   ts_load     283964 non-null  datetime64[ns]\n",
      "dtypes: datetime64[ns](1), float64(3), object(6)\n",
      "memory usage: 21.7+ MB\n"
     ]
    }
   ],
   "source": [
    "df.info()"
   ]
  },
  {
   "cell_type": "code",
   "execution_count": 42,
   "id": "fca9e5aa-3950-44ab-be9c-6b52f65b53df",
   "metadata": {},
   "outputs": [],
   "source": [
    "df[\"date\"]  = pd.to_datetime(df[\"date\"])"
   ]
  },
  {
   "cell_type": "code",
   "execution_count": 55,
   "id": "469974f5-6866-4092-b884-481578740b63",
   "metadata": {},
   "outputs": [
    {
     "data": {
      "text/plain": [
       "<AxesSubplot: xlabel='date,date'>"
      ]
     },
     "execution_count": 55,
     "metadata": {},
     "output_type": "execute_result"
    },
    {
     "data": {
      "image/png": "[encoded data removed]",
      "text/plain": [
       "<Figure size 640x480 with 1 Axes>"
      ]
     },
     "metadata": {},
     "output_type": "display_data"
    }
   ],
   "source": [
    "df.groupby([df.date.dt.year,df.date.dt.month])[\"product_id\"].agg(pd.Series.nunique).plot(kind=\"line\")"
   ]
  },
  {
   "cell_type": "code",
   "execution_count": null,
   "id": "d0362ccd-8e05-4595-b921-2007a9baae19",
   "metadata": {},
   "outputs": [],
   "source": []
  }
 ],
 "metadata": {
  "kernelspec": {
   "display_name": "Python 3 (ipykernel)",
   "language": "python",
   "name": "python3"
  },
  "language_info": {
   "codemirror_mode": {
    "name": "ipython",
    "version": 3
   },
   "file_extension": ".py",
   "mimetype": "text/x-python",
   "name": "python",
   "nbconvert_exporter": "python",
   "pygments_lexer": "ipython3",
   "version": "3.8.0"
  }
 },
 "nbformat": 4,
 "nbformat_minor": 5
}
