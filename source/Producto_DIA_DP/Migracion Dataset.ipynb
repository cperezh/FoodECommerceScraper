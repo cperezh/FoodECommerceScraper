{
 "cells": [
  {
   "cell_type": "code",
   "execution_count": 1,
   "id": "e3babebc-b820-4f3d-8adc-5131de5ab6ce",
   "metadata": {},
   "outputs": [],
   "source": [
    "import pandas as pd\n",
    "import sys\n",
    "import pyspark.sql\n",
    "from pyspark.sql.types import StructType, StructField, DateType, StringType, DoubleType, TimestampType\n",
    "from SparkDBUtils import SparkDB\n",
    "import datetime\n",
    "from pyspark.sql.functions import current_timestamp\n",
    "import delta\n",
    "import matplotlib.pyplot as plt\n",
    "import scipy\n",
    "\n",
    "sparkdb = SparkDB()\n",
    "spark = sparkdb.spark"
   ]
  },
  {
   "cell_type": "code",
   "execution_count": 18,
   "id": "2a0dce28-a325-4ba1-95e9-f7e318a20cb2",
   "metadata": {},
   "outputs": [],
   "source": [
    "producto_dim_schema = StructType([\n",
    "        StructField(\"date\", DateType(), True),\n",
    "        StructField(\"product\", StringType(), True),\n",
    "        StructField(\"product_id\", StringType(), True),\n",
    "        StructField(\"brand\", StringType(), True),\n",
    "        StructField(\"price\", DoubleType(), True),\n",
    "        StructField(\"categories\", StringType(), True),\n",
    "        StructField(\"unit_price\", DoubleType(), True),\n",
    "        StructField(\"units\", StringType(), True),\n",
    "        StructField(\"discount\", DoubleType(), True),\n",
    "        StructField(\"ts_load\", TimestampType(), True)\n",
    "    ])\n",
    "\n",
    "dataset = spark.read.option(\"delimiter\", \";\").csv(\"../../dataset/dataset.csv\",  schema= producto_dim_schema, header=True)"
   ]
  },
  {
   "cell_type": "code",
   "execution_count": 19,
   "id": "d3354b52-7cca-4f35-8ad5-163b5236e5db",
   "metadata": {},
   "outputs": [
    {
     "data": {
      "text/plain": [
       "Row(date=datetime.date(2022, 11, 21), product='DIA MARI MARINERA langostino cocido 24/32 piezas caja 800 gr', product_id='8456', brand='DIA MARI MARINERA', price=7.99, categories=\"['Congelados', 'Pescado y marisco']\", unit_price=9.99, units='€/Kg.', discount=None, ts_load=None)"
      ]
     },
     "execution_count": 19,
     "metadata": {},
     "output_type": "execute_result"
    }
   ],
   "source": [
    "dataset.head()"
   ]
  },
  {
   "cell_type": "code",
   "execution_count": 27,
   "id": "7a8aa9c4-d92e-4417-a692-321fc70e0717",
   "metadata": {},
   "outputs": [],
   "source": [
    "dataset = dataset.withColumn(\"ts_load\", current_timestamp())"
   ]
  },
  {
   "cell_type": "code",
   "execution_count": 29,
   "id": "ab4b31a7-8eae-4166-b4c6-4141058d8299",
   "metadata": {},
   "outputs": [
    {
     "name": "stdout",
     "output_type": "stream",
     "text": [
      "+-------+--------------------+------------------+--------------+------------------+--------------------+------------------+---------------+--------+\n",
      "|summary|             product|        product_id|         brand|             price|          categories|        unit_price|          units|discount|\n",
      "+-------+--------------------+------------------+--------------+------------------+--------------------+------------------+---------------+--------+\n",
      "|  count|              258598|            258598|        251175|            258171|              258598|            258171|         258171|       0|\n",
      "|   mean|                null|184070.27116739505|          null| 3.335872270704507|                null|13.251186732823822|           null|    null|\n",
      "| stddev|                null| 93759.95093658975|          null|4.6163258336936766|                null| 59.14028297290332|           null|    null|\n",
      "|    min|1902 licor de gin...|               100|ABADIA DA COVA|              0.15|['Aceites. salsas...|              0.01|     €/100 GR.)|    null|\n",
      "|    25%|                null|          114671.0|          null|              1.59|                null|               2.6|           null|    null|\n",
      "|    50%|                null|          207831.0|          null|              2.45|                null|              6.83|           null|    null|\n",
      "|    75%|                null|          272033.0|          null|              3.79|                null|             13.25|           null|    null|\n",
      "|    max|Zumo tropical sin...|             99783|     Zumosfera|             305.0|['Yogures y postr...|           8764.71|€/ud.6,75 €/ud.|    null|\n",
      "+-------+--------------------+------------------+--------------+------------------+--------------------+------------------+---------------+--------+\n",
      "\n"
     ]
    }
   ],
   "source": [
    "dataset.summary().show()"
   ]
  },
  {
   "cell_type": "code",
   "execution_count": 28,
   "id": "4183f7d6-6170-4245-a41a-3c9e77161116",
   "metadata": {},
   "outputs": [
    {
     "data": {
      "text/plain": [
       "Row(date=datetime.date(2022, 11, 21), product='DIA MARI MARINERA langostino cocido 24/32 piezas caja 800 gr', product_id='8456', brand='DIA MARI MARINERA', price=7.99, categories=\"['Congelados', 'Pescado y marisco']\", unit_price=9.99, units='€/Kg.', discount=None, ts_load=datetime.datetime(2023, 9, 15, 6, 53, 39, 969000))"
      ]
     },
     "execution_count": 28,
     "metadata": {},
     "output_type": "execute_result"
    }
   ],
   "source": [
    "dataset.head()"
   ]
  },
  {
   "cell_type": "code",
   "execution_count": 30,
   "id": "72b313cd-142f-4736-97fc-4bc2cdd7fcee",
   "metadata": {},
   "outputs": [],
   "source": [
    "sparkdb.write_table(dataset, \"producto_dia.producto_dim\", \"append\")"
   ]
  },
  {
   "cell_type": "markdown",
   "id": "7575cd56-6e3f-4be6-a672-bd623d9a75aa",
   "metadata": {},
   "source": [
    "# Analisis de la migración"
   ]
  },
  {
   "cell_type": "code",
   "execution_count": 2,
   "id": "eed0eb9e-08e9-4dd5-81fb-1c13f1e6c1b6",
   "metadata": {},
   "outputs": [],
   "source": [
    "df_producto_dim = spark.table(\"producto_dia.producto_dim\")"
   ]
  },
  {
   "cell_type": "code",
   "execution_count": 3,
   "id": "726a26e4-4cc4-4a76-99fc-5346e821752e",
   "metadata": {},
   "outputs": [
    {
     "name": "stderr",
     "output_type": "stream",
     "text": [
      "c:\\users\\carlos\\proyectos\\foodecommercescraper\\venv\\lib\\site-packages\\pyspark\\sql\\pandas\\conversion.py:248: FutureWarning: Passing unit-less datetime64 dtype to .astype is deprecated and will raise in a future version. Pass 'datetime64[ns]' instead\n",
      "  series = series.astype(t, copy=False)\n"
     ]
    }
   ],
   "source": [
    "df = df_producto_dim.toPandas()\n",
    "\n",
    "df[\"date\"]  = pd.to_datetime(df[\"date\"])\n",
    "df[\"price\"]  = df[\"price\"].astype(float)\n",
    "df[\"units\"]  = df[\"units\"].astype(str)\n",
    "\n",
    "df.drop(columns=[\"discount\"], inplace=True)"
   ]
  },
  {
   "cell_type": "code",
   "execution_count": 4,
   "id": "12cae8f0-92e0-4e19-b116-4405a2a979cd",
   "metadata": {},
   "outputs": [
    {
     "name": "stdout",
     "output_type": "stream",
     "text": [
      "<class 'pandas.core.frame.DataFrame'>\n",
      "RangeIndex: 302807 entries, 0 to 302806\n",
      "Data columns (total 9 columns):\n",
      " #   Column      Non-Null Count   Dtype         \n",
      "---  ------      --------------   -----         \n",
      " 0   product_id  302807 non-null  object        \n",
      " 1   product     302807 non-null  object        \n",
      " 2   brand       295410 non-null  object        \n",
      " 3   categories  302807 non-null  object        \n",
      " 4   units       302807 non-null  object        \n",
      " 5   price       302807 non-null  float64       \n",
      " 6   unit_price  302807 non-null  float64       \n",
      " 7   date        302807 non-null  datetime64[ns]\n",
      " 8   ts_load     302807 non-null  datetime64[ns]\n",
      "dtypes: datetime64[ns](2), float64(2), object(5)\n",
      "memory usage: 20.8+ MB\n"
     ]
    }
   ],
   "source": [
    "df.info()"
   ]
  },
  {
   "cell_type": "markdown",
   "id": "8e3878c4-cfde-4e3d-a13c-9ba4cbc35a55",
   "metadata": {},
   "source": [
    "# Analisis de campos"
   ]
  },
  {
   "cell_type": "markdown",
   "id": "5ad86fc9-4157-48dc-b038-9b0d5f0eef70",
   "metadata": {},
   "source": [
    "**PRODUCTO**"
   ]
  },
  {
   "cell_type": "markdown",
   "id": "cbbc481e-7855-447e-b381-e38170a70c3e",
   "metadata": {},
   "source": [
    "**NULOS**"
   ]
  },
  {
   "cell_type": "code",
   "execution_count": 12,
   "id": "d2c6c66f-10ea-456d-9922-7695fc9858ca",
   "metadata": {},
   "outputs": [],
   "source": [
    "nulos = df[df[\"product\"].isna()]"
   ]
  },
  {
   "cell_type": "code",
   "execution_count": 13,
   "id": "1786c57c-214f-4f4b-9438-8b547a0264fd",
   "metadata": {},
   "outputs": [
    {
     "data": {
      "text/plain": [
       "array([], dtype='datetime64[ns]')"
      ]
     },
     "execution_count": 13,
     "metadata": {},
     "output_type": "execute_result"
    }
   ],
   "source": [
    "nulos[\"date\"].unique()"
   ]
  },
  {
   "cell_type": "markdown",
   "id": "11677d3b-3388-4b5e-9a6e-4ecc0235382a",
   "metadata": {},
   "source": [
    "Borrado de los nulos en tabla"
   ]
  },
  {
   "cell_type": "code",
   "execution_count": 14,
   "id": "38aac0f7-9f57-4e23-b789-afb9cfffc044",
   "metadata": {},
   "outputs": [],
   "source": [
    "dt = delta.DeltaTable.forName(sparkdb.spark, \"producto_dia.producto_dim\")"
   ]
  },
  {
   "cell_type": "code",
   "execution_count": 15,
   "id": "175e5e93-c701-4a98-a7df-d198d7cdadc5",
   "metadata": {},
   "outputs": [],
   "source": [
    "dt.delete(\"product is null\")"
   ]
  },
  {
   "cell_type": "markdown",
   "id": "cb8c6971-bdbc-4cb3-96f4-c20533d5deb4",
   "metadata": {},
   "source": [
    "**BRAND**"
   ]
  },
  {
   "cell_type": "code",
   "execution_count": 12,
   "id": "6d99f18f-985c-4342-9ed8-5afb3724f258",
   "metadata": {},
   "outputs": [
    {
     "data": {
      "text/html": [
       "<div>\n",
       "<style scoped>\n",
       "    .dataframe tbody tr th:only-of-type {\n",
       "        vertical-align: middle;\n",
       "    }\n",
       "\n",
       "    .dataframe tbody tr th {\n",
       "        vertical-align: top;\n",
       "    }\n",
       "\n",
       "    .dataframe thead th {\n",
       "        text-align: right;\n",
       "    }\n",
       "</style>\n",
       "<table border=\"1\" class=\"dataframe\">\n",
       "  <thead>\n",
       "    <tr style=\"text-align: right;\">\n",
       "      <th></th>\n",
       "      <th>product_id</th>\n",
       "      <th>product</th>\n",
       "      <th>brand</th>\n",
       "      <th>categories</th>\n",
       "      <th>units</th>\n",
       "      <th>price</th>\n",
       "      <th>unit_price</th>\n",
       "      <th>date</th>\n",
       "      <th>ts_load</th>\n",
       "    </tr>\n",
       "  </thead>\n",
       "  <tbody>\n",
       "    <tr>\n",
       "      <th>2</th>\n",
       "      <td>74</td>\n",
       "      <td>Pimiento rojo unidad (600 gr aprox.)</td>\n",
       "      <td>None</td>\n",
       "      <td>['Frescos', 'Verduras y hortalizas', 'Tomates....</td>\n",
       "      <td>€/Kg.</td>\n",
       "      <td>1.73</td>\n",
       "      <td>2.89</td>\n",
       "      <td>2022-12-31</td>\n",
       "      <td>2023-09-15 06:59:58.497</td>\n",
       "    </tr>\n",
       "    <tr>\n",
       "      <th>85</th>\n",
       "      <td>60753</td>\n",
       "      <td>Boniato unidad (800 gr aprox.)</td>\n",
       "      <td>None</td>\n",
       "      <td>['Frescos', 'Verduras y hortalizas', 'Patatas ...</td>\n",
       "      <td>€/Kg.</td>\n",
       "      <td>1.75</td>\n",
       "      <td>2.19</td>\n",
       "      <td>2022-12-31</td>\n",
       "      <td>2023-09-15 06:59:58.497</td>\n",
       "    </tr>\n",
       "    <tr>\n",
       "      <th>123</th>\n",
       "      <td>272355</td>\n",
       "      <td>Pepino unidad (400 gr aprox.)</td>\n",
       "      <td>None</td>\n",
       "      <td>['Frescos', 'Verduras y hortalizas', 'Tomates....</td>\n",
       "      <td>€/Kg.</td>\n",
       "      <td>0.80</td>\n",
       "      <td>1.99</td>\n",
       "      <td>2022-12-31</td>\n",
       "      <td>2023-09-15 06:59:58.497</td>\n",
       "    </tr>\n",
       "    <tr>\n",
       "      <th>237</th>\n",
       "      <td>274011</td>\n",
       "      <td>Huevos frescos de gallinas criadas en suelo ca...</td>\n",
       "      <td>None</td>\n",
       "      <td>['Despensa', 'Lácteos y huevos', 'Huevos']</td>\n",
       "      <td>€/ud.</td>\n",
       "      <td>2.59</td>\n",
       "      <td>0.22</td>\n",
       "      <td>2022-12-31</td>\n",
       "      <td>2023-09-15 06:59:58.497</td>\n",
       "    </tr>\n",
       "    <tr>\n",
       "      <th>258</th>\n",
       "      <td>79</td>\n",
       "      <td>Limón unidad (310 gr aprox.)</td>\n",
       "      <td>None</td>\n",
       "      <td>['Frescos', 'Frutas', 'Cítricos']</td>\n",
       "      <td>€/Kg.</td>\n",
       "      <td>0.74</td>\n",
       "      <td>2.39</td>\n",
       "      <td>2022-12-31</td>\n",
       "      <td>2023-09-15 06:59:58.497</td>\n",
       "    </tr>\n",
       "    <tr>\n",
       "      <th>...</th>\n",
       "      <td>...</td>\n",
       "      <td>...</td>\n",
       "      <td>...</td>\n",
       "      <td>...</td>\n",
       "      <td>...</td>\n",
       "      <td>...</td>\n",
       "      <td>...</td>\n",
       "      <td>...</td>\n",
       "      <td>...</td>\n",
       "    </tr>\n",
       "    <tr>\n",
       "      <th>236183</th>\n",
       "      <td>143306</td>\n",
       "      <td>Cuartos traseros de pollo selección (peso apro...</td>\n",
       "      <td>None</td>\n",
       "      <td>['Frescos', 'Carne', 'Pollo']</td>\n",
       "      <td>€/Kg.</td>\n",
       "      <td>4.99</td>\n",
       "      <td>4.99</td>\n",
       "      <td>2023-03-11</td>\n",
       "      <td>2023-09-15 06:59:58.497</td>\n",
       "    </tr>\n",
       "    <tr>\n",
       "      <th>236252</th>\n",
       "      <td>174324</td>\n",
       "      <td>Manzana Yello bandeja 4 uds</td>\n",
       "      <td>None</td>\n",
       "      <td>['Frescos', 'Frutas', 'Manzanas']</td>\n",
       "      <td>€/Kg.</td>\n",
       "      <td>1.99</td>\n",
       "      <td>3.62</td>\n",
       "      <td>2023-03-11</td>\n",
       "      <td>2023-09-15 06:59:58.497</td>\n",
       "    </tr>\n",
       "    <tr>\n",
       "      <th>236265</th>\n",
       "      <td>40250</td>\n",
       "      <td>Pimientos asados a la leña en tiras bandeja 35...</td>\n",
       "      <td>None</td>\n",
       "      <td>['Platos preparados', 'Verduras']</td>\n",
       "      <td>€/Kg.</td>\n",
       "      <td>2.75</td>\n",
       "      <td>7.86</td>\n",
       "      <td>2023-03-11</td>\n",
       "      <td>2023-09-15 06:59:58.497</td>\n",
       "    </tr>\n",
       "    <tr>\n",
       "      <th>236337</th>\n",
       "      <td>116914</td>\n",
       "      <td>Tomate cherry bandeja 500 gr</td>\n",
       "      <td>None</td>\n",
       "      <td>['Frescos', 'Verduras y hortalizas', 'Tomates....</td>\n",
       "      <td>€/Kg.</td>\n",
       "      <td>2.39</td>\n",
       "      <td>4.78</td>\n",
       "      <td>2023-03-11</td>\n",
       "      <td>2023-09-15 06:59:58.497</td>\n",
       "    </tr>\n",
       "    <tr>\n",
       "      <th>236359</th>\n",
       "      <td>181571</td>\n",
       "      <td>Espárrago verde fino manojo 250 gr</td>\n",
       "      <td>None</td>\n",
       "      <td>['Frescos', 'Verduras y hortalizas', 'Otras ve...</td>\n",
       "      <td>€/Kg.</td>\n",
       "      <td>2.39</td>\n",
       "      <td>9.56</td>\n",
       "      <td>2023-03-11</td>\n",
       "      <td>2023-09-15 06:59:58.497</td>\n",
       "    </tr>\n",
       "  </tbody>\n",
       "</table>\n",
       "<p>7423 rows × 9 columns</p>\n",
       "</div>"
      ],
      "text/plain": [
       "       product_id                                            product brand  \\\n",
       "2              74               Pimiento rojo unidad (600 gr aprox.)  None   \n",
       "85          60753                     Boniato unidad (800 gr aprox.)  None   \n",
       "123        272355                      Pepino unidad (400 gr aprox.)  None   \n",
       "237        274011  Huevos frescos de gallinas criadas en suelo ca...  None   \n",
       "258            79                       Limón unidad (310 gr aprox.)  None   \n",
       "...           ...                                                ...   ...   \n",
       "236183     143306  Cuartos traseros de pollo selección (peso apro...  None   \n",
       "236252     174324                        Manzana Yello bandeja 4 uds  None   \n",
       "236265      40250  Pimientos asados a la leña en tiras bandeja 35...  None   \n",
       "236337     116914                       Tomate cherry bandeja 500 gr  None   \n",
       "236359     181571                 Espárrago verde fino manojo 250 gr  None   \n",
       "\n",
       "                                               categories  units  price  \\\n",
       "2       ['Frescos', 'Verduras y hortalizas', 'Tomates....  €/Kg.   1.73   \n",
       "85      ['Frescos', 'Verduras y hortalizas', 'Patatas ...  €/Kg.   1.75   \n",
       "123     ['Frescos', 'Verduras y hortalizas', 'Tomates....  €/Kg.   0.80   \n",
       "237            ['Despensa', 'Lácteos y huevos', 'Huevos']  €/ud.   2.59   \n",
       "258                     ['Frescos', 'Frutas', 'Cítricos']  €/Kg.   0.74   \n",
       "...                                                   ...    ...    ...   \n",
       "236183                      ['Frescos', 'Carne', 'Pollo']  €/Kg.   4.99   \n",
       "236252                  ['Frescos', 'Frutas', 'Manzanas']  €/Kg.   1.99   \n",
       "236265                  ['Platos preparados', 'Verduras']  €/Kg.   2.75   \n",
       "236337  ['Frescos', 'Verduras y hortalizas', 'Tomates....  €/Kg.   2.39   \n",
       "236359  ['Frescos', 'Verduras y hortalizas', 'Otras ve...  €/Kg.   2.39   \n",
       "\n",
       "        unit_price       date                 ts_load  \n",
       "2             2.89 2022-12-31 2023-09-15 06:59:58.497  \n",
       "85            2.19 2022-12-31 2023-09-15 06:59:58.497  \n",
       "123           1.99 2022-12-31 2023-09-15 06:59:58.497  \n",
       "237           0.22 2022-12-31 2023-09-15 06:59:58.497  \n",
       "258           2.39 2022-12-31 2023-09-15 06:59:58.497  \n",
       "...            ...        ...                     ...  \n",
       "236183        4.99 2023-03-11 2023-09-15 06:59:58.497  \n",
       "236252        3.62 2023-03-11 2023-09-15 06:59:58.497  \n",
       "236265        7.86 2023-03-11 2023-09-15 06:59:58.497  \n",
       "236337        4.78 2023-03-11 2023-09-15 06:59:58.497  \n",
       "236359        9.56 2023-03-11 2023-09-15 06:59:58.497  \n",
       "\n",
       "[7423 rows x 9 columns]"
      ]
     },
     "execution_count": 12,
     "metadata": {},
     "output_type": "execute_result"
    }
   ],
   "source": [
    "df[df[\"brand\"].isna()]"
   ]
  },
  {
   "cell_type": "markdown",
   "id": "3707bd35-a940-40d7-8eef-12a319a9ce5f",
   "metadata": {},
   "source": [
    "Comprobado por algunos enlaces, que son productos sin Marca. Parecen correctos"
   ]
  },
  {
   "cell_type": "markdown",
   "id": "88601d86-6d53-4f0c-b2e3-4320f4c2dabe",
   "metadata": {},
   "source": [
    "**PRICE**"
   ]
  },
  {
   "cell_type": "code",
   "execution_count": 15,
   "id": "64801862-2861-49a2-b2f1-5099f9a8b012",
   "metadata": {},
   "outputs": [
    {
     "data": {
      "text/html": [
       "<div>\n",
       "<style scoped>\n",
       "    .dataframe tbody tr th:only-of-type {\n",
       "        vertical-align: middle;\n",
       "    }\n",
       "\n",
       "    .dataframe tbody tr th {\n",
       "        vertical-align: top;\n",
       "    }\n",
       "\n",
       "    .dataframe thead th {\n",
       "        text-align: right;\n",
       "    }\n",
       "</style>\n",
       "<table border=\"1\" class=\"dataframe\">\n",
       "  <thead>\n",
       "    <tr style=\"text-align: right;\">\n",
       "      <th></th>\n",
       "      <th>product_id</th>\n",
       "      <th>product</th>\n",
       "      <th>brand</th>\n",
       "      <th>categories</th>\n",
       "      <th>units</th>\n",
       "      <th>price</th>\n",
       "      <th>unit_price</th>\n",
       "      <th>date</th>\n",
       "      <th>ts_load</th>\n",
       "    </tr>\n",
       "  </thead>\n",
       "  <tbody>\n",
       "    <tr>\n",
       "      <th>18376</th>\n",
       "      <td>289655</td>\n",
       "      <td>GILLETTE Labs máquina de afeitar blíster 1 ud ...</td>\n",
       "      <td>GILLETTE</td>\n",
       "      <td>['Cuidado personal', 'Afeitado']</td>\n",
       "      <td>None</td>\n",
       "      <td>NaN</td>\n",
       "      <td>NaN</td>\n",
       "      <td>2023-01-12</td>\n",
       "      <td>2023-09-15 06:59:58.497</td>\n",
       "    </tr>\n",
       "    <tr>\n",
       "      <th>166861</th>\n",
       "      <td>151270</td>\n",
       "      <td>BONTE acondicionador repara y protege cabello ...</td>\n",
       "      <td>BONTE</td>\n",
       "      <td>['Cuidado personal', 'Baño e higiene personal'...</td>\n",
       "      <td>None</td>\n",
       "      <td>NaN</td>\n",
       "      <td>NaN</td>\n",
       "      <td>2022-11-26</td>\n",
       "      <td>2023-09-15 06:59:58.497</td>\n",
       "    </tr>\n",
       "    <tr>\n",
       "      <th>166615</th>\n",
       "      <td>208693</td>\n",
       "      <td>DIA ambientador automático zen spray 250 ml</td>\n",
       "      <td>DIA</td>\n",
       "      <td>['Cuidado del hogar', 'Ambientadores']</td>\n",
       "      <td>None</td>\n",
       "      <td>NaN</td>\n",
       "      <td>NaN</td>\n",
       "      <td>2022-11-26</td>\n",
       "      <td>2023-09-15 06:59:58.497</td>\n",
       "    </tr>\n",
       "    <tr>\n",
       "      <th>166453</th>\n",
       "      <td>283429</td>\n",
       "      <td>YOPRO batido proteínas sabor chocolate envase ...</td>\n",
       "      <td>YOPRO</td>\n",
       "      <td>['Bebidas', 'Batidos y horchata']</td>\n",
       "      <td>None</td>\n",
       "      <td>NaN</td>\n",
       "      <td>NaN</td>\n",
       "      <td>2022-11-26</td>\n",
       "      <td>2023-09-15 06:59:58.497</td>\n",
       "    </tr>\n",
       "    <tr>\n",
       "      <th>166435</th>\n",
       "      <td>183420</td>\n",
       "      <td>DELICIAS DE DIA espárragos blancos IGP de Nava...</td>\n",
       "      <td>DELICIAS DE DIA</td>\n",
       "      <td>['Despensa', 'Conservas', 'Conservas vegetales']</td>\n",
       "      <td>None</td>\n",
       "      <td>NaN</td>\n",
       "      <td>NaN</td>\n",
       "      <td>2022-11-26</td>\n",
       "      <td>2023-09-15 06:59:58.497</td>\n",
       "    </tr>\n",
       "    <tr>\n",
       "      <th>...</th>\n",
       "      <td>...</td>\n",
       "      <td>...</td>\n",
       "      <td>...</td>\n",
       "      <td>...</td>\n",
       "      <td>...</td>\n",
       "      <td>...</td>\n",
       "      <td>...</td>\n",
       "      <td>...</td>\n",
       "      <td>...</td>\n",
       "    </tr>\n",
       "    <tr>\n",
       "      <th>58939</th>\n",
       "      <td>72170</td>\n",
       "      <td>DIA MARI MARINERA filetes de merluza del cabo ...</td>\n",
       "      <td>DIA MARI MARINERA</td>\n",
       "      <td>['Congelados', 'Pescado y marisco']</td>\n",
       "      <td>None</td>\n",
       "      <td>NaN</td>\n",
       "      <td>NaN</td>\n",
       "      <td>2023-01-25</td>\n",
       "      <td>2023-09-15 06:59:58.497</td>\n",
       "    </tr>\n",
       "    <tr>\n",
       "      <th>58875</th>\n",
       "      <td>274986</td>\n",
       "      <td>VEGEDIA postre vegetal de avena con albaricoqu...</td>\n",
       "      <td>VEGEDIA</td>\n",
       "      <td>['Despensa', 'Lácteos y huevos', 'Yogures']</td>\n",
       "      <td>None</td>\n",
       "      <td>NaN</td>\n",
       "      <td>NaN</td>\n",
       "      <td>2023-01-25</td>\n",
       "      <td>2023-09-15 06:59:58.497</td>\n",
       "    </tr>\n",
       "    <tr>\n",
       "      <th>58681</th>\n",
       "      <td>267858</td>\n",
       "      <td>DIA DULCE NOEL roscón de Reyes relleno sabor t...</td>\n",
       "      <td>DIA DULCE NOEL</td>\n",
       "      <td>['Dulces de navidad', 'Roscones de reyes']</td>\n",
       "      <td>None</td>\n",
       "      <td>NaN</td>\n",
       "      <td>NaN</td>\n",
       "      <td>2023-01-25</td>\n",
       "      <td>2023-09-15 06:59:58.497</td>\n",
       "    </tr>\n",
       "    <tr>\n",
       "      <th>58598</th>\n",
       "      <td>109413</td>\n",
       "      <td>DIA zumo naranja 100% exprimido sin pulpa bote...</td>\n",
       "      <td>DIA</td>\n",
       "      <td>['Bebidas', 'Zumos']</td>\n",
       "      <td>None</td>\n",
       "      <td>NaN</td>\n",
       "      <td>NaN</td>\n",
       "      <td>2023-01-25</td>\n",
       "      <td>2023-09-15 06:59:58.497</td>\n",
       "    </tr>\n",
       "    <tr>\n",
       "      <th>212668</th>\n",
       "      <td>3116</td>\n",
       "      <td>BIMBO Círculo rojo bizcocho con crema de cacao...</td>\n",
       "      <td>BIMBO</td>\n",
       "      <td>['Despensa', 'Desayunos y dulces', 'Bollería']</td>\n",
       "      <td>None</td>\n",
       "      <td>NaN</td>\n",
       "      <td>NaN</td>\n",
       "      <td>2022-12-08</td>\n",
       "      <td>2023-09-15 06:59:58.497</td>\n",
       "    </tr>\n",
       "  </tbody>\n",
       "</table>\n",
       "<p>427 rows × 9 columns</p>\n",
       "</div>"
      ],
      "text/plain": [
       "       product_id                                            product  \\\n",
       "18376      289655  GILLETTE Labs máquina de afeitar blíster 1 ud ...   \n",
       "166861     151270  BONTE acondicionador repara y protege cabello ...   \n",
       "166615     208693        DIA ambientador automático zen spray 250 ml   \n",
       "166453     283429  YOPRO batido proteínas sabor chocolate envase ...   \n",
       "166435     183420  DELICIAS DE DIA espárragos blancos IGP de Nava...   \n",
       "...           ...                                                ...   \n",
       "58939       72170  DIA MARI MARINERA filetes de merluza del cabo ...   \n",
       "58875      274986  VEGEDIA postre vegetal de avena con albaricoqu...   \n",
       "58681      267858  DIA DULCE NOEL roscón de Reyes relleno sabor t...   \n",
       "58598      109413  DIA zumo naranja 100% exprimido sin pulpa bote...   \n",
       "212668       3116  BIMBO Círculo rojo bizcocho con crema de cacao...   \n",
       "\n",
       "                    brand                                         categories  \\\n",
       "18376            GILLETTE                   ['Cuidado personal', 'Afeitado']   \n",
       "166861              BONTE  ['Cuidado personal', 'Baño e higiene personal'...   \n",
       "166615                DIA             ['Cuidado del hogar', 'Ambientadores']   \n",
       "166453              YOPRO                  ['Bebidas', 'Batidos y horchata']   \n",
       "166435    DELICIAS DE DIA   ['Despensa', 'Conservas', 'Conservas vegetales']   \n",
       "...                   ...                                                ...   \n",
       "58939   DIA MARI MARINERA                ['Congelados', 'Pescado y marisco']   \n",
       "58875             VEGEDIA        ['Despensa', 'Lácteos y huevos', 'Yogures']   \n",
       "58681      DIA DULCE NOEL         ['Dulces de navidad', 'Roscones de reyes']   \n",
       "58598                 DIA                               ['Bebidas', 'Zumos']   \n",
       "212668              BIMBO     ['Despensa', 'Desayunos y dulces', 'Bollería']   \n",
       "\n",
       "       units  price  unit_price       date                 ts_load  \n",
       "18376   None    NaN         NaN 2023-01-12 2023-09-15 06:59:58.497  \n",
       "166861  None    NaN         NaN 2022-11-26 2023-09-15 06:59:58.497  \n",
       "166615  None    NaN         NaN 2022-11-26 2023-09-15 06:59:58.497  \n",
       "166453  None    NaN         NaN 2022-11-26 2023-09-15 06:59:58.497  \n",
       "166435  None    NaN         NaN 2022-11-26 2023-09-15 06:59:58.497  \n",
       "...      ...    ...         ...        ...                     ...  \n",
       "58939   None    NaN         NaN 2023-01-25 2023-09-15 06:59:58.497  \n",
       "58875   None    NaN         NaN 2023-01-25 2023-09-15 06:59:58.497  \n",
       "58681   None    NaN         NaN 2023-01-25 2023-09-15 06:59:58.497  \n",
       "58598   None    NaN         NaN 2023-01-25 2023-09-15 06:59:58.497  \n",
       "212668  None    NaN         NaN 2022-12-08 2023-09-15 06:59:58.497  \n",
       "\n",
       "[427 rows x 9 columns]"
      ]
     },
     "execution_count": 15,
     "metadata": {},
     "output_type": "execute_result"
    }
   ],
   "source": [
    "df[df[\"price\"].isna()].sort_values(by=\"ts_load\", ascending=False)"
   ]
  },
  {
   "cell_type": "markdown",
   "id": "c66ad172-af58-4f01-8029-c3c7d63b4fef",
   "metadata": {},
   "source": [
    "Borrado de los productos sin precio"
   ]
  },
  {
   "cell_type": "code",
   "execution_count": 16,
   "id": "3190659e-559a-4916-9726-d1b89a96318d",
   "metadata": {},
   "outputs": [],
   "source": [
    "dt = delta.DeltaTable.forName(sparkdb.spark, \"producto_dia.producto_dim\")"
   ]
  },
  {
   "cell_type": "code",
   "execution_count": 18,
   "id": "16668700-fdf4-4123-a4b4-a0e646b433d6",
   "metadata": {},
   "outputs": [],
   "source": [
    "dt.delete(\"price is null\")"
   ]
  },
  {
   "cell_type": "markdown",
   "id": "1eb889a9-ad96-47ca-ac7e-2950a705e6a5",
   "metadata": {},
   "source": [
    "Analisis de total de productos unicos por fecha"
   ]
  },
  {
   "cell_type": "code",
   "execution_count": 14,
   "id": "72557d52-31e7-4e44-9c24-d34ddf648c5d",
   "metadata": {},
   "outputs": [
    {
     "data": {
      "text/plain": [
       "<AxesSubplot: xlabel='date'>"
      ]
     },
     "execution_count": 14,
     "metadata": {},
     "output_type": "execute_result"
    },
    {
     "data": {
      "image/png": "[encoded data removed]",
      "text/plain": [
       "<Figure size 640x480 with 1 Axes>"
      ]
     },
     "metadata": {},
     "output_type": "display_data"
    }
   ],
   "source": [
    "df.groupby(\"date\")[\"product_id\"].agg(pd.Series.nunique).plot(kind=\"bar\")"
   ]
  },
  {
   "cell_type": "markdown",
   "id": "7e0eaa0b-4cb1-4b23-affa-12820a35d1ff",
   "metadata": {},
   "source": [
    "**DUPLICADOS**"
   ]
  },
  {
   "cell_type": "code",
   "execution_count": 15,
   "id": "665cbbce-7192-4399-8743-16e7df1afb68",
   "metadata": {},
   "outputs": [
    {
     "data": {
      "text/plain": [
       "Series([], Name: product_id, dtype: int64)"
      ]
     },
     "execution_count": 15,
     "metadata": {},
     "output_type": "execute_result"
    }
   ],
   "source": [
    "df.groupby([\"product_id\",\"ts_load\",\"date\"])[\"product_id\"].count().loc[lambda x: x>=2]"
   ]
  },
  {
   "cell_type": "markdown",
   "id": "81d16d66-2572-44d6-bb66-1c8c0e8c077e",
   "metadata": {},
   "source": [
    "Borrado de los duplicados"
   ]
  },
  {
   "cell_type": "code",
   "execution_count": 7,
   "id": "b1b8e4dc-a160-4389-bc73-b157e5f014ac",
   "metadata": {},
   "outputs": [],
   "source": [
    "dt = delta.DeltaTable.forName(sparkdb.spark, \"producto_dia.producto_dim\")"
   ]
  },
  {
   "cell_type": "code",
   "execution_count": 27,
   "id": "19ff9302-fa05-4265-b52f-334882c0e3d7",
   "metadata": {},
   "outputs": [],
   "source": [
    "dt.delete(\"product_id = 18013 and ts_load='2023-09-15 06:59:58.497'\")"
   ]
  },
  {
   "cell_type": "markdown",
   "id": "a9d63f73-77d5-4ad1-a340-b0991215527d",
   "metadata": {},
   "source": [
    "**OUTLIERS**"
   ]
  },
  {
   "cell_type": "code",
   "execution_count": 37,
   "id": "596ea4af-5423-4e87-bd58-2c6326cc1cc1",
   "metadata": {},
   "outputs": [
    {
     "data": {
      "image/png": "[encoded data removed]",
      "text/plain": [
       "<Figure size 640x480 with 1 Axes>"
      ]
     },
     "metadata": {},
     "output_type": "display_data"
    }
   ],
   "source": [
    "bp = plt.boxplot(df[\"unit_price\"])"
   ]
  },
  {
   "cell_type": "code",
   "execution_count": 61,
   "id": "434c17ad-6be3-4d77-adaa-f7b49a0053b7",
   "metadata": {},
   "outputs": [
    {
     "data": {
      "text/plain": [
       "[0.01, 29.0]"
      ]
     },
     "execution_count": 61,
     "metadata": {},
     "output_type": "execute_result"
    }
   ],
   "source": [
    "whiskers = [whisker.get_ydata()[1] for whisker in bp[\"whiskers\"]]\n",
    "whiskers"
   ]
  },
  {
   "cell_type": "code",
   "execution_count": 65,
   "id": "7fab19b3-a04b-4727-8828-d440c9184868",
   "metadata": {},
   "outputs": [
    {
     "data": {
      "text/html": [
       "<div>\n",
       "<style scoped>\n",
       "    .dataframe tbody tr th:only-of-type {\n",
       "        vertical-align: middle;\n",
       "    }\n",
       "\n",
       "    .dataframe tbody tr th {\n",
       "        vertical-align: top;\n",
       "    }\n",
       "\n",
       "    .dataframe thead th {\n",
       "        text-align: right;\n",
       "    }\n",
       "</style>\n",
       "<table border=\"1\" class=\"dataframe\">\n",
       "  <thead>\n",
       "    <tr style=\"text-align: right;\">\n",
       "      <th></th>\n",
       "      <th>product_id</th>\n",
       "      <th>product</th>\n",
       "      <th>brand</th>\n",
       "      <th>categories</th>\n",
       "      <th>units</th>\n",
       "      <th>price</th>\n",
       "      <th>unit_price</th>\n",
       "      <th>date</th>\n",
       "      <th>ts_load</th>\n",
       "    </tr>\n",
       "  </thead>\n",
       "  <tbody>\n",
       "    <tr>\n",
       "      <th>296712</th>\n",
       "      <td>275792</td>\n",
       "      <td>Setas shiitake al natural</td>\n",
       "      <td>Alta</td>\n",
       "      <td>[Conservas. caldos y cremas, Conservas vegetales]</td>\n",
       "      <td>€/LITRO)</td>\n",
       "      <td>1.49</td>\n",
       "      <td>8764.71</td>\n",
       "      <td>2023-09-18</td>\n",
       "      <td>2023-09-18 07:46:30.557752</td>\n",
       "    </tr>\n",
       "    <tr>\n",
       "      <th>272170</th>\n",
       "      <td>275793</td>\n",
       "      <td>Setas nameko</td>\n",
       "      <td>Alta</td>\n",
       "      <td>[Conservas. caldos y cremas, Conservas vegetales]</td>\n",
       "      <td>€/LITRO)</td>\n",
       "      <td>1.49</td>\n",
       "      <td>8764.71</td>\n",
       "      <td>2023-09-13</td>\n",
       "      <td>2023-09-13 07:44:02.679322</td>\n",
       "    </tr>\n",
       "    <tr>\n",
       "      <th>253018</th>\n",
       "      <td>275792</td>\n",
       "      <td>Setas shiitake al natural</td>\n",
       "      <td>Alta</td>\n",
       "      <td>['Conservas. caldos y cremas', 'Conservas vege...</td>\n",
       "      <td>€/LITRO)</td>\n",
       "      <td>1.49</td>\n",
       "      <td>8764.71</td>\n",
       "      <td>2023-09-02</td>\n",
       "      <td>2023-09-15 06:59:58.497000</td>\n",
       "    </tr>\n",
       "    <tr>\n",
       "      <th>283004</th>\n",
       "      <td>275792</td>\n",
       "      <td>Setas shiitake al natural Alta cocina frasco 0...</td>\n",
       "      <td>Alta</td>\n",
       "      <td>[Conservas. caldos y cremas, Conservas vegetales]</td>\n",
       "      <td>€/LITRO)</td>\n",
       "      <td>1.49</td>\n",
       "      <td>8764.71</td>\n",
       "      <td>2023-09-19</td>\n",
       "      <td>2023-09-19 07:48:44.414916</td>\n",
       "    </tr>\n",
       "    <tr>\n",
       "      <th>273596</th>\n",
       "      <td>275793</td>\n",
       "      <td>Setas nameko</td>\n",
       "      <td>Alta</td>\n",
       "      <td>[Conservas. caldos y cremas, Conservas vegetales]</td>\n",
       "      <td>€/LITRO)</td>\n",
       "      <td>1.49</td>\n",
       "      <td>8764.71</td>\n",
       "      <td>2023-09-12</td>\n",
       "      <td>2023-09-12 06:25:54.927553</td>\n",
       "    </tr>\n",
       "    <tr>\n",
       "      <th>...</th>\n",
       "      <td>...</td>\n",
       "      <td>...</td>\n",
       "      <td>...</td>\n",
       "      <td>...</td>\n",
       "      <td>...</td>\n",
       "      <td>...</td>\n",
       "      <td>...</td>\n",
       "      <td>...</td>\n",
       "      <td>...</td>\n",
       "    </tr>\n",
       "    <tr>\n",
       "      <th>261102</th>\n",
       "      <td>253749</td>\n",
       "      <td>Filetes de caballa en aceite de oliva bajo en ...</td>\n",
       "      <td>Calvo</td>\n",
       "      <td>[Conservas. caldos y cremas, Atún. bonito y ca...</td>\n",
       "      <td>€/KILO)</td>\n",
       "      <td>2.39</td>\n",
       "      <td>29.15</td>\n",
       "      <td>2023-09-14</td>\n",
       "      <td>2023-09-14 07:15:42.231026</td>\n",
       "    </tr>\n",
       "    <tr>\n",
       "      <th>228920</th>\n",
       "      <td>253749</td>\n",
       "      <td>CALVO filetes de caballa en aceite de oliva ba...</td>\n",
       "      <td>CALVO</td>\n",
       "      <td>['Despensa', 'Conservas', 'Conservas de pescado']</td>\n",
       "      <td>€/Kg.</td>\n",
       "      <td>2.39</td>\n",
       "      <td>29.15</td>\n",
       "      <td>2023-02-28</td>\n",
       "      <td>2023-09-15 06:59:58.497000</td>\n",
       "    </tr>\n",
       "    <tr>\n",
       "      <th>66956</th>\n",
       "      <td>227498</td>\n",
       "      <td>DR. OETKER almendra molida bolsa 130 gr</td>\n",
       "      <td>DR</td>\n",
       "      <td>['Despensa', 'Desayunos y dulces', 'Preparació...</td>\n",
       "      <td>€/Kg.</td>\n",
       "      <td>3.79</td>\n",
       "      <td>29.15</td>\n",
       "      <td>2023-02-10</td>\n",
       "      <td>2023-09-15 06:59:58.497000</td>\n",
       "    </tr>\n",
       "    <tr>\n",
       "      <th>67391</th>\n",
       "      <td>245052</td>\n",
       "      <td>DR. OETKER almendras en láminas bolsa 125 gr</td>\n",
       "      <td>DR</td>\n",
       "      <td>['Despensa', 'Desayunos y dulces', 'Preparació...</td>\n",
       "      <td>€/Kg.</td>\n",
       "      <td>3.64</td>\n",
       "      <td>29.12</td>\n",
       "      <td>2023-02-10</td>\n",
       "      <td>2023-09-15 06:59:58.497000</td>\n",
       "    </tr>\n",
       "    <tr>\n",
       "      <th>215280</th>\n",
       "      <td>245052</td>\n",
       "      <td>DR. OETKER almendras en láminas bolsa 125 gr</td>\n",
       "      <td>DR</td>\n",
       "      <td>['Despensa', 'Desayunos y dulces', 'Preparació...</td>\n",
       "      <td>€/Kg.</td>\n",
       "      <td>3.64</td>\n",
       "      <td>29.12</td>\n",
       "      <td>2023-02-11</td>\n",
       "      <td>2023-09-15 06:59:58.497000</td>\n",
       "    </tr>\n",
       "  </tbody>\n",
       "</table>\n",
       "<p>20835 rows × 9 columns</p>\n",
       "</div>"
      ],
      "text/plain": [
       "       product_id                                            product  brand  \\\n",
       "296712     275792                         Setas shiitake al natural    Alta   \n",
       "272170     275793                                      Setas nameko    Alta   \n",
       "253018     275792                         Setas shiitake al natural    Alta   \n",
       "283004     275792  Setas shiitake al natural Alta cocina frasco 0...   Alta   \n",
       "273596     275793                                      Setas nameko    Alta   \n",
       "...           ...                                                ...    ...   \n",
       "261102     253749  Filetes de caballa en aceite de oliva bajo en ...  Calvo   \n",
       "228920     253749  CALVO filetes de caballa en aceite de oliva ba...  CALVO   \n",
       "66956      227498            DR. OETKER almendra molida bolsa 130 gr     DR   \n",
       "67391      245052       DR. OETKER almendras en láminas bolsa 125 gr     DR   \n",
       "215280     245052       DR. OETKER almendras en láminas bolsa 125 gr     DR   \n",
       "\n",
       "                                               categories     units  price  \\\n",
       "296712  [Conservas. caldos y cremas, Conservas vegetales]  €/LITRO)   1.49   \n",
       "272170  [Conservas. caldos y cremas, Conservas vegetales]  €/LITRO)   1.49   \n",
       "253018  ['Conservas. caldos y cremas', 'Conservas vege...  €/LITRO)   1.49   \n",
       "283004  [Conservas. caldos y cremas, Conservas vegetales]  €/LITRO)   1.49   \n",
       "273596  [Conservas. caldos y cremas, Conservas vegetales]  €/LITRO)   1.49   \n",
       "...                                                   ...       ...    ...   \n",
       "261102  [Conservas. caldos y cremas, Atún. bonito y ca...   €/KILO)   2.39   \n",
       "228920  ['Despensa', 'Conservas', 'Conservas de pescado']     €/Kg.   2.39   \n",
       "66956   ['Despensa', 'Desayunos y dulces', 'Preparació...     €/Kg.   3.79   \n",
       "67391   ['Despensa', 'Desayunos y dulces', 'Preparació...     €/Kg.   3.64   \n",
       "215280  ['Despensa', 'Desayunos y dulces', 'Preparació...     €/Kg.   3.64   \n",
       "\n",
       "        unit_price       date                    ts_load  \n",
       "296712     8764.71 2023-09-18 2023-09-18 07:46:30.557752  \n",
       "272170     8764.71 2023-09-13 2023-09-13 07:44:02.679322  \n",
       "253018     8764.71 2023-09-02 2023-09-15 06:59:58.497000  \n",
       "283004     8764.71 2023-09-19 2023-09-19 07:48:44.414916  \n",
       "273596     8764.71 2023-09-12 2023-09-12 06:25:54.927553  \n",
       "...            ...        ...                        ...  \n",
       "261102       29.15 2023-09-14 2023-09-14 07:15:42.231026  \n",
       "228920       29.15 2023-02-28 2023-09-15 06:59:58.497000  \n",
       "66956        29.15 2023-02-10 2023-09-15 06:59:58.497000  \n",
       "67391        29.12 2023-02-10 2023-09-15 06:59:58.497000  \n",
       "215280       29.12 2023-02-11 2023-09-15 06:59:58.497000  \n",
       "\n",
       "[20835 rows x 9 columns]"
      ]
     },
     "execution_count": 65,
     "metadata": {},
     "output_type": "execute_result"
    }
   ],
   "source": [
    "df[df[\"unit_price\"]>whiskers[1]].sort_values(by=\"unit_price\", ascending=False)"
   ]
  },
  {
   "cell_type": "code",
   "execution_count": 5,
   "id": "a1a3c4de-015f-4baa-8086-e6d25d9e7564",
   "metadata": {},
   "outputs": [
    {
     "data": {
      "text/plain": [
       "<AxesSubplot: ylabel='Density'>"
      ]
     },
     "execution_count": 5,
     "metadata": {},
     "output_type": "execute_result"
    },
    {
     "data": {
      "image/png": "[encoded data removed]",
      "text/plain": [
       "<Figure size 640x480 with 1 Axes>"
      ]
     },
     "metadata": {},
     "output_type": "display_data"
    }
   ],
   "source": [
    "df[\"unit_price\"].plot(kind=\"density\")"
   ]
  },
  {
   "cell_type": "code",
   "execution_count": null,
   "id": "5fa07f15-6f5b-469e-b650-e311e3c952b7",
   "metadata": {},
   "outputs": [],
   "source": []
  }
 ],
 "metadata": {
  "kernelspec": {
   "display_name": "Python 3 (ipykernel)",
   "language": "python",
   "name": "python3"
  },
  "language_info": {
   "codemirror_mode": {
    "name": "ipython",
    "version": 3
   },
   "file_extension": ".py",
   "mimetype": "text/x-python",
   "name": "python",
   "nbconvert_exporter": "python",
   "pygments_lexer": "ipython3",
   "version": "3.8.0"
  }
 },
 "nbformat": 4,
 "nbformat_minor": 5
}
