{
 "cells": [
  {
   "cell_type": "code",
   "execution_count": 1,
   "id": "e3babebc-b820-4f3d-8adc-5131de5ab6ce",
   "metadata": {},
   "outputs": [],
   "source": [
    "import pandas as pd\n",
    "import sys\n",
    "import pyspark.sql\n",
    "from pyspark.sql.types import StructType, StructField, DateType, StringType, DoubleType, TimestampType\n",
    "from SparkDBUtils import SparkDB\n",
    "import datetime\n",
    "from pyspark.sql.functions import current_timestamp\n",
    "\n",
    "sparkdb = SparkDB()\n",
    "spark = sparkdb.spark"
   ]
  },
  {
   "cell_type": "code",
   "execution_count": 18,
   "id": "2a0dce28-a325-4ba1-95e9-f7e318a20cb2",
   "metadata": {},
   "outputs": [],
   "source": [
    "producto_dim_schema = StructType([\n",
    "        StructField(\"date\", DateType(), True),\n",
    "        StructField(\"product\", StringType(), True),\n",
    "        StructField(\"product_id\", StringType(), True),\n",
    "        StructField(\"brand\", StringType(), True),\n",
    "        StructField(\"price\", DoubleType(), True),\n",
    "        StructField(\"categories\", StringType(), True),\n",
    "        StructField(\"unit_price\", DoubleType(), True),\n",
    "        StructField(\"units\", StringType(), True),\n",
    "        StructField(\"discount\", DoubleType(), True),\n",
    "        StructField(\"ts_load\", TimestampType(), True)\n",
    "    ])\n",
    "\n",
    "dataset = spark.read.option(\"delimiter\", \";\").csv(\"../../dataset/dataset.csv\",  schema= producto_dim_schema, header=True)"
   ]
  },
  {
   "cell_type": "code",
   "execution_count": 19,
   "id": "d3354b52-7cca-4f35-8ad5-163b5236e5db",
   "metadata": {},
   "outputs": [
    {
     "data": {
      "text/plain": [
       "Row(date=datetime.date(2022, 11, 21), product='DIA MARI MARINERA langostino cocido 24/32 piezas caja 800 gr', product_id='8456', brand='DIA MARI MARINERA', price=7.99, categories=\"['Congelados', 'Pescado y marisco']\", unit_price=9.99, units='€/Kg.', discount=None, ts_load=None)"
      ]
     },
     "execution_count": 19,
     "metadata": {},
     "output_type": "execute_result"
    }
   ],
   "source": [
    "dataset.head()"
   ]
  },
  {
   "cell_type": "code",
   "execution_count": 27,
   "id": "7a8aa9c4-d92e-4417-a692-321fc70e0717",
   "metadata": {},
   "outputs": [],
   "source": [
    "dataset = dataset.withColumn(\"ts_load\", current_timestamp())"
   ]
  },
  {
   "cell_type": "code",
   "execution_count": 29,
   "id": "ab4b31a7-8eae-4166-b4c6-4141058d8299",
   "metadata": {},
   "outputs": [
    {
     "name": "stdout",
     "output_type": "stream",
     "text": [
      "+-------+--------------------+------------------+--------------+------------------+--------------------+------------------+---------------+--------+\n",
      "|summary|             product|        product_id|         brand|             price|          categories|        unit_price|          units|discount|\n",
      "+-------+--------------------+------------------+--------------+------------------+--------------------+------------------+---------------+--------+\n",
      "|  count|              258598|            258598|        251175|            258171|              258598|            258171|         258171|       0|\n",
      "|   mean|                null|184070.27116739505|          null| 3.335872270704507|                null|13.251186732823822|           null|    null|\n",
      "| stddev|                null| 93759.95093658975|          null|4.6163258336936766|                null| 59.14028297290332|           null|    null|\n",
      "|    min|1902 licor de gin...|               100|ABADIA DA COVA|              0.15|['Aceites. salsas...|              0.01|     €/100 GR.)|    null|\n",
      "|    25%|                null|          114671.0|          null|              1.59|                null|               2.6|           null|    null|\n",
      "|    50%|                null|          207831.0|          null|              2.45|                null|              6.83|           null|    null|\n",
      "|    75%|                null|          272033.0|          null|              3.79|                null|             13.25|           null|    null|\n",
      "|    max|Zumo tropical sin...|             99783|     Zumosfera|             305.0|['Yogures y postr...|           8764.71|€/ud.6,75 €/ud.|    null|\n",
      "+-------+--------------------+------------------+--------------+------------------+--------------------+------------------+---------------+--------+\n",
      "\n"
     ]
    }
   ],
   "source": [
    "dataset.summary().show()"
   ]
  },
  {
   "cell_type": "code",
   "execution_count": 28,
   "id": "4183f7d6-6170-4245-a41a-3c9e77161116",
   "metadata": {},
   "outputs": [
    {
     "data": {
      "text/plain": [
       "Row(date=datetime.date(2022, 11, 21), product='DIA MARI MARINERA langostino cocido 24/32 piezas caja 800 gr', product_id='8456', brand='DIA MARI MARINERA', price=7.99, categories=\"['Congelados', 'Pescado y marisco']\", unit_price=9.99, units='€/Kg.', discount=None, ts_load=datetime.datetime(2023, 9, 15, 6, 53, 39, 969000))"
      ]
     },
     "execution_count": 28,
     "metadata": {},
     "output_type": "execute_result"
    }
   ],
   "source": [
    "dataset.head()"
   ]
  },
  {
   "cell_type": "code",
   "execution_count": 30,
   "id": "72b313cd-142f-4736-97fc-4bc2cdd7fcee",
   "metadata": {},
   "outputs": [],
   "source": [
    "sparkdb.write_table(dataset, \"producto_dia.producto_dim\", \"append\")"
   ]
  },
  {
   "cell_type": "markdown",
   "id": "7575cd56-6e3f-4be6-a672-bd623d9a75aa",
   "metadata": {},
   "source": [
    "# Analisis de la migración"
   ]
  },
  {
   "cell_type": "code",
   "execution_count": 52,
   "id": "eed0eb9e-08e9-4dd5-81fb-1c13f1e6c1b6",
   "metadata": {},
   "outputs": [],
   "source": [
    "df_producto_dim = spark.table(\"producto_dia.producto_dim\")"
   ]
  },
  {
   "cell_type": "code",
   "execution_count": 53,
   "id": "ee9f5fd1-b544-44e3-a4f6-61d918b43ecf",
   "metadata": {},
   "outputs": [
    {
     "name": "stdout",
     "output_type": "stream",
     "text": [
      "+-------+------------------+--------------------+--------------+--------------------+---------------+------------------+------------------+--------+\n",
      "|summary|        product_id|             product|         brand|          categories|          units|             price|        unit_price|discount|\n",
      "+-------+------------------+--------------------+--------------+--------------------+---------------+------------------+------------------+--------+\n",
      "|  count|            290347|              288026|        280603|              290347|         288517|            288517|            288517|       0|\n",
      "|   mean|184993.69086489687|                null|          null|                null|           null|3.3607598858970102|13.359994697021252|    null|\n",
      "| stddev| 93739.43898014512|                null|          null|                null|           null| 4.704781365827802| 81.74390111868372|    null|\n",
      "|    min|               100|1902 licor de gin...|ABADIA DA COVA|['Aceites. salsas...|     €/100 GR.)|              0.15|              0.01|    null|\n",
      "|    25%|          116098.0|                null|          null|                null|           null|              1.59|               2.5|    null|\n",
      "|    50%|          209379.0|                null|          null|                null|           null|              2.45|               6.7|    null|\n",
      "|    75%|          272408.0|                null|          null|                null|           null|              3.85|             13.16|    null|\n",
      "|    max|             99783|Zumo tropical sin...|     Zumosfera|                  []|€/ud.6,75 €/ud.|             305.0|           8764.71|    null|\n",
      "+-------+------------------+--------------------+--------------+--------------------+---------------+------------------+------------------+--------+\n",
      "\n"
     ]
    }
   ],
   "source": [
    "df_producto_dim.summary().show()"
   ]
  },
  {
   "cell_type": "code",
   "execution_count": 56,
   "id": "a61bbe3e-dba4-4e9c-9943-8dd2503ebce2",
   "metadata": {},
   "outputs": [
    {
     "name": "stderr",
     "output_type": "stream",
     "text": [
      "c:\\users\\carlos\\proyectos\\foodecommercescraper\\venv\\lib\\site-packages\\pyspark\\sql\\pandas\\conversion.py:248: FutureWarning: Passing unit-less datetime64 dtype to .astype is deprecated and will raise in a future version. Pass 'datetime64[ns]' instead\n",
      "  series = series.astype(t, copy=False)\n"
     ]
    }
   ],
   "source": [
    "df = df_producto_dim.toPandas()\n",
    "df[\"date\"]  = pd.to_datetime(df[\"date\"])\n",
    "df.drop(columns=[\"discount\"], inplace=True)"
   ]
  },
  {
   "cell_type": "code",
   "execution_count": 57,
   "id": "12cae8f0-92e0-4e19-b116-4405a2a979cd",
   "metadata": {},
   "outputs": [
    {
     "name": "stdout",
     "output_type": "stream",
     "text": [
      "<class 'pandas.core.frame.DataFrame'>\n",
      "RangeIndex: 290347 entries, 0 to 290346\n",
      "Data columns (total 9 columns):\n",
      " #   Column      Non-Null Count   Dtype         \n",
      "---  ------      --------------   -----         \n",
      " 0   product_id  290347 non-null  object        \n",
      " 1   product     288026 non-null  object        \n",
      " 2   brand       280603 non-null  object        \n",
      " 3   categories  290347 non-null  object        \n",
      " 4   units       288517 non-null  object        \n",
      " 5   price       288517 non-null  float64       \n",
      " 6   unit_price  288517 non-null  float64       \n",
      " 7   date        290347 non-null  datetime64[ns]\n",
      " 8   ts_load     290347 non-null  datetime64[ns]\n",
      "dtypes: datetime64[ns](2), float64(2), object(5)\n",
      "memory usage: 19.9+ MB\n"
     ]
    }
   ],
   "source": [
    "df.info()"
   ]
  },
  {
   "cell_type": "markdown",
   "id": "8e3878c4-cfde-4e3d-a13c-9ba4cbc35a55",
   "metadata": {},
   "source": [
    "# Analisis de campos"
   ]
  },
  {
   "cell_type": "markdown",
   "id": "cbbc481e-7855-447e-b381-e38170a70c3e",
   "metadata": {},
   "source": [
    "**NULOS**"
   ]
  },
  {
   "cell_type": "code",
   "execution_count": 62,
   "id": "d2c6c66f-10ea-456d-9922-7695fc9858ca",
   "metadata": {},
   "outputs": [
    {
     "data": {
      "text/html": [
       "<div>\n",
       "<style scoped>\n",
       "    .dataframe tbody tr th:only-of-type {\n",
       "        vertical-align: middle;\n",
       "    }\n",
       "\n",
       "    .dataframe tbody tr th {\n",
       "        vertical-align: top;\n",
       "    }\n",
       "\n",
       "    .dataframe thead th {\n",
       "        text-align: right;\n",
       "    }\n",
       "</style>\n",
       "<table border=\"1\" class=\"dataframe\">\n",
       "  <thead>\n",
       "    <tr style=\"text-align: right;\">\n",
       "      <th></th>\n",
       "      <th>product_id</th>\n",
       "      <th>product</th>\n",
       "      <th>brand</th>\n",
       "      <th>categories</th>\n",
       "      <th>units</th>\n",
       "      <th>price</th>\n",
       "      <th>unit_price</th>\n",
       "      <th>date</th>\n",
       "      <th>ts_load</th>\n",
       "    </tr>\n",
       "  </thead>\n",
       "  <tbody>\n",
       "    <tr>\n",
       "      <th>6</th>\n",
       "      <td>204919</td>\n",
       "      <td>Salmón en rodaja unidad (peso aprox. 430 gr)</td>\n",
       "      <td>None</td>\n",
       "      <td>['Frescos', 'Pescado y marisco', 'Pescado y ma...</td>\n",
       "      <td>€/Kg.</td>\n",
       "      <td>6.45</td>\n",
       "      <td>14.99</td>\n",
       "      <td>2022-12-10</td>\n",
       "      <td>2023-09-15 06:59:58.497000</td>\n",
       "    </tr>\n",
       "    <tr>\n",
       "      <th>13</th>\n",
       "      <td>187457</td>\n",
       "      <td>Monjas rosquillas artesanas 275 gr</td>\n",
       "      <td>None</td>\n",
       "      <td>['Despensa', 'Desayunos y dulces', 'Bollería']</td>\n",
       "      <td>€/Kg.</td>\n",
       "      <td>1.95</td>\n",
       "      <td>7.09</td>\n",
       "      <td>2022-12-10</td>\n",
       "      <td>2023-09-15 06:59:58.497000</td>\n",
       "    </tr>\n",
       "    <tr>\n",
       "      <th>14</th>\n",
       "      <td>21726</td>\n",
       "      <td>Fresón tarrina 250 gr</td>\n",
       "      <td>None</td>\n",
       "      <td>['Frescos', 'Frutas', 'Frutas de temporada']</td>\n",
       "      <td>€/Kg.</td>\n",
       "      <td>1.99</td>\n",
       "      <td>7.96</td>\n",
       "      <td>2022-12-10</td>\n",
       "      <td>2023-09-15 06:59:58.497000</td>\n",
       "    </tr>\n",
       "    <tr>\n",
       "      <th>37</th>\n",
       "      <td>11461</td>\n",
       "      <td>Cogollos bandeja 3 uds</td>\n",
       "      <td>None</td>\n",
       "      <td>['Frescos', 'Verduras y hortalizas', 'Lechugas...</td>\n",
       "      <td>€/ud.</td>\n",
       "      <td>1.19</td>\n",
       "      <td>0.40</td>\n",
       "      <td>2022-12-10</td>\n",
       "      <td>2023-09-15 06:59:58.497000</td>\n",
       "    </tr>\n",
       "    <tr>\n",
       "      <th>115</th>\n",
       "      <td>59836</td>\n",
       "      <td>Corazones de lechuga romana bandeja 2 uds</td>\n",
       "      <td>None</td>\n",
       "      <td>['Frescos', 'Verduras y hortalizas', 'Lechugas...</td>\n",
       "      <td>€/ud.</td>\n",
       "      <td>1.69</td>\n",
       "      <td>0.85</td>\n",
       "      <td>2022-12-10</td>\n",
       "      <td>2023-09-15 06:59:58.497000</td>\n",
       "    </tr>\n",
       "    <tr>\n",
       "      <th>...</th>\n",
       "      <td>...</td>\n",
       "      <td>...</td>\n",
       "      <td>...</td>\n",
       "      <td>...</td>\n",
       "      <td>...</td>\n",
       "      <td>...</td>\n",
       "      <td>...</td>\n",
       "      <td>...</td>\n",
       "      <td>...</td>\n",
       "    </tr>\n",
       "    <tr>\n",
       "      <th>290306</th>\n",
       "      <td>187494</td>\n",
       "      <td>None</td>\n",
       "      <td>None</td>\n",
       "      <td>[]</td>\n",
       "      <td>None</td>\n",
       "      <td>NaN</td>\n",
       "      <td>NaN</td>\n",
       "      <td>2023-09-12</td>\n",
       "      <td>2023-09-12 06:08:17.740299</td>\n",
       "    </tr>\n",
       "    <tr>\n",
       "      <th>290317</th>\n",
       "      <td>19531</td>\n",
       "      <td>None</td>\n",
       "      <td>None</td>\n",
       "      <td>[]</td>\n",
       "      <td>None</td>\n",
       "      <td>NaN</td>\n",
       "      <td>NaN</td>\n",
       "      <td>2023-09-12</td>\n",
       "      <td>2023-09-12 06:08:21.933931</td>\n",
       "    </tr>\n",
       "    <tr>\n",
       "      <th>290326</th>\n",
       "      <td>257249</td>\n",
       "      <td>None</td>\n",
       "      <td>None</td>\n",
       "      <td>[Mascotas, Gatos]</td>\n",
       "      <td>€/KILO)</td>\n",
       "      <td>3.98</td>\n",
       "      <td>11.71</td>\n",
       "      <td>2023-09-12</td>\n",
       "      <td>2023-09-12 06:09:56.713266</td>\n",
       "    </tr>\n",
       "    <tr>\n",
       "      <th>290340</th>\n",
       "      <td>264717</td>\n",
       "      <td>None</td>\n",
       "      <td>None</td>\n",
       "      <td>[]</td>\n",
       "      <td>None</td>\n",
       "      <td>NaN</td>\n",
       "      <td>NaN</td>\n",
       "      <td>2023-09-12</td>\n",
       "      <td>2023-09-12 06:10:01.666786</td>\n",
       "    </tr>\n",
       "    <tr>\n",
       "      <th>290346</th>\n",
       "      <td>26712</td>\n",
       "      <td>None</td>\n",
       "      <td>None</td>\n",
       "      <td>[Frutas, Frutas de temporada]</td>\n",
       "      <td>€/KILO)</td>\n",
       "      <td>1.50</td>\n",
       "      <td>2.99</td>\n",
       "      <td>2023-09-12</td>\n",
       "      <td>2023-09-12 06:10:03.838710</td>\n",
       "    </tr>\n",
       "  </tbody>\n",
       "</table>\n",
       "<p>10145 rows × 9 columns</p>\n",
       "</div>"
      ],
      "text/plain": [
       "       product_id                                       product brand  \\\n",
       "6          204919  Salmón en rodaja unidad (peso aprox. 430 gr)  None   \n",
       "13         187457            Monjas rosquillas artesanas 275 gr  None   \n",
       "14          21726                         Fresón tarrina 250 gr  None   \n",
       "37          11461                        Cogollos bandeja 3 uds  None   \n",
       "115         59836     Corazones de lechuga romana bandeja 2 uds  None   \n",
       "...           ...                                           ...   ...   \n",
       "290306     187494                                          None  None   \n",
       "290317      19531                                          None  None   \n",
       "290326     257249                                          None  None   \n",
       "290340     264717                                          None  None   \n",
       "290346      26712                                          None  None   \n",
       "\n",
       "                                               categories    units  price  \\\n",
       "6       ['Frescos', 'Pescado y marisco', 'Pescado y ma...    €/Kg.   6.45   \n",
       "13         ['Despensa', 'Desayunos y dulces', 'Bollería']    €/Kg.   1.95   \n",
       "14           ['Frescos', 'Frutas', 'Frutas de temporada']    €/Kg.   1.99   \n",
       "37      ['Frescos', 'Verduras y hortalizas', 'Lechugas...    €/ud.   1.19   \n",
       "115     ['Frescos', 'Verduras y hortalizas', 'Lechugas...    €/ud.   1.69   \n",
       "...                                                   ...      ...    ...   \n",
       "290306                                                 []     None    NaN   \n",
       "290317                                                 []     None    NaN   \n",
       "290326                                  [Mascotas, Gatos]  €/KILO)   3.98   \n",
       "290340                                                 []     None    NaN   \n",
       "290346                      [Frutas, Frutas de temporada]  €/KILO)   1.50   \n",
       "\n",
       "        unit_price       date                    ts_load  \n",
       "6            14.99 2022-12-10 2023-09-15 06:59:58.497000  \n",
       "13            7.09 2022-12-10 2023-09-15 06:59:58.497000  \n",
       "14            7.96 2022-12-10 2023-09-15 06:59:58.497000  \n",
       "37            0.40 2022-12-10 2023-09-15 06:59:58.497000  \n",
       "115           0.85 2022-12-10 2023-09-15 06:59:58.497000  \n",
       "...            ...        ...                        ...  \n",
       "290306         NaN 2023-09-12 2023-09-12 06:08:17.740299  \n",
       "290317         NaN 2023-09-12 2023-09-12 06:08:21.933931  \n",
       "290326       11.71 2023-09-12 2023-09-12 06:09:56.713266  \n",
       "290340         NaN 2023-09-12 2023-09-12 06:10:01.666786  \n",
       "290346        2.99 2023-09-12 2023-09-12 06:10:03.838710  \n",
       "\n",
       "[10145 rows x 9 columns]"
      ]
     },
     "execution_count": 62,
     "metadata": {},
     "output_type": "execute_result"
    }
   ],
   "source": [
    "df[df.isna().any(axis=1)]"
   ]
  },
  {
   "cell_type": "code",
   "execution_count": 32,
   "id": "4bbc3eda-9fd0-427a-b31e-1ed3684aca55",
   "metadata": {},
   "outputs": [],
   "source": [
    "df.dropna(inplace=True)"
   ]
  },
  {
   "cell_type": "code",
   "execution_count": 36,
   "id": "72557d52-31e7-4e44-9c24-d34ddf648c5d",
   "metadata": {},
   "outputs": [
    {
     "data": {
      "text/plain": [
       "<AxesSubplot: xlabel='date'>"
      ]
     },
     "execution_count": 36,
     "metadata": {},
     "output_type": "execute_result"
    },
    {
     "data": {
      "image/png": "[encoded data removed]",
      "text/plain": [
       "<Figure size 640x480 with 1 Axes>"
      ]
     },
     "metadata": {},
     "output_type": "display_data"
    }
   ],
   "source": [
    "df.groupby(\"date\")[\"product_id\"].agg(pd.Series.nunique).plot(kind=\"bar\")"
   ]
  },
  {
   "cell_type": "code",
   "execution_count": 38,
   "id": "d0362ccd-8e05-4595-b921-2007a9baae19",
   "metadata": {},
   "outputs": [],
   "source": [
    "df14 = df[df.date=='2023-09-14']"
   ]
  },
  {
   "cell_type": "code",
   "execution_count": 42,
   "id": "67bef59f-74d0-4b35-abf0-a3d92e4b1124",
   "metadata": {},
   "outputs": [],
   "source": [
    "df15 = df[df.date=='2023-09-15']"
   ]
  },
  {
   "cell_type": "code",
   "execution_count": 51,
   "id": "f25da9b2-1b8e-4b7b-b1aa-76ba6f77c22b",
   "metadata": {},
   "outputs": [
    {
     "data": {
      "text/html": [
       "<div>\n",
       "<style scoped>\n",
       "    .dataframe tbody tr th:only-of-type {\n",
       "        vertical-align: middle;\n",
       "    }\n",
       "\n",
       "    .dataframe tbody tr th {\n",
       "        vertical-align: top;\n",
       "    }\n",
       "\n",
       "    .dataframe thead th {\n",
       "        text-align: right;\n",
       "    }\n",
       "</style>\n",
       "<table border=\"1\" class=\"dataframe\">\n",
       "  <thead>\n",
       "    <tr style=\"text-align: right;\">\n",
       "      <th></th>\n",
       "      <th>product_id</th>\n",
       "      <th>product</th>\n",
       "      <th>brand</th>\n",
       "      <th>categories</th>\n",
       "      <th>units</th>\n",
       "      <th>price</th>\n",
       "      <th>unit_price</th>\n",
       "      <th>discount</th>\n",
       "      <th>date</th>\n",
       "      <th>ts_load</th>\n",
       "    </tr>\n",
       "  </thead>\n",
       "  <tbody>\n",
       "    <tr>\n",
       "      <th>258598</th>\n",
       "      <td>295181</td>\n",
       "      <td>Filetes de gallineta</td>\n",
       "      <td>Mar</td>\n",
       "      <td>[Congelados, Pescado y marisco]</td>\n",
       "      <td>€/KILO)</td>\n",
       "      <td>3.99</td>\n",
       "      <td>9.98</td>\n",
       "      <td>NaN</td>\n",
       "      <td>2023-09-14</td>\n",
       "      <td>2023-09-14 07:48:41.346634</td>\n",
       "    </tr>\n",
       "    <tr>\n",
       "      <th>258599</th>\n",
       "      <td>295386</td>\n",
       "      <td>Chocolate con leche con relleno cremoso y troc...</td>\n",
       "      <td>Tosta</td>\n",
       "      <td>[Azúcar. chocolates y caramelos, Chocolates y ...</td>\n",
       "      <td>€/KILO)</td>\n",
       "      <td>1.25</td>\n",
       "      <td>14.88</td>\n",
       "      <td>NaN</td>\n",
       "      <td>2023-09-14</td>\n",
       "      <td>2023-09-14 07:48:41.630712</td>\n",
       "    </tr>\n",
       "    <tr>\n",
       "      <th>258600</th>\n",
       "      <td>29586</td>\n",
       "      <td>Buey de mar cocido</td>\n",
       "      <td>Mari</td>\n",
       "      <td>[Congelados, Pescado y marisco]</td>\n",
       "      <td>€/KILO)</td>\n",
       "      <td>6.99</td>\n",
       "      <td>15.53</td>\n",
       "      <td>NaN</td>\n",
       "      <td>2023-09-14</td>\n",
       "      <td>2023-09-14 07:48:41.811171</td>\n",
       "    </tr>\n",
       "    <tr>\n",
       "      <th>258601</th>\n",
       "      <td>296119</td>\n",
       "      <td>Galletas choco leche</td>\n",
       "      <td>Artiach</td>\n",
       "      <td>[Galletas. bollos y cereales, Galletas]</td>\n",
       "      <td>€/KILO)</td>\n",
       "      <td>2.99</td>\n",
       "      <td>11.73</td>\n",
       "      <td>NaN</td>\n",
       "      <td>2023-09-14</td>\n",
       "      <td>2023-09-14 07:48:42.031784</td>\n",
       "    </tr>\n",
       "    <tr>\n",
       "      <th>258602</th>\n",
       "      <td>296364</td>\n",
       "      <td>Aceitunas rellenas de boquerón marinas</td>\n",
       "      <td>La</td>\n",
       "      <td>[Patatas fritas. encurtidos y frutos secos, Ac...</td>\n",
       "      <td>€/KILO)</td>\n",
       "      <td>1.85</td>\n",
       "      <td>14.23</td>\n",
       "      <td>NaN</td>\n",
       "      <td>2023-09-14</td>\n",
       "      <td>2023-09-14 07:48:42.329678</td>\n",
       "    </tr>\n",
       "    <tr>\n",
       "      <th>...</th>\n",
       "      <td>...</td>\n",
       "      <td>...</td>\n",
       "      <td>...</td>\n",
       "      <td>...</td>\n",
       "      <td>...</td>\n",
       "      <td>...</td>\n",
       "      <td>...</td>\n",
       "      <td>...</td>\n",
       "      <td>...</td>\n",
       "      <td>...</td>\n",
       "    </tr>\n",
       "    <tr>\n",
       "      <th>289661</th>\n",
       "      <td>82867</td>\n",
       "      <td>Chocolate con leche y avellanas</td>\n",
       "      <td>Temptation</td>\n",
       "      <td>[Azúcar. chocolates y caramelos, Chocolates y ...</td>\n",
       "      <td>€/KILO)</td>\n",
       "      <td>1.15</td>\n",
       "      <td>7.67</td>\n",
       "      <td>NaN</td>\n",
       "      <td>2023-09-14</td>\n",
       "      <td>2023-09-14 07:55:03.648706</td>\n",
       "    </tr>\n",
       "    <tr>\n",
       "      <th>289662</th>\n",
       "      <td>84349</td>\n",
       "      <td>Whisky bourbon</td>\n",
       "      <td>Jim</td>\n",
       "      <td>[Cervezas. vinos y bebidas con alcohol, Ron y ...</td>\n",
       "      <td>€/LITRO)</td>\n",
       "      <td>13.99</td>\n",
       "      <td>19.99</td>\n",
       "      <td>NaN</td>\n",
       "      <td>2023-09-14</td>\n",
       "      <td>2023-09-14 07:55:03.871185</td>\n",
       "    </tr>\n",
       "    <tr>\n",
       "      <th>289663</th>\n",
       "      <td>86108</td>\n",
       "      <td>Magdalenas rellenas con crema de cacao</td>\n",
       "      <td>El</td>\n",
       "      <td>[Galletas. bollos y cereales, Bollería]</td>\n",
       "      <td>€/KILO)</td>\n",
       "      <td>1.69</td>\n",
       "      <td>5.03</td>\n",
       "      <td>NaN</td>\n",
       "      <td>2023-09-14</td>\n",
       "      <td>2023-09-14 07:55:04.118279</td>\n",
       "    </tr>\n",
       "    <tr>\n",
       "      <th>289664</th>\n",
       "      <td>8834</td>\n",
       "      <td>Barquillo relleno de praliné y chocolate</td>\n",
       "      <td>Knoppers</td>\n",
       "      <td>[Azúcar. chocolates y caramelos, Chocolates y ...</td>\n",
       "      <td>€/KILO)</td>\n",
       "      <td>2.09</td>\n",
       "      <td>16.72</td>\n",
       "      <td>NaN</td>\n",
       "      <td>2023-09-14</td>\n",
       "      <td>2023-09-14 07:55:04.380169</td>\n",
       "    </tr>\n",
       "    <tr>\n",
       "      <th>289682</th>\n",
       "      <td>297836</td>\n",
       "      <td>Pipas tostadas con le</td>\n",
       "      <td>Manzanares</td>\n",
       "      <td>[Patatas fritas. encurtidos y frutos secos, Fr...</td>\n",
       "      <td>€/KILO)</td>\n",
       "      <td>2.85</td>\n",
       "      <td>7.92</td>\n",
       "      <td>NaN</td>\n",
       "      <td>2023-09-14</td>\n",
       "      <td>2023-09-14 07:53:30.096396</td>\n",
       "    </tr>\n",
       "  </tbody>\n",
       "</table>\n",
       "<p>2622 rows × 10 columns</p>\n",
       "</div>"
      ],
      "text/plain": [
       "       product_id                                            product  \\\n",
       "258598     295181                              Filetes de gallineta    \n",
       "258599     295386  Chocolate con leche con relleno cremoso y troc...   \n",
       "258600      29586                                Buey de mar cocido    \n",
       "258601     296119                              Galletas choco leche    \n",
       "258602     296364            Aceitunas rellenas de boquerón marinas    \n",
       "...           ...                                                ...   \n",
       "289661      82867                   Chocolate con leche y avellanas    \n",
       "289662      84349                                    Whisky bourbon    \n",
       "289663      86108            Magdalenas rellenas con crema de cacao    \n",
       "289664       8834          Barquillo relleno de praliné y chocolate    \n",
       "289682     297836                              Pipas tostadas con le   \n",
       "\n",
       "             brand                                         categories  \\\n",
       "258598         Mar                    [Congelados, Pescado y marisco]   \n",
       "258599       Tosta  [Azúcar. chocolates y caramelos, Chocolates y ...   \n",
       "258600        Mari                    [Congelados, Pescado y marisco]   \n",
       "258601     Artiach            [Galletas. bollos y cereales, Galletas]   \n",
       "258602          La  [Patatas fritas. encurtidos y frutos secos, Ac...   \n",
       "...            ...                                                ...   \n",
       "289661  Temptation  [Azúcar. chocolates y caramelos, Chocolates y ...   \n",
       "289662         Jim  [Cervezas. vinos y bebidas con alcohol, Ron y ...   \n",
       "289663          El            [Galletas. bollos y cereales, Bollería]   \n",
       "289664    Knoppers  [Azúcar. chocolates y caramelos, Chocolates y ...   \n",
       "289682  Manzanares  [Patatas fritas. encurtidos y frutos secos, Fr...   \n",
       "\n",
       "           units  price  unit_price  discount       date  \\\n",
       "258598   €/KILO)   3.99        9.98       NaN 2023-09-14   \n",
       "258599   €/KILO)   1.25       14.88       NaN 2023-09-14   \n",
       "258600   €/KILO)   6.99       15.53       NaN 2023-09-14   \n",
       "258601   €/KILO)   2.99       11.73       NaN 2023-09-14   \n",
       "258602   €/KILO)   1.85       14.23       NaN 2023-09-14   \n",
       "...          ...    ...         ...       ...        ...   \n",
       "289661   €/KILO)   1.15        7.67       NaN 2023-09-14   \n",
       "289662  €/LITRO)  13.99       19.99       NaN 2023-09-14   \n",
       "289663   €/KILO)   1.69        5.03       NaN 2023-09-14   \n",
       "289664   €/KILO)   2.09       16.72       NaN 2023-09-14   \n",
       "289682   €/KILO)   2.85        7.92       NaN 2023-09-14   \n",
       "\n",
       "                          ts_load  \n",
       "258598 2023-09-14 07:48:41.346634  \n",
       "258599 2023-09-14 07:48:41.630712  \n",
       "258600 2023-09-14 07:48:41.811171  \n",
       "258601 2023-09-14 07:48:42.031784  \n",
       "258602 2023-09-14 07:48:42.329678  \n",
       "...                           ...  \n",
       "289661 2023-09-14 07:55:03.648706  \n",
       "289662 2023-09-14 07:55:03.871185  \n",
       "289663 2023-09-14 07:55:04.118279  \n",
       "289664 2023-09-14 07:55:04.380169  \n",
       "289682 2023-09-14 07:53:30.096396  \n",
       "\n",
       "[2622 rows x 10 columns]"
      ]
     },
     "execution_count": 51,
     "metadata": {},
     "output_type": "execute_result"
    }
   ],
   "source": [
    "df14[~df14[\"product_id\"].isin(df15[\"product_id\"])]"
   ]
  },
  {
   "cell_type": "code",
   "execution_count": null,
   "id": "aba14dd9-d019-4c4e-9e63-363d83341333",
   "metadata": {},
   "outputs": [],
   "source": []
  }
 ],
 "metadata": {
  "kernelspec": {
   "display_name": "Python 3 (ipykernel)",
   "language": "python",
   "name": "python3"
  },
  "language_info": {
   "codemirror_mode": {
    "name": "ipython",
    "version": 3
   },
   "file_extension": ".py",
   "mimetype": "text/x-python",
   "name": "python",
   "nbconvert_exporter": "python",
   "pygments_lexer": "ipython3",
   "version": "3.8.0"
  }
 },
 "nbformat": 4,
 "nbformat_minor": 5
}
