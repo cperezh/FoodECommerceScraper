{
 "cells": [
  {
   "cell_type": "code",
   "execution_count": 3,
   "id": "e3babebc-b820-4f3d-8adc-5131de5ab6ce",
   "metadata": {},
   "outputs": [],
   "source": [
    "import pandas as pd\n",
    "import sys\n",
    "import pyspark.sql\n",
    "from SparkDBUtils import SparkDB\n",
    "\n",
    "sparkdb = SparkDB()\n",
    "spark = sparkdb.spark"
   ]
  },
  {
   "cell_type": "code",
   "execution_count": null,
   "id": "2a0dce28-a325-4ba1-95e9-f7e318a20cb2",
   "metadata": {},
   "outputs": [],
   "source": [
    "producto_dim_schema = StructType([\n",
    "        StructField(\"product\", StringType(), True),\n",
    "        StructField(\"product_id\", StringType(), True),\n",
    "        StructField(\"brand\", StringType(), True),\n",
    "        StructField(\"price\", DoubleType(), True),\n",
    "        StructField(\"categories\", StringType(), True),\n",
    "        StructField(\"unit_price\", DoubleType(), True),\n",
    "        StructField(\"units\", StringType(), True),\n",
    "        StructField(\"discount\", DoubleType(), True),\n",
    "        StructField(\"date\", DateType(), True),\n",
    "        StructField(\"ts_load\", TimestampType(), True)\n",
    "    ])\n",
    "\n",
    "dataset = spark.read.option(\"delimiter\", \";\").csv(\"../dataset/dataset.csv\", schema=producto_dim_schema, header=True)"
   ]
  },
  {
   "cell_type": "code",
   "execution_count": 2,
   "id": "72b313cd-142f-4736-97fc-4bc2cdd7fcee",
   "metadata": {},
   "outputs": [
    {
     "name": "stdout",
     "output_type": "stream",
     "text": [
      "['C:\\\\Users\\\\Carlos\\\\Proyectos\\\\FoodECommerceScraper\\\\source\\\\Producto_DIA_DP', 'C:\\\\Program Files\\\\Python38\\\\python38.zip', 'C:\\\\Program Files\\\\Python38\\\\DLLs', 'C:\\\\Program Files\\\\Python38\\\\lib', 'C:\\\\Program Files\\\\Python38', 'c:\\\\users\\\\carlos\\\\proyectos\\\\foodecommercescraper\\\\venv', '', 'c:\\\\users\\\\carlos\\\\proyectos\\\\foodecommercescraper\\\\venv\\\\lib\\\\site-packages', 'c:\\\\users\\\\carlos\\\\proyectos\\\\foodecommercescraper\\\\venv\\\\lib\\\\site-packages\\\\win32', 'c:\\\\users\\\\carlos\\\\proyectos\\\\foodecommercescraper\\\\venv\\\\lib\\\\site-packages\\\\win32\\\\lib', 'c:\\\\users\\\\carlos\\\\proyectos\\\\foodecommercescraper\\\\venv\\\\lib\\\\site-packages\\\\Pythonwin']\n"
     ]
    }
   ],
   "source": [
    "spark.write_table(pdf, \"producto_dia.producto_dim\", \"append\")"
   ]
  }
 ],
 "metadata": {
  "kernelspec": {
   "display_name": "Python 3 (ipykernel)",
   "language": "python",
   "name": "python3"
  },
  "language_info": {
   "codemirror_mode": {
    "name": "ipython",
    "version": 3
   },
   "file_extension": ".py",
   "mimetype": "text/x-python",
   "name": "python",
   "nbconvert_exporter": "python",
   "pygments_lexer": "ipython3",
   "version": "3.8.0"
  }
 },
 "nbformat": 4,
 "nbformat_minor": 5
}
