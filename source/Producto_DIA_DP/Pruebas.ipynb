{
 "cells": [
  {
   "cell_type": "code",
   "execution_count": 1,
   "id": "a68fc21d-261b-4193-88db-461a7e2c3f28",
   "metadata": {},
   "outputs": [],
   "source": [
    "import os\n",
    "import sys\n",
    "import delta\n",
    "from pyspark.sql.window import Window\n",
    "import pyspark.sql.functions as psf\n",
    "import pandas as pd\n",
    "import pyspark.sql\n",
    "from pyspark.sql.types import StructType, StructField, DateType, \\\n",
    "    StringType, DoubleType, TimestampType\n",
    "\n",
    "sys.path.insert(0, os.path.abspath('./source/Producto_DIA_DP'))\n",
    "\n",
    "from SparkDBUtils import SparkDB\n",
    "sparkdb = SparkDB()\n",
    "spark = sparkdb.spark"
   ]
  },
  {
   "cell_type": "code",
   "execution_count": 4,
   "id": "eac60c69-69a4-480d-9697-0793c3237da5",
   "metadata": {},
   "outputs": [
    {
     "name": "stdout",
     "output_type": "stream",
     "text": [
      "+----------------+\n",
      "|namespace       |\n",
      "+----------------+\n",
      "|analisis_precios|\n",
      "|default         |\n",
      "|producto_dia    |\n",
      "+----------------+\n",
      "\n"
     ]
    }
   ],
   "source": [
    "spark.sql(\"show schemas\").show(truncate=False)"
   ]
  },
  {
   "cell_type": "code",
   "execution_count": 5,
   "id": "aded3250-a0d9-4496-9c0f-147fd9a70702",
   "metadata": {},
   "outputs": [
    {
     "name": "stdout",
     "output_type": "stream",
     "text": [
      "+------------+---------------+-----------+\n",
      "|namespace   |tableName      |isTemporary|\n",
      "+------------+---------------+-----------+\n",
      "|producto_dia|producto_dim   |false      |\n",
      "|producto_dia|sequences_cfg  |false      |\n",
      "|producto_dia|staging_product|false      |\n",
      "+------------+---------------+-----------+\n",
      "\n"
     ]
    }
   ],
   "source": [
    "spark.sql(\"show tables in producto_dia\").show(truncate=False)"
   ]
  },
  {
   "cell_type": "code",
   "execution_count": 2,
   "id": "ea4b637a-8d10-4608-b1d6-56075f7e5ea1",
   "metadata": {},
   "outputs": [],
   "source": [
    "df = spark.table(\"producto_dia.staging_product\").toPandas()"
   ]
  },
  {
   "cell_type": "code",
   "execution_count": 3,
   "id": "1ace6f6c-e357-4bde-be60-e05cf91fcbed",
   "metadata": {},
   "outputs": [
    {
     "name": "stdout",
     "output_type": "stream",
     "text": [
      "<class 'pandas.core.frame.DataFrame'>\n",
      "Index: 0 entries\n",
      "Data columns (total 3 columns):\n",
      " #   Column       Non-Null Count  Dtype \n",
      "---  ------       --------------  ----- \n",
      " 0   id_producto  0 non-null      object\n",
      " 1   url_product  0 non-null      object\n",
      " 2   index        0 non-null      int32 \n",
      "dtypes: int32(1), object(2)\n",
      "memory usage: 0.0+ bytes\n"
     ]
    }
   ],
   "source": [
    "df.info()"
   ]
  },
  {
   "cell_type": "code",
   "execution_count": 4,
   "id": "e95c1c70-3d5c-4d70-867b-748e3023d1c9",
   "metadata": {},
   "outputs": [
    {
     "name": "stdout",
     "output_type": "stream",
     "text": [
      "<class 'pandas.core.frame.DataFrame'>\n",
      "RangeIndex: 773 entries, 0 to 772\n",
      "Data columns (total 10 columns):\n",
      " #   Column      Non-Null Count  Dtype         \n",
      "---  ------      --------------  -----         \n",
      " 0   product_id  0 non-null      object        \n",
      " 1   product     0 non-null      object        \n",
      " 2   brand       0 non-null      object        \n",
      " 3   categories  0 non-null      object        \n",
      " 4   units       0 non-null      object        \n",
      " 5   price       0 non-null      float64       \n",
      " 6   unit_price  0 non-null      float64       \n",
      " 7   discount    0 non-null      float64       \n",
      " 8   date        0 non-null      object        \n",
      " 9   ts_load     0 non-null      datetime64[ns]\n",
      "dtypes: datetime64[ns](1), float64(3), object(6)\n",
      "memory usage: 60.5+ KB\n"
     ]
    }
   ],
   "source": [
    "df = spark.table(\"producto_dia.producto_dim\").toPandas()\n",
    "df.info()"
   ]
  },
  {
   "cell_type": "code",
   "execution_count": 5,
   "id": "55d4b84e-77a2-45f0-8778-eaedbd0f45b9",
   "metadata": {},
   "outputs": [
    {
     "data": {
      "text/html": [
       "<div>\n",
       "<style scoped>\n",
       "    .dataframe tbody tr th:only-of-type {\n",
       "        vertical-align: middle;\n",
       "    }\n",
       "\n",
       "    .dataframe tbody tr th {\n",
       "        vertical-align: top;\n",
       "    }\n",
       "\n",
       "    .dataframe thead th {\n",
       "        text-align: right;\n",
       "    }\n",
       "</style>\n",
       "<table border=\"1\" class=\"dataframe\">\n",
       "  <thead>\n",
       "    <tr style=\"text-align: right;\">\n",
       "      <th></th>\n",
       "      <th>product_id</th>\n",
       "      <th>product</th>\n",
       "      <th>brand</th>\n",
       "      <th>categories</th>\n",
       "      <th>units</th>\n",
       "      <th>price</th>\n",
       "      <th>unit_price</th>\n",
       "      <th>discount</th>\n",
       "      <th>date</th>\n",
       "      <th>ts_load</th>\n",
       "    </tr>\n",
       "  </thead>\n",
       "  <tbody>\n",
       "    <tr>\n",
       "      <th>0</th>\n",
       "      <td>None</td>\n",
       "      <td>None</td>\n",
       "      <td>None</td>\n",
       "      <td>None</td>\n",
       "      <td>None</td>\n",
       "      <td>NaN</td>\n",
       "      <td>NaN</td>\n",
       "      <td>NaN</td>\n",
       "      <td>None</td>\n",
       "      <td>NaT</td>\n",
       "    </tr>\n",
       "    <tr>\n",
       "      <th>1</th>\n",
       "      <td>None</td>\n",
       "      <td>None</td>\n",
       "      <td>None</td>\n",
       "      <td>None</td>\n",
       "      <td>None</td>\n",
       "      <td>NaN</td>\n",
       "      <td>NaN</td>\n",
       "      <td>NaN</td>\n",
       "      <td>None</td>\n",
       "      <td>NaT</td>\n",
       "    </tr>\n",
       "    <tr>\n",
       "      <th>2</th>\n",
       "      <td>None</td>\n",
       "      <td>None</td>\n",
       "      <td>None</td>\n",
       "      <td>None</td>\n",
       "      <td>None</td>\n",
       "      <td>NaN</td>\n",
       "      <td>NaN</td>\n",
       "      <td>NaN</td>\n",
       "      <td>None</td>\n",
       "      <td>NaT</td>\n",
       "    </tr>\n",
       "    <tr>\n",
       "      <th>3</th>\n",
       "      <td>None</td>\n",
       "      <td>None</td>\n",
       "      <td>None</td>\n",
       "      <td>None</td>\n",
       "      <td>None</td>\n",
       "      <td>NaN</td>\n",
       "      <td>NaN</td>\n",
       "      <td>NaN</td>\n",
       "      <td>None</td>\n",
       "      <td>NaT</td>\n",
       "    </tr>\n",
       "    <tr>\n",
       "      <th>4</th>\n",
       "      <td>None</td>\n",
       "      <td>None</td>\n",
       "      <td>None</td>\n",
       "      <td>None</td>\n",
       "      <td>None</td>\n",
       "      <td>NaN</td>\n",
       "      <td>NaN</td>\n",
       "      <td>NaN</td>\n",
       "      <td>None</td>\n",
       "      <td>NaT</td>\n",
       "    </tr>\n",
       "  </tbody>\n",
       "</table>\n",
       "</div>"
      ],
      "text/plain": [
       "  product_id product brand categories units  price  unit_price  discount  \\\n",
       "0       None    None  None       None  None    NaN         NaN       NaN   \n",
       "1       None    None  None       None  None    NaN         NaN       NaN   \n",
       "2       None    None  None       None  None    NaN         NaN       NaN   \n",
       "3       None    None  None       None  None    NaN         NaN       NaN   \n",
       "4       None    None  None       None  None    NaN         NaN       NaN   \n",
       "\n",
       "   date ts_load  \n",
       "0  None     NaT  \n",
       "1  None     NaT  \n",
       "2  None     NaT  \n",
       "3  None     NaT  \n",
       "4  None     NaT  "
      ]
     },
     "execution_count": 5,
     "metadata": {},
     "output_type": "execute_result"
    }
   ],
   "source": [
    "df.head()"
   ]
  },
  {
   "cell_type": "markdown",
   "id": "e23f43a2-9635-486e-a77a-6836cc1bb5ea",
   "metadata": {},
   "source": [
    "# DELETE producto_dia.staging_product"
   ]
  },
  {
   "cell_type": "code",
   "execution_count": 2,
   "id": "9794fe68-65b2-49ef-902b-a71edc753494",
   "metadata": {},
   "outputs": [],
   "source": [
    "dt = delta.DeltaTable.forName(spark, \"producto_dia.staging_product\")"
   ]
  },
  {
   "cell_type": "code",
   "execution_count": 3,
   "id": "e2c8fbd1-137c-45fe-a561-f1be7369594e",
   "metadata": {},
   "outputs": [],
   "source": [
    "dt.delete(psf.column(\"index\") > \"112\")"
   ]
  },
  {
   "cell_type": "code",
   "execution_count": 4,
   "id": "0ae93fcb-446b-4582-823a-0d17f7bcb96c",
   "metadata": {},
   "outputs": [
    {
     "name": "stdout",
     "output_type": "stream",
     "text": [
      "+-----------+--------------------+-----+\n",
      "|id_producto|         url_product|index|\n",
      "+-----------+--------------------+-----+\n",
      "|      10065|https://www.dia.e...|    0|\n",
      "|     101846|https://www.dia.e...|    1|\n",
      "|     102900|https://www.dia.e...|    2|\n",
      "|     104003|https://www.dia.e...|    3|\n",
      "|     105302|https://www.dia.e...|    4|\n",
      "|     106144|https://www.dia.e...|    5|\n",
      "|     107989|https://www.dia.e...|    6|\n",
      "|        110|https://www.dia.e...|    7|\n",
      "|     111575|https://www.dia.e...|    8|\n",
      "|     112829|https://www.dia.e...|    9|\n",
      "|     114234|https://www.dia.e...|   10|\n",
      "|     115160|https://www.dia.e...|   11|\n",
      "|     116100|https://www.dia.e...|   12|\n",
      "|     117243|https://www.dia.e...|   13|\n",
      "|     118963|https://www.dia.e...|   14|\n",
      "|      11964|https://www.dia.e...|   15|\n",
      "|     120311|https://www.dia.e...|   16|\n",
      "|     122086|https://www.dia.e...|   17|\n",
      "|     123844|https://www.dia.e...|   18|\n",
      "|     125055|https://www.dia.e...|   19|\n",
      "+-----------+--------------------+-----+\n",
      "only showing top 20 rows\n",
      "\n"
     ]
    }
   ],
   "source": [
    "dt.toDF().show()"
   ]
  },
  {
   "cell_type": "markdown",
   "id": "d251e6b1-8a3d-4f22-8e09-c570e3883156",
   "metadata": {},
   "source": [
    "# DELETE producto_dia.producto_dim"
   ]
  },
  {
   "cell_type": "code",
   "execution_count": 11,
   "id": "3cbe87fd-b66c-47e0-85aa-a76a70609348",
   "metadata": {},
   "outputs": [],
   "source": [
    "dt = delta.DeltaTable.forName(spark, \"producto_dia.producto_dim\")"
   ]
  },
  {
   "cell_type": "code",
   "execution_count": 9,
   "id": "4d825408-5f2e-462f-b66b-17abb5193e5c",
   "metadata": {},
   "outputs": [],
   "source": [
    "dt.delete()"
   ]
  },
  {
   "cell_type": "code",
   "execution_count": 13,
   "id": "710446ef-2359-4022-9d76-652f8e67cfe4",
   "metadata": {},
   "outputs": [
    {
     "name": "stdout",
     "output_type": "stream",
     "text": [
      "+----------+-------+-----+----------+-----+-----+----------+--------+----+-------+\n",
      "|product_id|product|brand|categories|units|price|unit_price|discount|date|ts_load|\n",
      "+----------+-------+-----+----------+-----+-----+----------+--------+----+-------+\n",
      "+----------+-------+-----+----------+-----+-----+----------+--------+----+-------+\n",
      "\n"
     ]
    }
   ],
   "source": [
    "dt.toDF().show()"
   ]
  }
 ],
 "metadata": {
  "kernelspec": {
   "display_name": "Python 3 (ipykernel)",
   "language": "python",
   "name": "python3"
  },
  "language_info": {
   "codemirror_mode": {
    "name": "ipython",
    "version": 3
   },
   "file_extension": ".py",
   "mimetype": "text/x-python",
   "name": "python",
   "nbconvert_exporter": "python",
   "pygments_lexer": "ipython3",
   "version": "3.8.0"
  }
 },
 "nbformat": 4,
 "nbformat_minor": 5
}
