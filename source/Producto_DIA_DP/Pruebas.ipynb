{
 "cells": [
  {
   "cell_type": "code",
   "execution_count": 28,
   "id": "a68fc21d-261b-4193-88db-461a7e2c3f28",
   "metadata": {},
   "outputs": [],
   "source": [
    "import os\n",
    "import sys\n",
    "import delta\n",
    "from pyspark.sql.window import Window\n",
    "import pyspark.sql.functions as psf\n",
    "import pandas as pd\n",
    "import pyspark.sql\n",
    "from pyspark.sql.types import StructType, StructField, DateType, \\\n",
    "    StringType, DoubleType, TimestampType\n",
    "import matplotlib.pyplot as plt\n",
    "\n",
    "# sys.path.insert(0, os.path.abspath('./source/Producto_DIA_DP'))\n",
    "\n",
    "from SparkDBUtils import SparkDB\n",
    "sparkdb = SparkDB()\n",
    "spark = sparkdb.spark"
   ]
  },
  {
   "cell_type": "code",
   "execution_count": 4,
   "id": "eac60c69-69a4-480d-9697-0793c3237da5",
   "metadata": {},
   "outputs": [
    {
     "name": "stdout",
     "output_type": "stream",
     "text": [
      "+----------------+\n",
      "|namespace       |\n",
      "+----------------+\n",
      "|analisis_precios|\n",
      "|default         |\n",
      "|producto_dia    |\n",
      "+----------------+\n",
      "\n"
     ]
    }
   ],
   "source": [
    "spark.sql(\"show schemas\").show(truncate=False)"
   ]
  },
  {
   "cell_type": "code",
   "execution_count": 5,
   "id": "aded3250-a0d9-4496-9c0f-147fd9a70702",
   "metadata": {},
   "outputs": [
    {
     "name": "stdout",
     "output_type": "stream",
     "text": [
      "+------------+---------------+-----------+\n",
      "|namespace   |tableName      |isTemporary|\n",
      "+------------+---------------+-----------+\n",
      "|producto_dia|producto_dim   |false      |\n",
      "|producto_dia|sequences_cfg  |false      |\n",
      "|producto_dia|staging_product|false      |\n",
      "+------------+---------------+-----------+\n",
      "\n"
     ]
    }
   ],
   "source": [
    "spark.sql(\"show tables in producto_dia\").show(truncate=False)"
   ]
  },
  {
   "cell_type": "code",
   "execution_count": 2,
   "id": "ea4b637a-8d10-4608-b1d6-56075f7e5ea1",
   "metadata": {},
   "outputs": [],
   "source": [
    "df = spark.table(\"producto_dia.staging_product\").toPandas()"
   ]
  },
  {
   "cell_type": "code",
   "execution_count": 3,
   "id": "1ace6f6c-e357-4bde-be60-e05cf91fcbed",
   "metadata": {},
   "outputs": [
    {
     "name": "stdout",
     "output_type": "stream",
     "text": [
      "<class 'pandas.core.frame.DataFrame'>\n",
      "Index: 0 entries\n",
      "Data columns (total 3 columns):\n",
      " #   Column       Non-Null Count  Dtype \n",
      "---  ------       --------------  ----- \n",
      " 0   id_producto  0 non-null      object\n",
      " 1   url_product  0 non-null      object\n",
      " 2   index        0 non-null      int32 \n",
      "dtypes: int32(1), object(2)\n",
      "memory usage: 0.0+ bytes\n"
     ]
    }
   ],
   "source": [
    "df.info()"
   ]
  },
  {
   "cell_type": "code",
   "execution_count": 2,
   "id": "e95c1c70-3d5c-4d70-867b-748e3023d1c9",
   "metadata": {},
   "outputs": [
    {
     "name": "stderr",
     "output_type": "stream",
     "text": [
      "c:\\users\\carlos\\proyectos\\foodecommercescraper\\venv\\lib\\site-packages\\pyspark\\sql\\pandas\\conversion.py:248: FutureWarning: Passing unit-less datetime64 dtype to .astype is deprecated and will raise in a future version. Pass 'datetime64[ns]' instead\n",
      "  series = series.astype(t, copy=False)\n"
     ]
    },
    {
     "name": "stdout",
     "output_type": "stream",
     "text": [
      "<class 'pandas.core.frame.DataFrame'>\n",
      "RangeIndex: 8582 entries, 0 to 8581\n",
      "Data columns (total 10 columns):\n",
      " #   Column      Non-Null Count  Dtype         \n",
      "---  ------      --------------  -----         \n",
      " 0   product_id  8582 non-null   object        \n",
      " 1   product     7801 non-null   object        \n",
      " 2   brand       7801 non-null   object        \n",
      " 3   categories  8582 non-null   object        \n",
      " 4   units       8110 non-null   object        \n",
      " 5   price       8110 non-null   float64       \n",
      " 6   unit_price  8110 non-null   float64       \n",
      " 7   discount    0 non-null      float64       \n",
      " 8   date        8582 non-null   object        \n",
      " 9   ts_load     8582 non-null   datetime64[ns]\n",
      "dtypes: datetime64[ns](1), float64(3), object(6)\n",
      "memory usage: 670.6+ KB\n"
     ]
    }
   ],
   "source": [
    "df = spark.table(\"producto_dia.producto_dim\").toPandas()\n",
    "df.info()"
   ]
  },
  {
   "cell_type": "code",
   "execution_count": 4,
   "id": "55d4b84e-77a2-45f0-8778-eaedbd0f45b9",
   "metadata": {},
   "outputs": [
    {
     "data": {
      "text/html": [
       "<div>\n",
       "<style scoped>\n",
       "    .dataframe tbody tr th:only-of-type {\n",
       "        vertical-align: middle;\n",
       "    }\n",
       "\n",
       "    .dataframe tbody tr th {\n",
       "        vertical-align: top;\n",
       "    }\n",
       "\n",
       "    .dataframe thead th {\n",
       "        text-align: right;\n",
       "    }\n",
       "</style>\n",
       "<table border=\"1\" class=\"dataframe\">\n",
       "  <thead>\n",
       "    <tr style=\"text-align: right;\">\n",
       "      <th></th>\n",
       "      <th>product_id</th>\n",
       "      <th>product</th>\n",
       "      <th>brand</th>\n",
       "      <th>categories</th>\n",
       "      <th>units</th>\n",
       "      <th>price</th>\n",
       "      <th>unit_price</th>\n",
       "      <th>discount</th>\n",
       "      <th>date</th>\n",
       "      <th>ts_load</th>\n",
       "    </tr>\n",
       "  </thead>\n",
       "  <tbody>\n",
       "    <tr>\n",
       "      <th>0</th>\n",
       "      <td>223231</td>\n",
       "      <td>Queso fresco sin lactosa</td>\n",
       "      <td>Dia</td>\n",
       "      <td>[Charcutería y quesos, Quesos fresco]</td>\n",
       "      <td>€/KILO)</td>\n",
       "      <td>1.68</td>\n",
       "      <td>6.72</td>\n",
       "      <td>NaN</td>\n",
       "      <td>2023-09-12</td>\n",
       "      <td>2023-09-12 06:29:40.991637</td>\n",
       "    </tr>\n",
       "    <tr>\n",
       "      <th>1</th>\n",
       "      <td>224474</td>\n",
       "      <td>Ensalada mezclum</td>\n",
       "      <td>Vegecampo</td>\n",
       "      <td>[Verduras, Verduras y ensaladas preparadas]</td>\n",
       "      <td>€/KILO)</td>\n",
       "      <td>0.95</td>\n",
       "      <td>6.33</td>\n",
       "      <td>NaN</td>\n",
       "      <td>2023-09-12</td>\n",
       "      <td>2023-09-12 06:29:41.358288</td>\n",
       "    </tr>\n",
       "    <tr>\n",
       "      <th>2</th>\n",
       "      <td>225399</td>\n",
       "      <td>Mini barritas de chocolate con caramelo y caca...</td>\n",
       "      <td>Snickers</td>\n",
       "      <td>[Azúcar. chocolates y caramelos, Chocolates y ...</td>\n",
       "      <td>€/KILO)</td>\n",
       "      <td>2.29</td>\n",
       "      <td>15.90</td>\n",
       "      <td>NaN</td>\n",
       "      <td>2023-09-12</td>\n",
       "      <td>2023-09-12 06:29:41.619678</td>\n",
       "    </tr>\n",
       "    <tr>\n",
       "      <th>3</th>\n",
       "      <td>225767</td>\n",
       "      <td>Tinte casta</td>\n",
       "      <td>Nutrisse</td>\n",
       "      <td>[Perfumería. higiene. salud, Tintes]</td>\n",
       "      <td>€/UNIDAD)</td>\n",
       "      <td>5.89</td>\n",
       "      <td>5.89</td>\n",
       "      <td>NaN</td>\n",
       "      <td>2023-09-12</td>\n",
       "      <td>2023-09-12 06:29:41.847959</td>\n",
       "    </tr>\n",
       "    <tr>\n",
       "      <th>4</th>\n",
       "      <td>226508</td>\n",
       "      <td>Pizza serrana</td>\n",
       "      <td>Al</td>\n",
       "      <td>[Pizzas y platos preparados, Pizzas]</td>\n",
       "      <td>€/KILO)</td>\n",
       "      <td>2.69</td>\n",
       "      <td>6.90</td>\n",
       "      <td>NaN</td>\n",
       "      <td>2023-09-12</td>\n",
       "      <td>2023-09-12 06:29:42.122930</td>\n",
       "    </tr>\n",
       "  </tbody>\n",
       "</table>\n",
       "</div>"
      ],
      "text/plain": [
       "  product_id                                            product      brand  \\\n",
       "0     223231                          Queso fresco sin lactosa         Dia   \n",
       "1     224474                                  Ensalada mezclum   Vegecampo   \n",
       "2     225399  Mini barritas de chocolate con caramelo y caca...   Snickers   \n",
       "3     225767                                        Tinte casta   Nutrisse   \n",
       "4     226508                                     Pizza serrana          Al   \n",
       "\n",
       "                                          categories      units  price  \\\n",
       "0              [Charcutería y quesos, Quesos fresco]    €/KILO)   1.68   \n",
       "1        [Verduras, Verduras y ensaladas preparadas]    €/KILO)   0.95   \n",
       "2  [Azúcar. chocolates y caramelos, Chocolates y ...    €/KILO)   2.29   \n",
       "3               [Perfumería. higiene. salud, Tintes]  €/UNIDAD)   5.89   \n",
       "4               [Pizzas y platos preparados, Pizzas]    €/KILO)   2.69   \n",
       "\n",
       "   unit_price  discount        date                    ts_load  \n",
       "0        6.72       NaN  2023-09-12 2023-09-12 06:29:40.991637  \n",
       "1        6.33       NaN  2023-09-12 2023-09-12 06:29:41.358288  \n",
       "2       15.90       NaN  2023-09-12 2023-09-12 06:29:41.619678  \n",
       "3        5.89       NaN  2023-09-12 2023-09-12 06:29:41.847959  \n",
       "4        6.90       NaN  2023-09-12 2023-09-12 06:29:42.122930  "
      ]
     },
     "execution_count": 4,
     "metadata": {},
     "output_type": "execute_result"
    }
   ],
   "source": [
    "df.head()"
   ]
  },
  {
   "cell_type": "markdown",
   "id": "ed1363d7-3358-40a7-a40d-d8c9c0f93ce4",
   "metadata": {},
   "source": []
  },
  {
   "cell_type": "code",
   "execution_count": 83,
   "id": "3a4b8767-d8f8-40b8-9979-b0097d5be799",
   "metadata": {},
   "outputs": [
    {
     "data": {
      "text/html": [
       "<div>\n",
       "<style scoped>\n",
       "    .dataframe tbody tr th:only-of-type {\n",
       "        vertical-align: middle;\n",
       "    }\n",
       "\n",
       "    .dataframe tbody tr th {\n",
       "        vertical-align: top;\n",
       "    }\n",
       "\n",
       "    .dataframe thead th {\n",
       "        text-align: right;\n",
       "    }\n",
       "</style>\n",
       "<table border=\"1\" class=\"dataframe\">\n",
       "  <thead>\n",
       "    <tr style=\"text-align: right;\">\n",
       "      <th></th>\n",
       "      <th>product_id</th>\n",
       "      <th>product</th>\n",
       "      <th>brand</th>\n",
       "      <th>categories</th>\n",
       "      <th>units</th>\n",
       "      <th>price</th>\n",
       "      <th>unit_price</th>\n",
       "      <th>discount</th>\n",
       "      <th>date</th>\n",
       "      <th>ts_load</th>\n",
       "    </tr>\n",
       "  </thead>\n",
       "  <tbody>\n",
       "    <tr>\n",
       "      <th>1000</th>\n",
       "      <td>100604</td>\n",
       "      <td>Yogur sabores</td>\n",
       "      <td>Dia</td>\n",
       "      <td>[Yogures y postres, Yogures de sabores y frutas]</td>\n",
       "      <td>€/KILO)</td>\n",
       "      <td>2.60</td>\n",
       "      <td>1.30</td>\n",
       "      <td>NaN</td>\n",
       "      <td>2023-09-12</td>\n",
       "      <td>2023-09-12 06:22:29.958660</td>\n",
       "    </tr>\n",
       "    <tr>\n",
       "      <th>8507</th>\n",
       "      <td>100604</td>\n",
       "      <td>Yogur sabores</td>\n",
       "      <td>Dia</td>\n",
       "      <td>[Yogures y postres, Yogures de sabores y frutas]</td>\n",
       "      <td>€/KILO)</td>\n",
       "      <td>2.60</td>\n",
       "      <td>1.30</td>\n",
       "      <td>NaN</td>\n",
       "      <td>2023-09-12</td>\n",
       "      <td>2023-09-12 06:07:46.482290</td>\n",
       "    </tr>\n",
       "    <tr>\n",
       "      <th>8508</th>\n",
       "      <td>101751</td>\n",
       "      <td>Crema de cacao con avellanas original</td>\n",
       "      <td>Nocilla</td>\n",
       "      <td>[Café. cacao e infusiones, Cremas de cacao]</td>\n",
       "      <td>€/KILO)</td>\n",
       "      <td>3.49</td>\n",
       "      <td>9.69</td>\n",
       "      <td>NaN</td>\n",
       "      <td>2023-09-12</td>\n",
       "      <td>2023-09-12 06:07:46.888511</td>\n",
       "    </tr>\n",
       "    <tr>\n",
       "      <th>1001</th>\n",
       "      <td>101751</td>\n",
       "      <td>Crema de cacao con avellanas original</td>\n",
       "      <td>Nocilla</td>\n",
       "      <td>[Café. cacao e infusiones, Cremas de cacao]</td>\n",
       "      <td>€/KILO)</td>\n",
       "      <td>3.49</td>\n",
       "      <td>9.69</td>\n",
       "      <td>NaN</td>\n",
       "      <td>2023-09-12</td>\n",
       "      <td>2023-09-12 06:22:30.328794</td>\n",
       "    </tr>\n",
       "    <tr>\n",
       "      <th>1002</th>\n",
       "      <td>102899</td>\n",
       "      <td>Vino blanco joven</td>\n",
       "      <td>Rueda</td>\n",
       "      <td>[Cervezas. vinos y bebidas con alcohol, Vino b...</td>\n",
       "      <td>€/LITRO)</td>\n",
       "      <td>4.50</td>\n",
       "      <td>6.00</td>\n",
       "      <td>NaN</td>\n",
       "      <td>2023-09-12</td>\n",
       "      <td>2023-09-12 06:22:30.684635</td>\n",
       "    </tr>\n",
       "    <tr>\n",
       "      <th>...</th>\n",
       "      <td>...</td>\n",
       "      <td>...</td>\n",
       "      <td>...</td>\n",
       "      <td>...</td>\n",
       "      <td>...</td>\n",
       "      <td>...</td>\n",
       "      <td>...</td>\n",
       "      <td>...</td>\n",
       "      <td>...</td>\n",
       "      <td>...</td>\n",
       "    </tr>\n",
       "    <tr>\n",
       "      <th>1572</th>\n",
       "      <td>273990</td>\n",
       "      <td>Lavavajillas mano concentrado limón</td>\n",
       "      <td>Super</td>\n",
       "      <td>[Limpieza y hogar, Lavavajillas]</td>\n",
       "      <td>€/LITRO)</td>\n",
       "      <td>1.99</td>\n",
       "      <td>1.99</td>\n",
       "      <td>NaN</td>\n",
       "      <td>2023-09-12</td>\n",
       "      <td>2023-09-12 06:23:35.342087</td>\n",
       "    </tr>\n",
       "    <tr>\n",
       "      <th>8405</th>\n",
       "      <td>274017</td>\n",
       "      <td>Suavizante concentrado floral</td>\n",
       "      <td>Super</td>\n",
       "      <td>[Limpieza y hogar, Cuidado de la ropa]</td>\n",
       "      <td>€/LAVADO)</td>\n",
       "      <td>2.15</td>\n",
       "      <td>0.03</td>\n",
       "      <td>NaN</td>\n",
       "      <td>2023-09-12</td>\n",
       "      <td>2023-09-12 06:10:12.755767</td>\n",
       "    </tr>\n",
       "    <tr>\n",
       "      <th>1573</th>\n",
       "      <td>274017</td>\n",
       "      <td>Suavizante concentrado floral</td>\n",
       "      <td>Super</td>\n",
       "      <td>[Limpieza y hogar, Cuidado de la ropa]</td>\n",
       "      <td>€/LAVADO)</td>\n",
       "      <td>2.15</td>\n",
       "      <td>0.03</td>\n",
       "      <td>NaN</td>\n",
       "      <td>2023-09-12</td>\n",
       "      <td>2023-09-12 06:23:35.656558</td>\n",
       "    </tr>\n",
       "    <tr>\n",
       "      <th>8406</th>\n",
       "      <td>274063</td>\n",
       "      <td>Lomo embuchado</td>\n",
       "      <td>Nuestra</td>\n",
       "      <td>[Charcutería y quesos, Lomo. chorizo. fuet. sa...</td>\n",
       "      <td>€/KILO)</td>\n",
       "      <td>2.69</td>\n",
       "      <td>19.21</td>\n",
       "      <td>NaN</td>\n",
       "      <td>2023-09-12</td>\n",
       "      <td>2023-09-12 06:10:13.099517</td>\n",
       "    </tr>\n",
       "    <tr>\n",
       "      <th>1574</th>\n",
       "      <td>274063</td>\n",
       "      <td>Lomo embuchado</td>\n",
       "      <td>Nuestra</td>\n",
       "      <td>[Charcutería y quesos, Lomo. chorizo. fuet. sa...</td>\n",
       "      <td>€/KILO)</td>\n",
       "      <td>2.69</td>\n",
       "      <td>19.21</td>\n",
       "      <td>NaN</td>\n",
       "      <td>2023-09-12</td>\n",
       "      <td>2023-09-12 06:23:36.036968</td>\n",
       "    </tr>\n",
       "  </tbody>\n",
       "</table>\n",
       "<p>400 rows × 10 columns</p>\n",
       "</div>"
      ],
      "text/plain": [
       "     product_id                                 product    brand  \\\n",
       "1000     100604                          Yogur sabores       Dia   \n",
       "8507     100604                          Yogur sabores       Dia   \n",
       "8508     101751  Crema de cacao con avellanas original   Nocilla   \n",
       "1001     101751  Crema de cacao con avellanas original   Nocilla   \n",
       "1002     102899                      Vino blanco joven     Rueda   \n",
       "...         ...                                     ...      ...   \n",
       "1572     273990    Lavavajillas mano concentrado limón     Super   \n",
       "8405     274017          Suavizante concentrado floral     Super   \n",
       "1573     274017          Suavizante concentrado floral     Super   \n",
       "8406     274063                         Lomo embuchado   Nuestra   \n",
       "1574     274063                         Lomo embuchado   Nuestra   \n",
       "\n",
       "                                             categories      units  price  \\\n",
       "1000   [Yogures y postres, Yogures de sabores y frutas]    €/KILO)   2.60   \n",
       "8507   [Yogures y postres, Yogures de sabores y frutas]    €/KILO)   2.60   \n",
       "8508        [Café. cacao e infusiones, Cremas de cacao]    €/KILO)   3.49   \n",
       "1001        [Café. cacao e infusiones, Cremas de cacao]    €/KILO)   3.49   \n",
       "1002  [Cervezas. vinos y bebidas con alcohol, Vino b...   €/LITRO)   4.50   \n",
       "...                                                 ...        ...    ...   \n",
       "1572                   [Limpieza y hogar, Lavavajillas]   €/LITRO)   1.99   \n",
       "8405             [Limpieza y hogar, Cuidado de la ropa]  €/LAVADO)   2.15   \n",
       "1573             [Limpieza y hogar, Cuidado de la ropa]  €/LAVADO)   2.15   \n",
       "8406  [Charcutería y quesos, Lomo. chorizo. fuet. sa...    €/KILO)   2.69   \n",
       "1574  [Charcutería y quesos, Lomo. chorizo. fuet. sa...    €/KILO)   2.69   \n",
       "\n",
       "      unit_price  discount        date                    ts_load  \n",
       "1000        1.30       NaN  2023-09-12 2023-09-12 06:22:29.958660  \n",
       "8507        1.30       NaN  2023-09-12 2023-09-12 06:07:46.482290  \n",
       "8508        9.69       NaN  2023-09-12 2023-09-12 06:07:46.888511  \n",
       "1001        9.69       NaN  2023-09-12 2023-09-12 06:22:30.328794  \n",
       "1002        6.00       NaN  2023-09-12 2023-09-12 06:22:30.684635  \n",
       "...          ...       ...         ...                        ...  \n",
       "1572        1.99       NaN  2023-09-12 2023-09-12 06:23:35.342087  \n",
       "8405        0.03       NaN  2023-09-12 2023-09-12 06:10:12.755767  \n",
       "1573        0.03       NaN  2023-09-12 2023-09-12 06:23:35.656558  \n",
       "8406       19.21       NaN  2023-09-12 2023-09-12 06:10:13.099517  \n",
       "1574       19.21       NaN  2023-09-12 2023-09-12 06:23:36.036968  \n",
       "\n",
       "[400 rows x 10 columns]"
      ]
     },
     "execution_count": 83,
     "metadata": {},
     "output_type": "execute_result"
    }
   ],
   "source": [
    "duplicates = df.groupby(\"product_id\")[\"product_id\"]\\\n",
    "    .count()\\\n",
    "    .loc[lambda x : x >= 2]\\\n",
    "    .index\n",
    "\n",
    "df[df.product_id.isin(duplicates)].sort_values(by=\"product_id\")\n"
   ]
  },
  {
   "cell_type": "code",
   "execution_count": 65,
   "id": "9c5b20eb-01db-413e-bd0e-b977b11037b4",
   "metadata": {},
   "outputs": [
    {
     "data": {
      "text/plain": [
       "Series([], Name: product_id, dtype: int64)"
      ]
     },
     "execution_count": 65,
     "metadata": {},
     "output_type": "execute_result"
    }
   ],
   "source": [
    "s"
   ]
  },
  {
   "cell_type": "code",
   "execution_count": 55,
   "id": "fc72c5b5-79ce-4b5f-8d70-b20dbb182b74",
   "metadata": {},
   "outputs": [
    {
     "data": {
      "text/plain": [
       "<AxesSubplot: xlabel='x'>"
      ]
     },
     "execution_count": 55,
     "metadata": {},
     "output_type": "execute_result"
    },
    {
     "data": {
      "image/png": "[encoded data removed]",
      "text/plain": [
       "<Figure size 640x480 with 1 Axes>"
      ]
     },
     "metadata": {},
     "output_type": "display_data"
    }
   ],
   "source": [
    "df2 = df.groupby(\"product_id\")[\"product_id\"].agg(x=(\"count\"))\n",
    "\n",
    "#df2.groupby(\"x\").agg(tot=(\"x\",\"count\")).plot(kind=\"bar\")\n",
    "\n",
    "df2.groupby(\"x\")[\"x\"].count().plot(kind=\"bar\")"
   ]
  },
  {
   "cell_type": "markdown",
   "id": "e23f43a2-9635-486e-a77a-6836cc1bb5ea",
   "metadata": {},
   "source": [
    "# DELETE producto_dia.staging_product"
   ]
  },
  {
   "cell_type": "code",
   "execution_count": 4,
   "id": "9794fe68-65b2-49ef-902b-a71edc753494",
   "metadata": {},
   "outputs": [],
   "source": [
    "dt = delta.DeltaTable.forName(spark, \"producto_dia.staging_product\")"
   ]
  },
  {
   "cell_type": "code",
   "execution_count": 5,
   "id": "e2c8fbd1-137c-45fe-a561-f1be7369594e",
   "metadata": {},
   "outputs": [],
   "source": [
    "dt.delete(psf.column(\"index\") > \"112\")"
   ]
  },
  {
   "cell_type": "code",
   "execution_count": 8,
   "id": "0ae93fcb-446b-4582-823a-0d17f7bcb96c",
   "metadata": {},
   "outputs": [
    {
     "name": "stdout",
     "output_type": "stream",
     "text": [
      "<class 'pandas.core.frame.DataFrame'>\n",
      "RangeIndex: 113 entries, 0 to 112\n",
      "Data columns (total 3 columns):\n",
      " #   Column       Non-Null Count  Dtype \n",
      "---  ------       --------------  ----- \n",
      " 0   id_producto  113 non-null    object\n",
      " 1   url_product  113 non-null    object\n",
      " 2   index        113 non-null    int32 \n",
      "dtypes: int32(1), object(2)\n",
      "memory usage: 2.3+ KB\n"
     ]
    }
   ],
   "source": [
    "dt.toDF().toPandas().info()"
   ]
  },
  {
   "cell_type": "markdown",
   "id": "d251e6b1-8a3d-4f22-8e09-c570e3883156",
   "metadata": {},
   "source": [
    "# DELETE producto_dia.producto_dim"
   ]
  },
  {
   "cell_type": "code",
   "execution_count": 3,
   "id": "3cbe87fd-b66c-47e0-85aa-a76a70609348",
   "metadata": {},
   "outputs": [],
   "source": [
    "dt = delta.DeltaTable.forName(spark, \"producto_dia.producto_dim\")"
   ]
  },
  {
   "cell_type": "code",
   "execution_count": 4,
   "id": "4d825408-5f2e-462f-b66b-17abb5193e5c",
   "metadata": {},
   "outputs": [],
   "source": [
    "dt.delete()"
   ]
  },
  {
   "cell_type": "code",
   "execution_count": 5,
   "id": "710446ef-2359-4022-9d76-652f8e67cfe4",
   "metadata": {},
   "outputs": [
    {
     "name": "stdout",
     "output_type": "stream",
     "text": [
      "+----------+-------+-----+----------+-----+-----+----------+--------+----+-------+\n",
      "|product_id|product|brand|categories|units|price|unit_price|discount|date|ts_load|\n",
      "+----------+-------+-----+----------+-----+-----+----------+--------+----+-------+\n",
      "+----------+-------+-----+----------+-----+-----+----------+--------+----+-------+\n",
      "\n"
     ]
    }
   ],
   "source": [
    "dt.toDF().show()"
   ]
  },
  {
   "cell_type": "code",
   "execution_count": null,
   "id": "df289d1d-46ec-45ca-9998-58d058b1e6fe",
   "metadata": {},
   "outputs": [],
   "source": []
  }
 ],
 "metadata": {
  "kernelspec": {
   "display_name": "Python 3 (ipykernel)",
   "language": "python",
   "name": "python3"
  },
  "language_info": {
   "codemirror_mode": {
    "name": "ipython",
    "version": 3
   },
   "file_extension": ".py",
   "mimetype": "text/x-python",
   "name": "python",
   "nbconvert_exporter": "python",
   "pygments_lexer": "ipython3",
   "version": "3.8.0"
  }
 },
 "nbformat": 4,
 "nbformat_minor": 5
}
