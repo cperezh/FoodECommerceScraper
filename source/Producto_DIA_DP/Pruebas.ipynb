{
 "cells": [
  {
   "cell_type": "code",
   "execution_count": 3,
   "id": "a68fc21d-261b-4193-88db-461a7e2c3f28",
   "metadata": {},
   "outputs": [],
   "source": [
    "import os\n",
    "import sys\n",
    "import delta\n",
    "from pyspark.sql.window import Window\n",
    "import pyspark.sql.functions as psf\n",
    "import pandas as pd\n",
    "import pyspark.sql\n",
    "from pyspark.sql.types import StructType, StructField, DateType, \\\n",
    "    StringType, DoubleType, TimestampType\n",
    "\n",
    "sys.path.insert(0, os.path.abspath('./source/Producto_DIA_DP'))\n",
    "\n",
    "from SparkDBUtils import SparkDB\n",
    "sparkdb = SparkDB()\n",
    "spark = sparkdb.spark"
   ]
  },
  {
   "cell_type": "code",
   "execution_count": 4,
   "id": "eac60c69-69a4-480d-9697-0793c3237da5",
   "metadata": {},
   "outputs": [
    {
     "name": "stdout",
     "output_type": "stream",
     "text": [
      "+----------------+\n",
      "|namespace       |\n",
      "+----------------+\n",
      "|analisis_precios|\n",
      "|default         |\n",
      "|producto_dia    |\n",
      "+----------------+\n",
      "\n"
     ]
    }
   ],
   "source": [
    "spark.sql(\"show schemas\").show(truncate=False)"
   ]
  },
  {
   "cell_type": "code",
   "execution_count": 5,
   "id": "aded3250-a0d9-4496-9c0f-147fd9a70702",
   "metadata": {},
   "outputs": [
    {
     "name": "stdout",
     "output_type": "stream",
     "text": [
      "+------------+---------------+-----------+\n",
      "|namespace   |tableName      |isTemporary|\n",
      "+------------+---------------+-----------+\n",
      "|producto_dia|producto_dim   |false      |\n",
      "|producto_dia|sequences_cfg  |false      |\n",
      "|producto_dia|staging_product|false      |\n",
      "+------------+---------------+-----------+\n",
      "\n"
     ]
    }
   ],
   "source": [
    "spark.sql(\"show tables in producto_dia\").show(truncate=False)"
   ]
  },
  {
   "cell_type": "code",
   "execution_count": 6,
   "id": "ea4b637a-8d10-4608-b1d6-56075f7e5ea1",
   "metadata": {},
   "outputs": [],
   "source": [
    "df = spark.table(\"producto_dia.producto_dim\").toPandas()"
   ]
  },
  {
   "cell_type": "code",
   "execution_count": 7,
   "id": "1ace6f6c-e357-4bde-be60-e05cf91fcbed",
   "metadata": {},
   "outputs": [
    {
     "data": {
      "text/html": [
       "<div>\n",
       "<style scoped>\n",
       "    .dataframe tbody tr th:only-of-type {\n",
       "        vertical-align: middle;\n",
       "    }\n",
       "\n",
       "    .dataframe tbody tr th {\n",
       "        vertical-align: top;\n",
       "    }\n",
       "\n",
       "    .dataframe thead th {\n",
       "        text-align: right;\n",
       "    }\n",
       "</style>\n",
       "<table border=\"1\" class=\"dataframe\">\n",
       "  <thead>\n",
       "    <tr style=\"text-align: right;\">\n",
       "      <th></th>\n",
       "      <th>product_id</th>\n",
       "      <th>product</th>\n",
       "      <th>brand</th>\n",
       "      <th>categories</th>\n",
       "      <th>units</th>\n",
       "      <th>price</th>\n",
       "      <th>unit_price</th>\n",
       "      <th>discount</th>\n",
       "      <th>date</th>\n",
       "      <th>ts_load</th>\n",
       "    </tr>\n",
       "  </thead>\n",
       "  <tbody>\n",
       "    <tr>\n",
       "      <th>0</th>\n",
       "      <td>105460</td>\n",
       "      <td>Colas de langostino al ajillo</td>\n",
       "      <td>Aguinamar</td>\n",
       "      <td>[Pescados. mariscos y ahumados, Ahumados. sala...</td>\n",
       "      <td>€/KILO)</td>\n",
       "      <td>2.99</td>\n",
       "      <td>28.48</td>\n",
       "      <td>NaN</td>\n",
       "      <td>2023-09-04</td>\n",
       "      <td>NaT</td>\n",
       "    </tr>\n",
       "    <tr>\n",
       "      <th>1</th>\n",
       "      <td>104447</td>\n",
       "      <td>Mini tostadas rectangulares</td>\n",
       "      <td>Ortiz</td>\n",
       "      <td>[Panes. harinas y masas, Picos y panes tostados]</td>\n",
       "      <td>€/KILO)</td>\n",
       "      <td>1.98</td>\n",
       "      <td>19.80</td>\n",
       "      <td>NaN</td>\n",
       "      <td>2023-09-04</td>\n",
       "      <td>NaT</td>\n",
       "    </tr>\n",
       "    <tr>\n",
       "      <th>2</th>\n",
       "      <td>1011</td>\n",
       "      <td>Galletas de cacao rellenas de crema ba</td>\n",
       "      <td>Oreo</td>\n",
       "      <td>[Galletas. bollos y cereales, Galletas]</td>\n",
       "      <td>€/KILO)</td>\n",
       "      <td>2.88</td>\n",
       "      <td>11.71</td>\n",
       "      <td>NaN</td>\n",
       "      <td>2023-09-04</td>\n",
       "      <td>NaT</td>\n",
       "    </tr>\n",
       "    <tr>\n",
       "      <th>3</th>\n",
       "      <td>102150</td>\n",
       "      <td>Maquinilla desechable</td>\n",
       "      <td>Bonté</td>\n",
       "      <td>[Perfumería. higiene. salud, Afeitado]</td>\n",
       "      <td>€/UNIDAD)</td>\n",
       "      <td>2.09</td>\n",
       "      <td>0.21</td>\n",
       "      <td>NaN</td>\n",
       "      <td>2023-09-04</td>\n",
       "      <td>NaT</td>\n",
       "    </tr>\n",
       "    <tr>\n",
       "      <th>4</th>\n",
       "      <td>10687</td>\n",
       "      <td>Tomate troceado</td>\n",
       "      <td>Vegecampo</td>\n",
       "      <td>[Aceites. salsas y especias, Tomate]</td>\n",
       "      <td>€/KILO)</td>\n",
       "      <td>0.85</td>\n",
       "      <td>2.18</td>\n",
       "      <td>NaN</td>\n",
       "      <td>2023-09-04</td>\n",
       "      <td>NaT</td>\n",
       "    </tr>\n",
       "  </tbody>\n",
       "</table>\n",
       "</div>"
      ],
      "text/plain": [
       "  product_id                                 product      brand  \\\n",
       "0     105460          Colas de langostino al ajillo   Aguinamar   \n",
       "1     104447            Mini tostadas rectangulares       Ortiz   \n",
       "2       1011  Galletas de cacao rellenas de crema ba       Oreo   \n",
       "3     102150                  Maquinilla desechable       Bonté   \n",
       "4      10687                        Tomate troceado   Vegecampo   \n",
       "\n",
       "                                          categories      units  price  \\\n",
       "0  [Pescados. mariscos y ahumados, Ahumados. sala...    €/KILO)   2.99   \n",
       "1   [Panes. harinas y masas, Picos y panes tostados]    €/KILO)   1.98   \n",
       "2            [Galletas. bollos y cereales, Galletas]    €/KILO)   2.88   \n",
       "3             [Perfumería. higiene. salud, Afeitado]  €/UNIDAD)   2.09   \n",
       "4               [Aceites. salsas y especias, Tomate]    €/KILO)   0.85   \n",
       "\n",
       "   unit_price  discount        date ts_load  \n",
       "0       28.48       NaN  2023-09-04     NaT  \n",
       "1       19.80       NaN  2023-09-04     NaT  \n",
       "2       11.71       NaN  2023-09-04     NaT  \n",
       "3        0.21       NaN  2023-09-04     NaT  \n",
       "4        2.18       NaN  2023-09-04     NaT  "
      ]
     },
     "execution_count": 7,
     "metadata": {},
     "output_type": "execute_result"
    }
   ],
   "source": [
    "df.head()"
   ]
  },
  {
   "cell_type": "code",
   "execution_count": 44,
   "id": "c9a38425-c8df-406b-aff7-df0bcd64d30f",
   "metadata": {},
   "outputs": [
    {
     "name": "stdout",
     "output_type": "stream",
     "text": [
      "<class 'pandas.core.frame.DataFrame'>\n",
      "RangeIndex: 253146 entries, 0 to 253145\n",
      "Data columns (total 7 columns):\n",
      " #   Column       Non-Null Count   Dtype         \n",
      "---  ------       --------------   -----         \n",
      " 0   id_producto  253146 non-null  int32         \n",
      " 1   id_date      253146 non-null  int32         \n",
      " 2   price        252719 non-null  float64       \n",
      " 3   unit_price   252719 non-null  float64       \n",
      " 4   discount     0 non-null       float64       \n",
      " 5   year         253146 non-null  int32         \n",
      " 6   ts_load      253146 non-null  datetime64[ns]\n",
      "dtypes: datetime64[ns](1), float64(3), int32(3)\n",
      "memory usage: 10.6 MB\n"
     ]
    },
    {
     "data": {
      "text/html": [
       "<div>\n",
       "<style scoped>\n",
       "    .dataframe tbody tr th:only-of-type {\n",
       "        vertical-align: middle;\n",
       "    }\n",
       "\n",
       "    .dataframe tbody tr th {\n",
       "        vertical-align: top;\n",
       "    }\n",
       "\n",
       "    .dataframe thead th {\n",
       "        text-align: right;\n",
       "    }\n",
       "</style>\n",
       "<table border=\"1\" class=\"dataframe\">\n",
       "  <thead>\n",
       "    <tr style=\"text-align: right;\">\n",
       "      <th></th>\n",
       "      <th>id_producto</th>\n",
       "      <th>id_date</th>\n",
       "      <th>price</th>\n",
       "      <th>unit_price</th>\n",
       "      <th>discount</th>\n",
       "      <th>year</th>\n",
       "      <th>ts_load</th>\n",
       "    </tr>\n",
       "  </thead>\n",
       "  <tbody>\n",
       "  </tbody>\n",
       "</table>\n",
       "</div>"
      ],
      "text/plain": [
       "Empty DataFrame\n",
       "Columns: [id_producto, id_date, price, unit_price, discount, year, ts_load]\n",
       "Index: []"
      ]
     },
     "execution_count": 44,
     "metadata": {},
     "output_type": "execute_result"
    }
   ],
   "source": [
    "df.info()\n",
    "df[df.id_producto == 18013]"
   ]
  },
  {
   "cell_type": "markdown",
   "id": "e23f43a2-9635-486e-a77a-6836cc1bb5ea",
   "metadata": {},
   "source": [
    "# DELETE"
   ]
  },
  {
   "cell_type": "code",
   "execution_count": 2,
   "id": "9794fe68-65b2-49ef-902b-a71edc753494",
   "metadata": {},
   "outputs": [],
   "source": [
    "dt = delta.DeltaTable.forName(spark, \"producto_dia.staging_product\")"
   ]
  },
  {
   "cell_type": "code",
   "execution_count": 4,
   "id": "e2c8fbd1-137c-45fe-a561-f1be7369594e",
   "metadata": {},
   "outputs": [],
   "source": [
    "dt.delete(psf.column(\"id_producto\") != \"18013\")"
   ]
  },
  {
   "cell_type": "code",
   "execution_count": 5,
   "id": "0ae93fcb-446b-4582-823a-0d17f7bcb96c",
   "metadata": {},
   "outputs": [
    {
     "name": "stdout",
     "output_type": "stream",
     "text": [
      "+-----------+--------------------+-----+\n",
      "|id_producto|         url_product|index|\n",
      "+-----------+--------------------+-----+\n",
      "|      18013|https://www.dia.e...| 1747|\n",
      "+-----------+--------------------+-----+\n",
      "\n"
     ]
    }
   ],
   "source": [
    "dt.toDF().show()"
   ]
  },
  {
   "cell_type": "markdown",
   "id": "df7939b4-8cb5-4f7e-a44f-66d9c0ab728c",
   "metadata": {},
   "source": [
    "{:E)"
   ]
  },
  {
   "cell_type": "markdown",
   "id": "eec2683b-c4a2-4bec-bf20-6e5a85d4f70b",
   "metadata": {},
   "source": [
    "  /==o  /---/\n",
    "{:E)===|\n",
    "  \\==o  \\---\\"
   ]
  }
 ],
 "metadata": {
  "kernelspec": {
   "display_name": "Python 3 (ipykernel)",
   "language": "python",
   "name": "python3"
  },
  "language_info": {
   "codemirror_mode": {
    "name": "ipython",
    "version": 3
   },
   "file_extension": ".py",
   "mimetype": "text/x-python",
   "name": "python",
   "nbconvert_exporter": "python",
   "pygments_lexer": "ipython3",
   "version": "3.8.0"
  }
 },
 "nbformat": 4,
 "nbformat_minor": 5
}
