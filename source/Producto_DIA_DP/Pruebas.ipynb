{
 "cells": [
  {
   "cell_type": "code",
   "execution_count": 1,
   "id": "a68fc21d-261b-4193-88db-461a7e2c3f28",
   "metadata": {},
   "outputs": [],
   "source": [
    "import os\n",
    "import sys\n",
    "sys.path.insert(0, os.path.abspath('./source/Producto_DIA_DP'))\n",
    "\n",
    "from SparkDBUtils import SparkDB\n",
    "sparkdb = SparkDB()\n",
    "spark = sparkdb.spark"
   ]
  },
  {
   "cell_type": "code",
   "execution_count": 4,
   "id": "aded3250-a0d9-4496-9c0f-147fd9a70702",
   "metadata": {},
   "outputs": [
    {
     "name": "stdout",
     "output_type": "stream",
     "text": [
      "+------------+---------------+-----------+\n",
      "|   namespace|      tableName|isTemporary|\n",
      "+------------+---------------+-----------+\n",
      "|producto_dia|   producto_dim|      false|\n",
      "|producto_dia|  sequences_cfg|      false|\n",
      "|producto_dia|staging_product|      false|\n",
      "+------------+---------------+-----------+\n",
      "\n"
     ]
    }
   ],
   "source": [
    "spark.sql(\"show tables in producto_dia\").show()"
   ]
  },
  {
   "cell_type": "code",
   "execution_count": 2,
   "id": "2679160c-12d5-4ef0-97ba-fbeeede030ea",
   "metadata": {},
   "outputs": [
    {
     "name": "stdout",
     "output_type": "stream",
     "text": [
      "+--------+\n",
      "|count(1)|\n",
      "+--------+\n",
      "|8291    |\n",
      "+--------+\n",
      "\n"
     ]
    }
   ],
   "source": [
    "query = '''\n",
    "    select count(*) from producto_dia.staging_product\n",
    "'''\n",
    "\n",
    "spark.sql(query).show(truncate=False)"
   ]
  }
 ],
 "metadata": {
  "kernelspec": {
   "display_name": "Python 3 (ipykernel)",
   "language": "python",
   "name": "python3"
  },
  "language_info": {
   "codemirror_mode": {
    "name": "ipython",
    "version": 3
   },
   "file_extension": ".py",
   "mimetype": "text/x-python",
   "name": "python",
   "nbconvert_exporter": "python",
   "pygments_lexer": "ipython3",
   "version": "3.8.0"
  }
 },
 "nbformat": 4,
 "nbformat_minor": 5
}
