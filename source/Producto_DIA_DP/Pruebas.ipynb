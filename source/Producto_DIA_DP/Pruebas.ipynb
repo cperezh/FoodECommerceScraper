{
 "cells": [
  {
   "cell_type": "code",
   "execution_count": 1,
   "id": "a68fc21d-261b-4193-88db-461a7e2c3f28",
   "metadata": {},
   "outputs": [],
   "source": [
    "import os\n",
    "import sys\n",
    "import delta\n",
    "from pyspark.sql.window import Window\n",
    "import pyspark.sql.functions as psf\n",
    "import pandas as pd\n",
    "import pyspark.sql\n",
    "from pyspark.sql.types import StructType, StructField, DateType, \\\n",
    "    StringType, DoubleType, TimestampType\n",
    "\n",
    "sys.path.insert(0, os.path.abspath('./source/Producto_DIA_DP'))\n",
    "\n",
    "from SparkDBUtils import SparkDB\n",
    "sparkdb = SparkDB()\n",
    "spark = sparkdb.spark"
   ]
  },
  {
   "cell_type": "code",
   "execution_count": 4,
   "id": "eac60c69-69a4-480d-9697-0793c3237da5",
   "metadata": {},
   "outputs": [
    {
     "name": "stdout",
     "output_type": "stream",
     "text": [
      "+----------------+\n",
      "|namespace       |\n",
      "+----------------+\n",
      "|analisis_precios|\n",
      "|default         |\n",
      "|producto_dia    |\n",
      "+----------------+\n",
      "\n"
     ]
    }
   ],
   "source": [
    "spark.sql(\"show schemas\").show(truncate=False)"
   ]
  },
  {
   "cell_type": "code",
   "execution_count": 5,
   "id": "aded3250-a0d9-4496-9c0f-147fd9a70702",
   "metadata": {},
   "outputs": [
    {
     "name": "stdout",
     "output_type": "stream",
     "text": [
      "+------------+---------------+-----------+\n",
      "|namespace   |tableName      |isTemporary|\n",
      "+------------+---------------+-----------+\n",
      "|producto_dia|producto_dim   |false      |\n",
      "|producto_dia|sequences_cfg  |false      |\n",
      "|producto_dia|staging_product|false      |\n",
      "+------------+---------------+-----------+\n",
      "\n"
     ]
    }
   ],
   "source": [
    "spark.sql(\"show tables in producto_dia\").show(truncate=False)"
   ]
  },
  {
   "cell_type": "code",
   "execution_count": 2,
   "id": "ea4b637a-8d10-4608-b1d6-56075f7e5ea1",
   "metadata": {},
   "outputs": [
    {
     "name": "stderr",
     "output_type": "stream",
     "text": [
      "c:\\users\\carlos\\proyectos\\foodecommercescraper\\venv\\lib\\site-packages\\pyspark\\sql\\pandas\\conversion.py:248: FutureWarning: Passing unit-less datetime64 dtype to .astype is deprecated and will raise in a future version. Pass 'datetime64[ns]' instead\n",
      "  series = series.astype(t, copy=False)\n"
     ]
    }
   ],
   "source": [
    "df = spark.table(\"producto_dia.producto_dim\").toPandas()"
   ]
  },
  {
   "cell_type": "code",
   "execution_count": 3,
   "id": "1ace6f6c-e357-4bde-be60-e05cf91fcbed",
   "metadata": {},
   "outputs": [
    {
     "data": {
      "text/html": [
       "<div>\n",
       "<style scoped>\n",
       "    .dataframe tbody tr th:only-of-type {\n",
       "        vertical-align: middle;\n",
       "    }\n",
       "\n",
       "    .dataframe tbody tr th {\n",
       "        vertical-align: top;\n",
       "    }\n",
       "\n",
       "    .dataframe thead th {\n",
       "        text-align: right;\n",
       "    }\n",
       "</style>\n",
       "<table border=\"1\" class=\"dataframe\">\n",
       "  <thead>\n",
       "    <tr style=\"text-align: right;\">\n",
       "      <th></th>\n",
       "      <th>product_id</th>\n",
       "      <th>product</th>\n",
       "      <th>brand</th>\n",
       "      <th>categories</th>\n",
       "      <th>units</th>\n",
       "      <th>price</th>\n",
       "      <th>unit_price</th>\n",
       "      <th>discount</th>\n",
       "      <th>date</th>\n",
       "      <th>ts_load</th>\n",
       "    </tr>\n",
       "  </thead>\n",
       "  <tbody>\n",
       "    <tr>\n",
       "      <th>1</th>\n",
       "      <td>1011</td>\n",
       "      <td>Galletas de cacao rellenas de crema ba</td>\n",
       "      <td>Oreo</td>\n",
       "      <td>[Galletas. bollos y cereales, Galletas]</td>\n",
       "      <td>€/KILO)</td>\n",
       "      <td>2.88</td>\n",
       "      <td>11.71</td>\n",
       "      <td>NaN</td>\n",
       "      <td>2023-09-08</td>\n",
       "      <td>2023-09-08 07:11:26.148237</td>\n",
       "    </tr>\n",
       "    <tr>\n",
       "      <th>3</th>\n",
       "      <td>1011</td>\n",
       "      <td>Galletas de cacao rellenas de crema ba</td>\n",
       "      <td>Oreo</td>\n",
       "      <td>[Galletas. bollos y cereales, Galletas]</td>\n",
       "      <td>€/KILO)</td>\n",
       "      <td>2.88</td>\n",
       "      <td>11.71</td>\n",
       "      <td>NaN</td>\n",
       "      <td>2023-09-04</td>\n",
       "      <td>NaT</td>\n",
       "    </tr>\n",
       "  </tbody>\n",
       "</table>\n",
       "</div>"
      ],
      "text/plain": [
       "  product_id                                 product brand  \\\n",
       "1       1011  Galletas de cacao rellenas de crema ba  Oreo   \n",
       "3       1011  Galletas de cacao rellenas de crema ba  Oreo   \n",
       "\n",
       "                                categories    units  price  unit_price  \\\n",
       "1  [Galletas. bollos y cereales, Galletas]  €/KILO)   2.88       11.71   \n",
       "3  [Galletas. bollos y cereales, Galletas]  €/KILO)   2.88       11.71   \n",
       "\n",
       "   discount        date                    ts_load  \n",
       "1       NaN  2023-09-08 2023-09-08 07:11:26.148237  \n",
       "3       NaN  2023-09-04                        NaT  "
      ]
     },
     "execution_count": 3,
     "metadata": {},
     "output_type": "execute_result"
    }
   ],
   "source": [
    "df[df.product_id==\"1011\"]"
   ]
  },
  {
   "cell_type": "code",
   "execution_count": null,
   "id": "c9a38425-c8df-406b-aff7-df0bcd64d30f",
   "metadata": {},
   "outputs": [
    {
     "name": "stdout",
     "output_type": "stream",
     "text": [
      "<class 'pandas.core.frame.DataFrame'>\n",
      "RangeIndex: 6 entries, 0 to 5\n",
      "Data columns (total 10 columns):\n",
      " #   Column      Non-Null Count  Dtype         \n",
      "---  ------      --------------  -----         \n",
      " 0   product_id  6 non-null      object        \n",
      " 1   product     5 non-null      object        \n",
      " 2   brand       5 non-null      object        \n",
      " 3   categories  6 non-null      object        \n",
      " 4   units       5 non-null      object        \n",
      " 5   price       5 non-null      float64       \n",
      " 6   unit_price  5 non-null      float64       \n",
      " 7   discount    0 non-null      float64       \n",
      " 8   date        6 non-null      object        \n",
      " 9   ts_load     0 non-null      datetime64[ns]\n",
      "dtypes: datetime64[ns](1), float64(3), object(6)\n",
      "memory usage: 608.0+ bytes\n"
     ]
    },
    {
     "ename": "AttributeError",
     "evalue": "'DataFrame' object has no attribute 'id_producto'",
     "output_type": "error",
     "traceback": [
      "\u001b[1;31m---------------------------------------------------------------------------\u001b[0m",
      "\u001b[1;31mAttributeError\u001b[0m                            Traceback (most recent call last)",
      "Cell \u001b[1;32mIn[5], line 2\u001b[0m\n\u001b[0;32m      1\u001b[0m df\u001b[38;5;241m.\u001b[39minfo()\n\u001b[1;32m----> 2\u001b[0m df[\u001b[43mdf\u001b[49m\u001b[38;5;241;43m.\u001b[39;49m\u001b[43mid_producto\u001b[49m \u001b[38;5;241m==\u001b[39m \u001b[38;5;241m8360\u001b[39m]\n",
      "File \u001b[1;32mc:\\users\\carlos\\proyectos\\foodecommercescraper\\venv\\lib\\site-packages\\pandas\\core\\generic.py:5902\u001b[0m, in \u001b[0;36mNDFrame.__getattr__\u001b[1;34m(self, name)\u001b[0m\n\u001b[0;32m   5895\u001b[0m \u001b[38;5;28;01mif\u001b[39;00m (\n\u001b[0;32m   5896\u001b[0m     name \u001b[38;5;129;01mnot\u001b[39;00m \u001b[38;5;129;01min\u001b[39;00m \u001b[38;5;28mself\u001b[39m\u001b[38;5;241m.\u001b[39m_internal_names_set\n\u001b[0;32m   5897\u001b[0m     \u001b[38;5;129;01mand\u001b[39;00m name \u001b[38;5;129;01mnot\u001b[39;00m \u001b[38;5;129;01min\u001b[39;00m \u001b[38;5;28mself\u001b[39m\u001b[38;5;241m.\u001b[39m_metadata\n\u001b[0;32m   5898\u001b[0m     \u001b[38;5;129;01mand\u001b[39;00m name \u001b[38;5;129;01mnot\u001b[39;00m \u001b[38;5;129;01min\u001b[39;00m \u001b[38;5;28mself\u001b[39m\u001b[38;5;241m.\u001b[39m_accessors\n\u001b[0;32m   5899\u001b[0m     \u001b[38;5;129;01mand\u001b[39;00m \u001b[38;5;28mself\u001b[39m\u001b[38;5;241m.\u001b[39m_info_axis\u001b[38;5;241m.\u001b[39m_can_hold_identifiers_and_holds_name(name)\n\u001b[0;32m   5900\u001b[0m ):\n\u001b[0;32m   5901\u001b[0m     \u001b[38;5;28;01mreturn\u001b[39;00m \u001b[38;5;28mself\u001b[39m[name]\n\u001b[1;32m-> 5902\u001b[0m \u001b[38;5;28;01mreturn\u001b[39;00m \u001b[38;5;28;43mobject\u001b[39;49m\u001b[38;5;241;43m.\u001b[39;49m\u001b[38;5;21;43m__getattribute__\u001b[39;49m\u001b[43m(\u001b[49m\u001b[38;5;28;43mself\u001b[39;49m\u001b[43m,\u001b[49m\u001b[43m \u001b[49m\u001b[43mname\u001b[49m\u001b[43m)\u001b[49m\n",
      "\u001b[1;31mAttributeError\u001b[0m: 'DataFrame' object has no attribute 'id_producto'"
     ]
    }
   ],
   "source": [
    "df.info()\n",
    "df[df.id_producto == 18013]"
   ]
  },
  {
   "cell_type": "markdown",
   "id": "e23f43a2-9635-486e-a77a-6836cc1bb5ea",
   "metadata": {},
   "source": [
    "# DELETE"
   ]
  },
  {
   "cell_type": "code",
   "execution_count": 2,
   "id": "9794fe68-65b2-49ef-902b-a71edc753494",
   "metadata": {},
   "outputs": [],
   "source": [
    "dt = delta.DeltaTable.forName(spark, \"producto_dia.staging_product\")"
   ]
  },
  {
   "cell_type": "code",
   "execution_count": 4,
   "id": "e2c8fbd1-137c-45fe-a561-f1be7369594e",
   "metadata": {},
   "outputs": [],
   "source": [
    "dt.delete(psf.column(\"id_producto\") != \"18013\")"
   ]
  },
  {
   "cell_type": "code",
   "execution_count": 5,
   "id": "0ae93fcb-446b-4582-823a-0d17f7bcb96c",
   "metadata": {},
   "outputs": [
    {
     "name": "stdout",
     "output_type": "stream",
     "text": [
      "+-----------+--------------------+-----+\n",
      "|id_producto|         url_product|index|\n",
      "+-----------+--------------------+-----+\n",
      "|      18013|https://www.dia.e...| 1747|\n",
      "+-----------+--------------------+-----+\n",
      "\n"
     ]
    }
   ],
   "source": [
    "dt.toDF().show()"
   ]
  },
  {
   "cell_type": "markdown",
   "id": "df7939b4-8cb5-4f7e-a44f-66d9c0ab728c",
   "metadata": {},
   "source": [
    "{:E)"
   ]
  },
  {
   "cell_type": "markdown",
   "id": "eec2683b-c4a2-4bec-bf20-6e5a85d4f70b",
   "metadata": {},
   "source": [
    "  /==o  /---/\n",
    "{:E)===|\n",
    "  \\==o  \\---\\"
   ]
  }
 ],
 "metadata": {
  "kernelspec": {
   "display_name": "Python 3 (ipykernel)",
   "language": "python",
   "name": "python3"
  },
  "language_info": {
   "codemirror_mode": {
    "name": "ipython",
    "version": 3
   },
   "file_extension": ".py",
   "mimetype": "text/x-python",
   "name": "python",
   "nbconvert_exporter": "python",
   "pygments_lexer": "ipython3",
   "version": "3.8.0"
  }
 },
 "nbformat": 4,
 "nbformat_minor": 5
}
