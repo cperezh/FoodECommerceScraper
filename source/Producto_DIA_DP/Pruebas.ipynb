{
 "cells": [
  {
   "cell_type": "code",
   "execution_count": 1,
   "id": "a68fc21d-261b-4193-88db-461a7e2c3f28",
   "metadata": {},
   "outputs": [],
   "source": [
    "import os\n",
    "import sys\n",
    "import delta\n",
    "from pyspark.sql.window import Window\n",
    "import pyspark.sql.functions as psf\n",
    "import pandas as pd\n",
    "import pyspark.sql\n",
    "from pyspark.sql.types import StructType, StructField, DateType, \\\n",
    "    StringType, DoubleType, TimestampType\n",
    "import matplotlib.pyplot as plt\n",
    "\n",
    "# sys.path.insert(0, os.path.abspath('./source/Producto_DIA_DP'))\n",
    "\n",
    "from SparkDBUtils import SparkDB\n",
    "sparkdb = SparkDB()\n",
    "spark = sparkdb.spark"
   ]
  },
  {
   "cell_type": "code",
   "execution_count": 4,
   "id": "eac60c69-69a4-480d-9697-0793c3237da5",
   "metadata": {},
   "outputs": [
    {
     "name": "stdout",
     "output_type": "stream",
     "text": [
      "+----------------+\n",
      "|namespace       |\n",
      "+----------------+\n",
      "|analisis_precios|\n",
      "|default         |\n",
      "|producto_dia    |\n",
      "+----------------+\n",
      "\n"
     ]
    }
   ],
   "source": [
    "spark.sql(\"show schemas\").show(truncate=False)"
   ]
  },
  {
   "cell_type": "code",
   "execution_count": 27,
   "id": "aded3250-a0d9-4496-9c0f-147fd9a70702",
   "metadata": {},
   "outputs": [
    {
     "name": "stdout",
     "output_type": "stream",
     "text": [
      "+------------+---------------------+-----------+\n",
      "|namespace   |tableName            |isTemporary|\n",
      "+------------+---------------------+-----------+\n",
      "|producto_dia|producto_dim         |false      |\n",
      "|producto_dia|producto_dim_20230914|false      |\n",
      "|producto_dia|sequences_cfg        |false      |\n",
      "|producto_dia|staging_product      |false      |\n",
      "+------------+---------------------+-----------+\n",
      "\n"
     ]
    }
   ],
   "source": [
    "spark.sql(\"show tables in producto_dia\").show(truncate=False)"
   ]
  },
  {
   "cell_type": "code",
   "execution_count": 2,
   "id": "ea4b637a-8d10-4608-b1d6-56075f7e5ea1",
   "metadata": {},
   "outputs": [],
   "source": [
    "df = spark.table(\"producto_dia.staging_product\").toPandas()"
   ]
  },
  {
   "cell_type": "code",
   "execution_count": 3,
   "id": "1ace6f6c-e357-4bde-be60-e05cf91fcbed",
   "metadata": {},
   "outputs": [
    {
     "name": "stdout",
     "output_type": "stream",
     "text": [
      "<class 'pandas.core.frame.DataFrame'>\n",
      "Index: 0 entries\n",
      "Data columns (total 3 columns):\n",
      " #   Column       Non-Null Count  Dtype \n",
      "---  ------       --------------  ----- \n",
      " 0   id_producto  0 non-null      object\n",
      " 1   url_product  0 non-null      object\n",
      " 2   index        0 non-null      int32 \n",
      "dtypes: int32(1), object(2)\n",
      "memory usage: 0.0+ bytes\n"
     ]
    }
   ],
   "source": [
    "df.info()"
   ]
  },
  {
   "cell_type": "code",
   "execution_count": 18,
   "id": "e95c1c70-3d5c-4d70-867b-748e3023d1c9",
   "metadata": {},
   "outputs": [
    {
     "name": "stderr",
     "output_type": "stream",
     "text": [
      "c:\\users\\carlos\\proyectos\\foodecommercescraper\\venv\\lib\\site-packages\\pyspark\\sql\\pandas\\conversion.py:248: FutureWarning: Passing unit-less datetime64 dtype to .astype is deprecated and will raise in a future version. Pass 'datetime64[ns]' instead\n",
      "  series = series.astype(t, copy=False)\n"
     ]
    },
    {
     "name": "stdout",
     "output_type": "stream",
     "text": [
      "<class 'pandas.core.frame.DataFrame'>\n",
      "RangeIndex: 16968 entries, 0 to 16967\n",
      "Data columns (total 10 columns):\n",
      " #   Column      Non-Null Count  Dtype         \n",
      "---  ------      --------------  -----         \n",
      " 0   product_id  16968 non-null  object        \n",
      " 1   product     15416 non-null  object        \n",
      " 2   brand       15416 non-null  object        \n",
      " 3   categories  16968 non-null  object        \n",
      " 4   units       16029 non-null  object        \n",
      " 5   price       16029 non-null  float64       \n",
      " 6   unit_price  16029 non-null  float64       \n",
      " 7   discount    0 non-null      float64       \n",
      " 8   date        16968 non-null  object        \n",
      " 9   ts_load     16968 non-null  datetime64[ns]\n",
      "dtypes: datetime64[ns](1), float64(3), object(6)\n",
      "memory usage: 1.3+ MB\n"
     ]
    }
   ],
   "source": [
    "df_producto_dim = spark.table(\"producto_dia.producto_dim\")\n",
    "\n",
    "dfp_producto_dim = df_producto_dim.toPandas()\n",
    "\n",
    "dfp_producto_dim.info()"
   ]
  },
  {
   "cell_type": "code",
   "execution_count": 20,
   "id": "55d4b84e-77a2-45f0-8778-eaedbd0f45b9",
   "metadata": {},
   "outputs": [
    {
     "data": {
      "text/html": [
       "<div>\n",
       "<style scoped>\n",
       "    .dataframe tbody tr th:only-of-type {\n",
       "        vertical-align: middle;\n",
       "    }\n",
       "\n",
       "    .dataframe tbody tr th {\n",
       "        vertical-align: top;\n",
       "    }\n",
       "\n",
       "    .dataframe thead th {\n",
       "        text-align: right;\n",
       "    }\n",
       "</style>\n",
       "<table border=\"1\" class=\"dataframe\">\n",
       "  <thead>\n",
       "    <tr style=\"text-align: right;\">\n",
       "      <th></th>\n",
       "      <th>product_id</th>\n",
       "      <th>product</th>\n",
       "      <th>brand</th>\n",
       "      <th>categories</th>\n",
       "      <th>units</th>\n",
       "      <th>price</th>\n",
       "      <th>unit_price</th>\n",
       "      <th>discount</th>\n",
       "      <th>date</th>\n",
       "      <th>ts_load</th>\n",
       "    </tr>\n",
       "  </thead>\n",
       "  <tbody>\n",
       "    <tr>\n",
       "      <th>0</th>\n",
       "      <td>223231</td>\n",
       "      <td>Queso fresco sin lactosa</td>\n",
       "      <td>Dia</td>\n",
       "      <td>[Charcutería y quesos, Quesos fresco]</td>\n",
       "      <td>€/KILO)</td>\n",
       "      <td>1.68</td>\n",
       "      <td>6.72</td>\n",
       "      <td>NaN</td>\n",
       "      <td>2023-09-12</td>\n",
       "      <td>2023-09-12 06:29:40.991637</td>\n",
       "    </tr>\n",
       "    <tr>\n",
       "      <th>1</th>\n",
       "      <td>224474</td>\n",
       "      <td>Ensalada mezclum</td>\n",
       "      <td>Vegecampo</td>\n",
       "      <td>[Verduras, Verduras y ensaladas preparadas]</td>\n",
       "      <td>€/KILO)</td>\n",
       "      <td>0.95</td>\n",
       "      <td>6.33</td>\n",
       "      <td>NaN</td>\n",
       "      <td>2023-09-12</td>\n",
       "      <td>2023-09-12 06:29:41.358288</td>\n",
       "    </tr>\n",
       "    <tr>\n",
       "      <th>2</th>\n",
       "      <td>225399</td>\n",
       "      <td>Mini barritas de chocolate con caramelo y caca...</td>\n",
       "      <td>Snickers</td>\n",
       "      <td>[Azúcar. chocolates y caramelos, Chocolates y ...</td>\n",
       "      <td>€/KILO)</td>\n",
       "      <td>2.29</td>\n",
       "      <td>15.90</td>\n",
       "      <td>NaN</td>\n",
       "      <td>2023-09-12</td>\n",
       "      <td>2023-09-12 06:29:41.619678</td>\n",
       "    </tr>\n",
       "    <tr>\n",
       "      <th>3</th>\n",
       "      <td>225767</td>\n",
       "      <td>Tinte casta</td>\n",
       "      <td>Nutrisse</td>\n",
       "      <td>[Perfumería. higiene. salud, Tintes]</td>\n",
       "      <td>€/UNIDAD)</td>\n",
       "      <td>5.89</td>\n",
       "      <td>5.89</td>\n",
       "      <td>NaN</td>\n",
       "      <td>2023-09-12</td>\n",
       "      <td>2023-09-12 06:29:41.847959</td>\n",
       "    </tr>\n",
       "    <tr>\n",
       "      <th>4</th>\n",
       "      <td>226508</td>\n",
       "      <td>Pizza serrana</td>\n",
       "      <td>Al</td>\n",
       "      <td>[Pizzas y platos preparados, Pizzas]</td>\n",
       "      <td>€/KILO)</td>\n",
       "      <td>2.69</td>\n",
       "      <td>6.90</td>\n",
       "      <td>NaN</td>\n",
       "      <td>2023-09-12</td>\n",
       "      <td>2023-09-12 06:29:42.122930</td>\n",
       "    </tr>\n",
       "  </tbody>\n",
       "</table>\n",
       "</div>"
      ],
      "text/plain": [
       "  product_id                                            product      brand  \\\n",
       "0     223231                          Queso fresco sin lactosa         Dia   \n",
       "1     224474                                  Ensalada mezclum   Vegecampo   \n",
       "2     225399  Mini barritas de chocolate con caramelo y caca...   Snickers   \n",
       "3     225767                                        Tinte casta   Nutrisse   \n",
       "4     226508                                     Pizza serrana          Al   \n",
       "\n",
       "                                          categories      units  price  \\\n",
       "0              [Charcutería y quesos, Quesos fresco]    €/KILO)   1.68   \n",
       "1        [Verduras, Verduras y ensaladas preparadas]    €/KILO)   0.95   \n",
       "2  [Azúcar. chocolates y caramelos, Chocolates y ...    €/KILO)   2.29   \n",
       "3               [Perfumería. higiene. salud, Tintes]  €/UNIDAD)   5.89   \n",
       "4               [Pizzas y platos preparados, Pizzas]    €/KILO)   2.69   \n",
       "\n",
       "   unit_price  discount        date                    ts_load  \n",
       "0        6.72       NaN  2023-09-12 2023-09-12 06:29:40.991637  \n",
       "1        6.33       NaN  2023-09-12 2023-09-12 06:29:41.358288  \n",
       "2       15.90       NaN  2023-09-12 2023-09-12 06:29:41.619678  \n",
       "3        5.89       NaN  2023-09-12 2023-09-12 06:29:41.847959  \n",
       "4        6.90       NaN  2023-09-12 2023-09-12 06:29:42.122930  "
      ]
     },
     "execution_count": 20,
     "metadata": {},
     "output_type": "execute_result"
    }
   ],
   "source": [
    "dfp_producto_dim.head()"
   ]
  },
  {
   "cell_type": "markdown",
   "id": "ed1363d7-3358-40a7-a40d-d8c9c0f93ce4",
   "metadata": {},
   "source": [
    "Obtenemos los productos duplicados"
   ]
  },
  {
   "cell_type": "code",
   "execution_count": 21,
   "id": "3a4b8767-d8f8-40b8-9979-b0097d5be799",
   "metadata": {},
   "outputs": [
    {
     "data": {
      "text/html": [
       "<div>\n",
       "<style scoped>\n",
       "    .dataframe tbody tr th:only-of-type {\n",
       "        vertical-align: middle;\n",
       "    }\n",
       "\n",
       "    .dataframe tbody tr th {\n",
       "        vertical-align: top;\n",
       "    }\n",
       "\n",
       "    .dataframe thead th {\n",
       "        text-align: right;\n",
       "    }\n",
       "</style>\n",
       "<table border=\"1\" class=\"dataframe\">\n",
       "  <thead>\n",
       "    <tr style=\"text-align: right;\">\n",
       "      <th></th>\n",
       "      <th>product_id</th>\n",
       "      <th>product</th>\n",
       "      <th>brand</th>\n",
       "      <th>categories</th>\n",
       "      <th>units</th>\n",
       "      <th>price</th>\n",
       "      <th>unit_price</th>\n",
       "      <th>discount</th>\n",
       "      <th>date</th>\n",
       "      <th>ts_load</th>\n",
       "    </tr>\n",
       "  </thead>\n",
       "  <tbody>\n",
       "    <tr>\n",
       "      <th>13323</th>\n",
       "      <td>100</td>\n",
       "      <td>Aceite de oliva suave</td>\n",
       "      <td>Carbonell</td>\n",
       "      <td>[Aceites. salsas y especias, Aceites]</td>\n",
       "      <td>€/LITRO)</td>\n",
       "      <td>10.29</td>\n",
       "      <td>10.29</td>\n",
       "      <td>NaN</td>\n",
       "      <td>2023-09-12</td>\n",
       "      <td>2023-09-12 06:59:42.270201</td>\n",
       "    </tr>\n",
       "    <tr>\n",
       "      <th>9829</th>\n",
       "      <td>100</td>\n",
       "      <td>Aceite de oliva suave</td>\n",
       "      <td>Carbonell</td>\n",
       "      <td>[Aceites. salsas y especias, Aceites]</td>\n",
       "      <td>€/LITRO)</td>\n",
       "      <td>10.29</td>\n",
       "      <td>10.29</td>\n",
       "      <td>NaN</td>\n",
       "      <td>2023-09-13</td>\n",
       "      <td>2023-09-13 08:15:19.966818</td>\n",
       "    </tr>\n",
       "    <tr>\n",
       "      <th>12196</th>\n",
       "      <td>1000</td>\n",
       "      <td>Salsa cocktail</td>\n",
       "      <td>Ybarra</td>\n",
       "      <td>[Aceites. salsas y especias, Mayonesa y otras ...</td>\n",
       "      <td>€/LITRO)</td>\n",
       "      <td>1.55</td>\n",
       "      <td>6.89</td>\n",
       "      <td>NaN</td>\n",
       "      <td>2023-09-13</td>\n",
       "      <td>2023-09-13 08:08:12.868690</td>\n",
       "    </tr>\n",
       "    <tr>\n",
       "      <th>13955</th>\n",
       "      <td>1000</td>\n",
       "      <td>Salsa cocktail</td>\n",
       "      <td>Ybarra</td>\n",
       "      <td>[Aceites. salsas y especias, Mayonesa y otras ...</td>\n",
       "      <td>€/LITRO)</td>\n",
       "      <td>1.55</td>\n",
       "      <td>6.89</td>\n",
       "      <td>NaN</td>\n",
       "      <td>2023-09-12</td>\n",
       "      <td>2023-09-12 07:06:06.930044</td>\n",
       "    </tr>\n",
       "    <tr>\n",
       "      <th>12604</th>\n",
       "      <td>100267</td>\n",
       "      <td>Galletas rellenas de chocolate estrellas</td>\n",
       "      <td>Lu</td>\n",
       "      <td>[Galletas. bollos y cereales, Galletas]</td>\n",
       "      <td>€/KILO)</td>\n",
       "      <td>2.31</td>\n",
       "      <td>10.27</td>\n",
       "      <td>NaN</td>\n",
       "      <td>2023-09-13</td>\n",
       "      <td>2023-09-13 07:53:02.324466</td>\n",
       "    </tr>\n",
       "    <tr>\n",
       "      <th>...</th>\n",
       "      <td>...</td>\n",
       "      <td>...</td>\n",
       "      <td>...</td>\n",
       "      <td>...</td>\n",
       "      <td>...</td>\n",
       "      <td>...</td>\n",
       "      <td>...</td>\n",
       "      <td>...</td>\n",
       "      <td>...</td>\n",
       "      <td>...</td>\n",
       "    </tr>\n",
       "    <tr>\n",
       "      <th>9095</th>\n",
       "      <td>99217</td>\n",
       "      <td>Desodorante roll</td>\n",
       "      <td>Dove</td>\n",
       "      <td>[Perfumería. higiene. salud, Desodorantes]</td>\n",
       "      <td>€/100 ML.)</td>\n",
       "      <td>2.29</td>\n",
       "      <td>4.58</td>\n",
       "      <td>NaN</td>\n",
       "      <td>2023-09-12</td>\n",
       "      <td>2023-09-12 06:37:57.820138</td>\n",
       "    </tr>\n",
       "    <tr>\n",
       "      <th>4982</th>\n",
       "      <td>99265</td>\n",
       "      <td>Agua mineral con gas</td>\n",
       "      <td>Dia</td>\n",
       "      <td>[Agua. refrescos y zumos, Agua]</td>\n",
       "      <td>€/LITRO)</td>\n",
       "      <td>0.38</td>\n",
       "      <td>0.25</td>\n",
       "      <td>NaN</td>\n",
       "      <td>2023-09-12</td>\n",
       "      <td>2023-09-12 06:50:44.534846</td>\n",
       "    </tr>\n",
       "    <tr>\n",
       "      <th>6985</th>\n",
       "      <td>99265</td>\n",
       "      <td>Agua mineral con gas</td>\n",
       "      <td>Dia</td>\n",
       "      <td>[Agua. refrescos y zumos, Agua]</td>\n",
       "      <td>€/LITRO)</td>\n",
       "      <td>0.38</td>\n",
       "      <td>0.25</td>\n",
       "      <td>NaN</td>\n",
       "      <td>2023-09-13</td>\n",
       "      <td>2023-09-13 08:03:16.679983</td>\n",
       "    </tr>\n",
       "    <tr>\n",
       "      <th>7682</th>\n",
       "      <td>99783</td>\n",
       "      <td>Chocolate con leche relleno con caramelo y ave...</td>\n",
       "      <td>Milka</td>\n",
       "      <td>[Azúcar. chocolates y caramelos, Chocolates y ...</td>\n",
       "      <td>€/KILO)</td>\n",
       "      <td>3.41</td>\n",
       "      <td>11.37</td>\n",
       "      <td>NaN</td>\n",
       "      <td>2023-09-13</td>\n",
       "      <td>2023-09-13 07:47:33.358275</td>\n",
       "    </tr>\n",
       "    <tr>\n",
       "      <th>13954</th>\n",
       "      <td>99783</td>\n",
       "      <td>Chocolate con leche relleno con caramelo y ave...</td>\n",
       "      <td>Milka</td>\n",
       "      <td>[Azúcar. chocolates y caramelos, Chocolates y ...</td>\n",
       "      <td>€/KILO)</td>\n",
       "      <td>3.41</td>\n",
       "      <td>11.37</td>\n",
       "      <td>NaN</td>\n",
       "      <td>2023-09-12</td>\n",
       "      <td>2023-09-12 07:06:06.557955</td>\n",
       "    </tr>\n",
       "  </tbody>\n",
       "</table>\n",
       "<p>16956 rows × 10 columns</p>\n",
       "</div>"
      ],
      "text/plain": [
       "      product_id                                            product  \\\n",
       "13323        100                             Aceite de oliva suave    \n",
       "9829         100                             Aceite de oliva suave    \n",
       "12196       1000                                    Salsa cocktail    \n",
       "13955       1000                                    Salsa cocktail    \n",
       "12604     100267          Galletas rellenas de chocolate estrellas    \n",
       "...          ...                                                ...   \n",
       "9095       99217                                   Desodorante roll   \n",
       "4982       99265                              Agua mineral con gas    \n",
       "6985       99265                              Agua mineral con gas    \n",
       "7682       99783  Chocolate con leche relleno con caramelo y ave...   \n",
       "13954      99783  Chocolate con leche relleno con caramelo y ave...   \n",
       "\n",
       "           brand                                         categories  \\\n",
       "13323  Carbonell              [Aceites. salsas y especias, Aceites]   \n",
       "9829   Carbonell              [Aceites. salsas y especias, Aceites]   \n",
       "12196     Ybarra  [Aceites. salsas y especias, Mayonesa y otras ...   \n",
       "13955     Ybarra  [Aceites. salsas y especias, Mayonesa y otras ...   \n",
       "12604         Lu            [Galletas. bollos y cereales, Galletas]   \n",
       "...          ...                                                ...   \n",
       "9095        Dove         [Perfumería. higiene. salud, Desodorantes]   \n",
       "4982         Dia                    [Agua. refrescos y zumos, Agua]   \n",
       "6985         Dia                    [Agua. refrescos y zumos, Agua]   \n",
       "7682       Milka  [Azúcar. chocolates y caramelos, Chocolates y ...   \n",
       "13954      Milka  [Azúcar. chocolates y caramelos, Chocolates y ...   \n",
       "\n",
       "            units  price  unit_price  discount        date  \\\n",
       "13323    €/LITRO)  10.29       10.29       NaN  2023-09-12   \n",
       "9829     €/LITRO)  10.29       10.29       NaN  2023-09-13   \n",
       "12196    €/LITRO)   1.55        6.89       NaN  2023-09-13   \n",
       "13955    €/LITRO)   1.55        6.89       NaN  2023-09-12   \n",
       "12604     €/KILO)   2.31       10.27       NaN  2023-09-13   \n",
       "...           ...    ...         ...       ...         ...   \n",
       "9095   €/100 ML.)   2.29        4.58       NaN  2023-09-12   \n",
       "4982     €/LITRO)   0.38        0.25       NaN  2023-09-12   \n",
       "6985     €/LITRO)   0.38        0.25       NaN  2023-09-13   \n",
       "7682      €/KILO)   3.41       11.37       NaN  2023-09-13   \n",
       "13954     €/KILO)   3.41       11.37       NaN  2023-09-12   \n",
       "\n",
       "                         ts_load  \n",
       "13323 2023-09-12 06:59:42.270201  \n",
       "9829  2023-09-13 08:15:19.966818  \n",
       "12196 2023-09-13 08:08:12.868690  \n",
       "13955 2023-09-12 07:06:06.930044  \n",
       "12604 2023-09-13 07:53:02.324466  \n",
       "...                          ...  \n",
       "9095  2023-09-12 06:37:57.820138  \n",
       "4982  2023-09-12 06:50:44.534846  \n",
       "6985  2023-09-13 08:03:16.679983  \n",
       "7682  2023-09-13 07:47:33.358275  \n",
       "13954 2023-09-12 07:06:06.557955  \n",
       "\n",
       "[16956 rows x 10 columns]"
      ]
     },
     "execution_count": 21,
     "metadata": {},
     "output_type": "execute_result"
    }
   ],
   "source": [
    "duplicates = dfp_producto_dim.groupby(\"product_id\")[\"product_id\"]\\\n",
    "    .count()\\\n",
    "    .loc[lambda x : x >= 2]\\\n",
    "    .index\n",
    "\n",
    "dfp_producto_dim[dfp_producto_dim.product_id.isin(duplicates)].sort_values(by=\"product_id\")\n"
   ]
  },
  {
   "cell_type": "code",
   "execution_count": 22,
   "id": "4e8e2f16-15e0-4073-aae1-dda3ae3bef26",
   "metadata": {},
   "outputs": [
    {
     "data": {
      "text/plain": [
       "<AxesSubplot: >"
      ]
     },
     "execution_count": 22,
     "metadata": {},
     "output_type": "execute_result"
    },
    {
     "data": {
      "image/png": "[encoded data removed]",
      "text/plain": [
       "<Figure size 640x480 with 1 Axes>"
      ]
     },
     "metadata": {},
     "output_type": "display_data"
    }
   ],
   "source": [
    "dfp_producto_dim.groupby(\"product_id\")[\"product_id\"].count().hist()"
   ]
  },
  {
   "cell_type": "markdown",
   "id": "6e441925-c59e-466d-85b6-d9164a873b26",
   "metadata": {},
   "source": [
    "# Backup tabla productos"
   ]
  },
  {
   "cell_type": "code",
   "execution_count": 26,
   "id": "b07625ac-04b6-4344-87dc-08224864cd17",
   "metadata": {},
   "outputs": [],
   "source": [
    "df_producto_dim.write.format(\"delta\").saveAsTable(\"producto_dia.producto_dim_20230914\", mode=\"overwrite\")"
   ]
  },
  {
   "cell_type": "markdown",
   "id": "e23f43a2-9635-486e-a77a-6836cc1bb5ea",
   "metadata": {},
   "source": [
    "# DELETE producto_dia.staging_product"
   ]
  },
  {
   "cell_type": "code",
   "execution_count": 4,
   "id": "9794fe68-65b2-49ef-902b-a71edc753494",
   "metadata": {},
   "outputs": [],
   "source": [
    "dt = delta.DeltaTable.forName(spark, \"producto_dia.staging_product\")"
   ]
  },
  {
   "cell_type": "code",
   "execution_count": 5,
   "id": "e2c8fbd1-137c-45fe-a561-f1be7369594e",
   "metadata": {},
   "outputs": [],
   "source": [
    "dt.delete(psf.column(\"index\") > \"112\")"
   ]
  },
  {
   "cell_type": "code",
   "execution_count": 8,
   "id": "0ae93fcb-446b-4582-823a-0d17f7bcb96c",
   "metadata": {},
   "outputs": [
    {
     "name": "stdout",
     "output_type": "stream",
     "text": [
      "<class 'pandas.core.frame.DataFrame'>\n",
      "RangeIndex: 113 entries, 0 to 112\n",
      "Data columns (total 3 columns):\n",
      " #   Column       Non-Null Count  Dtype \n",
      "---  ------       --------------  ----- \n",
      " 0   id_producto  113 non-null    object\n",
      " 1   url_product  113 non-null    object\n",
      " 2   index        113 non-null    int32 \n",
      "dtypes: int32(1), object(2)\n",
      "memory usage: 2.3+ KB\n"
     ]
    }
   ],
   "source": [
    "dt.toDF().toPandas().info()"
   ]
  },
  {
   "cell_type": "markdown",
   "id": "d251e6b1-8a3d-4f22-8e09-c570e3883156",
   "metadata": {},
   "source": [
    "# DELETE producto_dia.producto_dim"
   ]
  },
  {
   "cell_type": "code",
   "execution_count": 3,
   "id": "3cbe87fd-b66c-47e0-85aa-a76a70609348",
   "metadata": {},
   "outputs": [],
   "source": [
    "dt = delta.DeltaTable.forName(spark, \"producto_dia.producto_dim\")"
   ]
  },
  {
   "cell_type": "code",
   "execution_count": 4,
   "id": "4d825408-5f2e-462f-b66b-17abb5193e5c",
   "metadata": {},
   "outputs": [],
   "source": [
    "dt.delete()"
   ]
  },
  {
   "cell_type": "code",
   "execution_count": 5,
   "id": "710446ef-2359-4022-9d76-652f8e67cfe4",
   "metadata": {},
   "outputs": [
    {
     "name": "stdout",
     "output_type": "stream",
     "text": [
      "+----------+-------+-----+----------+-----+-----+----------+--------+----+-------+\n",
      "|product_id|product|brand|categories|units|price|unit_price|discount|date|ts_load|\n",
      "+----------+-------+-----+----------+-----+-----+----------+--------+----+-------+\n",
      "+----------+-------+-----+----------+-----+-----+----------+--------+----+-------+\n",
      "\n"
     ]
    }
   ],
   "source": [
    "dt.toDF().show()"
   ]
  },
  {
   "cell_type": "code",
   "execution_count": null,
   "id": "df289d1d-46ec-45ca-9998-58d058b1e6fe",
   "metadata": {},
   "outputs": [],
   "source": []
  }
 ],
 "metadata": {
  "kernelspec": {
   "display_name": "Python 3 (ipykernel)",
   "language": "python",
   "name": "python3"
  },
  "language_info": {
   "codemirror_mode": {
    "name": "ipython",
    "version": 3
   },
   "file_extension": ".py",
   "mimetype": "text/x-python",
   "name": "python",
   "nbconvert_exporter": "python",
   "pygments_lexer": "ipython3",
   "version": "3.8.0"
  }
 },
 "nbformat": 4,
 "nbformat_minor": 5
}
