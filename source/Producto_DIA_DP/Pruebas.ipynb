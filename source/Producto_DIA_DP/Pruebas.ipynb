{
 "cells": [
  {
   "cell_type": "code",
   "execution_count": 1,
   "id": "a68fc21d-261b-4193-88db-461a7e2c3f28",
   "metadata": {},
   "outputs": [],
   "source": [
    "import os\n",
    "import sys\n",
    "import delta\n",
    "import pyspark.sql.functions as F\n",
    "sys.path.insert(0, os.path.abspath('./source/Producto_DIA_DP'))\n",
    "\n",
    "from SparkDBUtils import SparkDB\n",
    "sparkdb = SparkDB()\n",
    "spark = sparkdb.spark"
   ]
  },
  {
   "cell_type": "code",
   "execution_count": 4,
   "id": "aded3250-a0d9-4496-9c0f-147fd9a70702",
   "metadata": {},
   "outputs": [
    {
     "name": "stdout",
     "output_type": "stream",
     "text": [
      "+------------+---------------+-----------+\n",
      "|   namespace|      tableName|isTemporary|\n",
      "+------------+---------------+-----------+\n",
      "|producto_dia|   producto_dim|      false|\n",
      "|producto_dia|  sequences_cfg|      false|\n",
      "|producto_dia|staging_product|      false|\n",
      "+------------+---------------+-----------+\n",
      "\n"
     ]
    }
   ],
   "source": [
    "spark.sql(\"show tables in producto_dia\").show()"
   ]
  },
  {
   "cell_type": "code",
   "execution_count": 8,
   "id": "2679160c-12d5-4ef0-97ba-fbeeede030ea",
   "metadata": {},
   "outputs": [
    {
     "name": "stdout",
     "output_type": "stream",
     "text": [
      "+--------+\n",
      "|count(1)|\n",
      "+--------+\n",
      "|30      |\n",
      "+--------+\n",
      "\n"
     ]
    }
   ],
   "source": [
    "query = '''\n",
    "    select count(*) from producto_dia.staging_product\n",
    "'''\n",
    "\n",
    "spark.sql(query).show(truncate=False)"
   ]
  },
  {
   "cell_type": "code",
   "execution_count": 2,
   "id": "4bb7ceff-e03b-4e8d-9509-5dcba98b1130",
   "metadata": {},
   "outputs": [
    {
     "name": "stdout",
     "output_type": "stream",
     "text": [
      "+----------+----------+\n",
      "|min(index)|max(index)|\n",
      "+----------+----------+\n",
      "|300       |8350      |\n",
      "+----------+----------+\n",
      "\n"
     ]
    }
   ],
   "source": [
    "query = '''\n",
    "    select min(index), max(index) from producto_dia.staging_product limit 10\n",
    "'''\n",
    "\n",
    "spark.sql(query).show(truncate=False)"
   ]
  },
  {
   "cell_type": "code",
   "execution_count": 4,
   "id": "9794fe68-65b2-49ef-902b-a71edc753494",
   "metadata": {},
   "outputs": [],
   "source": [
    "dt = delta.DeltaTable.forName(spark, \"producto_dia.staging_product\")"
   ]
  },
  {
   "cell_type": "code",
   "execution_count": 6,
   "id": "e2c8fbd1-137c-45fe-a561-f1be7369594e",
   "metadata": {},
   "outputs": [],
   "source": [
    "dt.delete(F.col(\"index\") > 30)"
   ]
  }
 ],
 "metadata": {
  "kernelspec": {
   "display_name": "Python 3 (ipykernel)",
   "language": "python",
   "name": "python3"
  },
  "language_info": {
   "codemirror_mode": {
    "name": "ipython",
    "version": 3
   },
   "file_extension": ".py",
   "mimetype": "text/x-python",
   "name": "python",
   "nbconvert_exporter": "python",
   "pygments_lexer": "ipython3",
   "version": "3.8.0"
  }
 },
 "nbformat": 4,
 "nbformat_minor": 5
}
