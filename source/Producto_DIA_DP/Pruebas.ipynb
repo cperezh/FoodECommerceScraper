{
 "cells": [
  {
   "cell_type": "code",
   "execution_count": 1,
   "id": "a68fc21d-261b-4193-88db-461a7e2c3f28",
   "metadata": {},
   "outputs": [],
   "source": [
    "import os\n",
    "import sys\n",
    "import delta\n",
    "from pyspark.sql.window import Window\n",
    "import pyspark.sql.functions as psf\n",
    "import pandas as pd\n",
    "import pyspark.sql\n",
    "from pyspark.sql.types import StructType, StructField, DateType, \\\n",
    "    StringType, FloatType, TimestampType\n",
    "\n",
    "sys.path.insert(0, os.path.abspath('./source/Producto_DIA_DP'))\n",
    "\n",
    "from SparkDBUtils import SparkDB\n",
    "sparkdb = SparkDB()\n",
    "spark = sparkdb.spark"
   ]
  },
  {
   "cell_type": "code",
   "execution_count": 26,
   "id": "aded3250-a0d9-4496-9c0f-147fd9a70702",
   "metadata": {},
   "outputs": [
    {
     "name": "stdout",
     "output_type": "stream",
     "text": [
      "+----------------+------------------------+-----------+\n",
      "|namespace       |tableName               |isTemporary|\n",
      "+----------------+------------------------+-----------+\n",
      "|analisis_precios|date_dim                |false      |\n",
      "|analisis_precios|precio_dia_agg_norm_fact|false      |\n",
      "|analisis_precios|producto_dia_fact       |false      |\n",
      "|analisis_precios|producto_dim            |false      |\n",
      "|analisis_precios|sequences_cfg           |false      |\n",
      "+----------------+------------------------+-----------+\n",
      "\n"
     ]
    }
   ],
   "source": [
    "spark.sql(\"show tables in analisis_precios\").show(truncate=False)"
   ]
  },
  {
   "cell_type": "code",
   "execution_count": 27,
   "id": "ea4b637a-8d10-4608-b1d6-56075f7e5ea1",
   "metadata": {},
   "outputs": [
    {
     "name": "stderr",
     "output_type": "stream",
     "text": [
      "c:\\users\\carlos\\proyectos\\foodecommercescraper\\venv\\lib\\site-packages\\pyspark\\sql\\pandas\\conversion.py:248: FutureWarning: Passing unit-less datetime64 dtype to .astype is deprecated and will raise in a future version. Pass 'datetime64[ns]' instead\n",
      "  series = series.astype(t, copy=False)\n"
     ]
    }
   ],
   "source": [
    "df = spark.table(\"analisis_precios.producto_dia_fact\").toPandas()"
   ]
  },
  {
   "cell_type": "code",
   "execution_count": 44,
   "id": "c9a38425-c8df-406b-aff7-df0bcd64d30f",
   "metadata": {},
   "outputs": [
    {
     "name": "stdout",
     "output_type": "stream",
     "text": [
      "<class 'pandas.core.frame.DataFrame'>\n",
      "RangeIndex: 253146 entries, 0 to 253145\n",
      "Data columns (total 7 columns):\n",
      " #   Column       Non-Null Count   Dtype         \n",
      "---  ------       --------------   -----         \n",
      " 0   id_producto  253146 non-null  int32         \n",
      " 1   id_date      253146 non-null  int32         \n",
      " 2   price        252719 non-null  float64       \n",
      " 3   unit_price   252719 non-null  float64       \n",
      " 4   discount     0 non-null       float64       \n",
      " 5   year         253146 non-null  int32         \n",
      " 6   ts_load      253146 non-null  datetime64[ns]\n",
      "dtypes: datetime64[ns](1), float64(3), int32(3)\n",
      "memory usage: 10.6 MB\n"
     ]
    },
    {
     "data": {
      "text/html": [
       "<div>\n",
       "<style scoped>\n",
       "    .dataframe tbody tr th:only-of-type {\n",
       "        vertical-align: middle;\n",
       "    }\n",
       "\n",
       "    .dataframe tbody tr th {\n",
       "        vertical-align: top;\n",
       "    }\n",
       "\n",
       "    .dataframe thead th {\n",
       "        text-align: right;\n",
       "    }\n",
       "</style>\n",
       "<table border=\"1\" class=\"dataframe\">\n",
       "  <thead>\n",
       "    <tr style=\"text-align: right;\">\n",
       "      <th></th>\n",
       "      <th>id_producto</th>\n",
       "      <th>id_date</th>\n",
       "      <th>price</th>\n",
       "      <th>unit_price</th>\n",
       "      <th>discount</th>\n",
       "      <th>year</th>\n",
       "      <th>ts_load</th>\n",
       "    </tr>\n",
       "  </thead>\n",
       "  <tbody>\n",
       "  </tbody>\n",
       "</table>\n",
       "</div>"
      ],
      "text/plain": [
       "Empty DataFrame\n",
       "Columns: [id_producto, id_date, price, unit_price, discount, year, ts_load]\n",
       "Index: []"
      ]
     },
     "execution_count": 44,
     "metadata": {},
     "output_type": "execute_result"
    }
   ],
   "source": [
    "df.info()\n",
    "df[df.id_producto == 18013]"
   ]
  },
  {
   "cell_type": "code",
   "execution_count": 42,
   "id": "9b90d05e-6b83-4b03-ac8b-670e6c2e1c3c",
   "metadata": {},
   "outputs": [],
   "source": [
    " simple_schema = StructType([\n",
    "        StructField(\"date\", DateType(), True),\n",
    "        StructField(\"product\", StringType(), True),\n",
    "        StructField(\"product_id\", StringType(), True),\n",
    "        StructField(\"brand\", StringType(), True),\n",
    "        StructField(\"price\", FloatType(), True),\n",
    "        StructField(\"categories\", StringType(), True),\n",
    "        StructField(\"unit_price\", FloatType(), True),\n",
    "        StructField(\"units\", StringType(), True),\n",
    "        StructField(\"discount\", FloatType(), True),\n",
    "        StructField(\"ts_load\", TimestampType(), True)\n",
    "    ])\n",
    "    \n",
    "dataset = spark.read.option(\"delimiter\", \";\") \\\n",
    "            .csv(\"../../dataset/dataset.csv\", schema=simple_schema, header=True)"
   ]
  },
  {
   "cell_type": "code",
   "execution_count": 104,
   "id": "322c1207-b6a5-453d-84e5-7260371fddfe",
   "metadata": {},
   "outputs": [
    {
     "name": "stdout",
     "output_type": "stream",
     "text": [
      "+----------+--------------------+----------+---------+-----+--------------------+----------+--------+--------+-------+\n",
      "|      date|             product|product_id|    brand|price|          categories|unit_price|   units|discount|ts_load|\n",
      "+----------+--------------------+----------+---------+-----+--------------------+----------+--------+--------+-------+\n",
      "|2022-11-21|CARBONELL aceite ...|     18013|CARBONELL| 5.75|['Despensa', 'Ace...|      7.67|    €/l.|    null|   null|\n",
      "|2022-11-23|CARBONELL aceite ...|     18013|CARBONELL| 5.75|['Despensa', 'Ace...|      7.67|    €/l.|    null|   null|\n",
      "|2022-11-24|CARBONELL aceite ...|     18013|CARBONELL| 5.75|['Despensa', 'Ace...|      7.67|    €/l.|    null|   null|\n",
      "|2022-11-25|CARBONELL aceite ...|     18013|CARBONELL| 5.75|['Despensa', 'Ace...|      7.67|    €/l.|    null|   null|\n",
      "|2022-11-26|CARBONELL aceite ...|     18013|CARBONELL| 5.75|['Despensa', 'Ace...|      7.67|    €/l.|    null|   null|\n",
      "|2022-11-27|CARBONELL aceite ...|     18013|CARBONELL| 5.75|['Despensa', 'Ace...|      7.67|    €/l.|    null|   null|\n",
      "|2022-11-28|CARBONELL aceite ...|     18013|CARBONELL| 5.75|['Despensa', 'Ace...|      7.67|    €/l.|    null|   null|\n",
      "|2022-11-29|CARBONELL aceite ...|     18013|CARBONELL| 7.05|['Despensa', 'Ace...|       9.4|    €/l.|    null|   null|\n",
      "|2022-12-01|CARBONELL aceite ...|     18013|CARBONELL| 7.05|['Despensa', 'Ace...|       9.4|    €/l.|    null|   null|\n",
      "|2022-12-03|CARBONELL aceite ...|     18013|CARBONELL| 7.05|['Despensa', 'Ace...|       9.4|    €/l.|    null|   null|\n",
      "|2022-12-06|CARBONELL aceite ...|     18013|CARBONELL| 7.05|['Despensa', 'Ace...|       9.4|    €/l.|    null|   null|\n",
      "|2022-12-08|CARBONELL aceite ...|     18013|CARBONELL| 7.05|['Despensa', 'Ace...|       9.4|    €/l.|    null|   null|\n",
      "|2022-12-10|CARBONELL aceite ...|     18013|CARBONELL| 7.05|['Despensa', 'Ace...|       9.4|    €/l.|    null|   null|\n",
      "|2022-12-11|CARBONELL aceite ...|     18013|CARBONELL| 7.05|['Despensa', 'Ace...|       9.4|    €/l.|    null|   null|\n",
      "|2022-12-12|CARBONELL aceite ...|     18013|CARBONELL| 7.05|['Despensa', 'Ace...|       9.4|    €/l.|    null|   null|\n",
      "|2022-12-13|CARBONELL aceite ...|     18013|CARBONELL| 7.05|['Despensa', 'Ace...|       9.4|    €/l.|    null|   null|\n",
      "|2022-12-19|CARBONELL aceite ...|     18013|CARBONELL| 7.05|['Despensa', 'Ace...|       9.4|    €/l.|    null|   null|\n",
      "|2022-12-22|CARBONELL aceite ...|     18013|CARBONELL| 7.05|['Despensa', 'Ace...|       9.4|    €/l.|    null|   null|\n",
      "|2022-12-23|CARBONELL aceite ...|     18013|CARBONELL| 7.05|['Despensa', 'Ace...|       9.4|    €/l.|    null|   null|\n",
      "|2022-12-24|CARBONELL aceite ...|     18013|CARBONELL| 7.05|['Despensa', 'Ace...|       9.4|    €/l.|    null|   null|\n",
      "|2022-12-26|CARBONELL aceite ...|     18013|CARBONELL| 7.05|['Despensa', 'Ace...|       9.4|    €/l.|    null|   null|\n",
      "|2022-12-27|CARBONELL aceite ...|     18013|CARBONELL| 7.05|['Despensa', 'Ace...|       9.4|    €/l.|    null|   null|\n",
      "|2022-12-28|CARBONELL aceite ...|     18013|CARBONELL| 7.05|['Despensa', 'Ace...|       9.4|    €/l.|    null|   null|\n",
      "|2022-12-29|CARBONELL aceite ...|     18013|CARBONELL| 7.05|['Despensa', 'Ace...|       9.4|    €/l.|    null|   null|\n",
      "|2022-12-31|CARBONELL aceite ...|     18013|CARBONELL| 7.05|['Despensa', 'Ace...|       9.4|    €/l.|    null|   null|\n",
      "|2023-01-06|CARBONELL aceite ...|     18013|CARBONELL| 6.73|['Despensa', 'Ace...|      8.97|    €/l.|    null|   null|\n",
      "|2023-01-07|CARBONELL aceite ...|     18013|CARBONELL| 6.73|['Despensa', 'Ace...|      8.97|    €/l.|    null|   null|\n",
      "|2023-01-12|CARBONELL aceite ...|     18013|CARBONELL| 6.73|['Despensa', 'Ace...|      8.97|    €/l.|    null|   null|\n",
      "|2023-01-13|CARBONELL aceite ...|     18013|CARBONELL| 6.73|['Despensa', 'Ace...|      8.97|    €/l.|    null|   null|\n",
      "|2023-01-16|CARBONELL aceite ...|     18013|CARBONELL| 6.73|['Despensa', 'Ace...|      8.97|    €/l.|    null|   null|\n",
      "|2023-01-18|CARBONELL aceite ...|     18013|CARBONELL| 6.73|['Despensa', 'Ace...|      8.97|    €/l.|    null|   null|\n",
      "|2023-01-19|CARBONELL aceite ...|     18013|CARBONELL| 6.73|['Despensa', 'Ace...|      8.97|    €/l.|    null|   null|\n",
      "|2023-01-20|CARBONELL aceite ...|     18013|CARBONELL| 6.73|['Despensa', 'Ace...|      8.97|    €/l.|    null|   null|\n",
      "|2023-01-23|CARBONELL aceite ...|     18013|CARBONELL| 6.73|['Despensa', 'Ace...|      8.97|    €/l.|    null|   null|\n",
      "|2023-01-25|CARBONELL aceite ...|     18013|CARBONELL| 6.73|['Despensa', 'Ace...|      8.97|    €/l.|    null|   null|\n",
      "|2023-02-08|CARBONELL aceite ...|     18013|CARBONELL| 6.67|['Despensa', 'Ace...|      8.89|    €/l.|    null|   null|\n",
      "|2023-02-10|CARBONELL aceite ...|     18013|CARBONELL| 6.67|['Despensa', 'Ace...|      8.89|    €/l.|    null|   null|\n",
      "|2023-02-11|CARBONELL aceite ...|     18013|CARBONELL| 6.67|['Despensa', 'Ace...|      8.89|    €/l.|    null|   null|\n",
      "|2023-02-20|CARBONELL aceite ...|     18013|CARBONELL| 6.67|['Despensa', 'Ace...|      8.89|    €/l.|    null|   null|\n",
      "|2023-02-28|CARBONELL aceite ...|     18013|CARBONELL| 7.15|['Despensa', 'Ace...|      9.53|    €/l.|    null|   null|\n",
      "|2023-03-11|CARBONELL aceite ...|     18013|CARBONELL| 7.15|['Despensa', 'Ace...|      9.53|    €/l.|    null|   null|\n",
      "|2023-07-30|Aceite de oliva v...|     18013|Carbonell| 7.79|['Aceites. salsas...|     10.39|€/LITRO)|    null|   null|\n",
      "+----------+--------------------+----------+---------+-----+--------------------+----------+--------+--------+-------+\n",
      "\n"
     ]
    }
   ],
   "source": [
    "dt = dataset.where(\"product_id == 18013\")\n",
    "dt.show(50)"
   ]
  },
  {
   "cell_type": "code",
   "execution_count": 76,
   "id": "28c32329-fb7a-4cf9-84bc-207edfa11a54",
   "metadata": {},
   "outputs": [
    {
     "name": "stdout",
     "output_type": "stream",
     "text": [
      "+-----------+--------------------+-------+--------------------+----------+----------+--------------------+----------+--------------------+\n",
      "|id_producto|             product|  brand|          categories|product_id|      date|           categoria|     units|             ts_load|\n",
      "+-----------+--------------------+-------+--------------------+----------+----------+--------------------+----------+--------------------+\n",
      "|        377|Leche semidesnata...|Pascual|['Leche. huevos y...|    119675|2023-08-23|Leche. huevos y m...|  €/LITRO)|2023-08-29 17:25:...|\n",
      "|        394|Café en grano nat...| Toscaf|['Café. cacao e i...|    120166|2023-08-23|Café. cacao e inf...|   €/KILO)|2023-08-29 17:25:...|\n",
      "|        443|Bálsamo after shave |  Nivea|['Perfumería. hig...|    124014|2023-07-30|Perfumería. higie...|€/100 ML.)|2023-08-29 17:25:...|\n",
      "|        525|Alimento para gat...|     As|['Mascotas', 'Gat...|    128357|2023-08-27|            Mascotas|   €/KILO)|2023-08-29 17:25:...|\n",
      "|        542|Sardinas en aceit...|   Mari|['Conservas. cald...|    129041|2023-08-26|Conservas. caldos...|   €/KILO)|2023-08-29 17:25:...|\n",
      "|        715|Panecillos tostad...|     El|['Panes. harinas ...|    135901|2023-08-27|Panes. harinas y ...|   €/KILO)|2023-08-29 17:25:...|\n",
      "|        717|Tortas de anís co...|   Inés|['Galletas. bollo...|    136186|2023-08-23|Galletas. bollos ...|   €/KILO)|2023-08-29 17:25:...|\n",
      "|       1021|Pasta dentífrica pro|   Oral|['Perfumería. hig...|    149982|2023-08-23|Perfumería. higie...|€/100 ML.)|2023-08-29 17:25:...|\n",
      "|       1026|Ambientador autom...|    Dia|['Limpieza y hoga...|    150200|2023-08-27|    Limpieza y hogar|  €/LITRO)|2023-08-29 17:25:...|\n",
      "|       1032|Bebida refrescant...|  Capri|['Agua. refrescos...|    150843|2023-08-27|Agua. refrescos y...|  €/LITRO)|2023-08-29 17:25:...|\n",
      "+-----------+--------------------+-------+--------------------+----------+----------+--------------------+----------+--------------------+\n",
      "only showing top 10 rows\n",
      "\n"
     ]
    }
   ],
   "source": [
    "\n",
    "@psf.pandas_udf(StringType())\n",
    "def split_categoria(categorie_col: pd.Series) -> pd.Series:\n",
    "    \"\"\"\n",
    "    Extrae el primer elemento de la lista de categorias\n",
    "    \"\"\"\n",
    "\n",
    "    salida = categorie_col.apply(lambda x: eval(x)[0])\n",
    "\n",
    "    return salida\n",
    "    \n",
    "# Ventana para obtener la ultima version de cada producto\n",
    "window_spec = Window \\\n",
    "    .partitionBy(\"product_id\") \\\n",
    "    .orderBy(psf.col(\"date\").desc())\n",
    "\n",
    "# Nos quedamos con la ultimaer version de cada producto en el dataset,\n",
    "# ya que se repiten en todas las fechas\n",
    "dataset_ultimos = dt \\\n",
    "    .withColumn(\"row_number\", psf.row_number().over(window_spec)) \\\n",
    "    .where(\"row_number = 1\") \\\n",
    "    .withColumn(\"categoria\", split_categoria(dt.categories)) \\\n",
    "    .select([\"product_id\",\n",
    "             \"product\",\n",
    "             \"units\",\n",
    "             \"brand\",\n",
    "             \"categories\",\n",
    "             \"categoria\",\n",
    "             \"date\"])\n",
    "\n",
    " # Cargo los registros en base de datos\n",
    "db = spark.table(\"analisis_precios.producto_dim\").alias(\"db\")\n",
    "\n",
    "db.show(10)"
   ]
  },
  {
   "cell_type": "code",
   "execution_count": 81,
   "id": "2579c7ff-b2bb-4b68-9e7d-1c548ea19fec",
   "metadata": {},
   "outputs": [
    {
     "name": "stdout",
     "output_type": "stream",
     "text": [
      "+-----------+--------------------+---------+--------------------+----------+----------+--------------------+--------+--------------------+\n",
      "|id_producto|             product|    brand|          categories|product_id|      date|           categoria|   units|             ts_load|\n",
      "+-----------+--------------------+---------+--------------------+----------+----------+--------------------+--------+--------------------+\n",
      "|       1839|Aceite de oliva v...|Carbonell|['Aceites. salsas...|     18013|2023-07-30|Aceites. salsas y...|€/LITRO)|2023-08-29 17:25:...|\n",
      "+-----------+--------------------+---------+--------------------+----------+----------+--------------------+--------+--------------------+\n",
      "\n"
     ]
    }
   ],
   "source": [
    "db.where(\"product_id = 18013\").show()"
   ]
  },
  {
   "cell_type": "code",
   "execution_count": 83,
   "id": "5ac7180e-2782-4975-8b21-ab36d1898d05",
   "metadata": {},
   "outputs": [
    {
     "name": "stdout",
     "output_type": "stream",
     "text": [
      "+----------+--------------------+--------+---------+--------------------+--------------------+----------+-----------+\n",
      "|product_id|             product|   units|    brand|          categories|           categoria|      date|id_producto|\n",
      "+----------+--------------------+--------+---------+--------------------+--------------------+----------+-----------+\n",
      "|     18013|Aceite de oliva v...|€/LITRO)|Carbonell|['Aceites. salsas...|Aceites. salsas y...|2023-07-30|       1839|\n",
      "+----------+--------------------+--------+---------+--------------------+--------------------+----------+-----------+\n",
      "\n"
     ]
    }
   ],
   "source": [
    " # Obtengo los del dataset que si que están en base de datos\n",
    "estan = dataset_ultimos.join(db.select([\"product_id\", \"id_producto\"]), \"product_id\", \"inner\")\n",
    "\n",
    "estan.show()"
   ]
  },
  {
   "cell_type": "code",
   "execution_count": 97,
   "id": "45c05c75-45c2-49e9-a3de-04c970535a85",
   "metadata": {},
   "outputs": [
    {
     "name": "stdout",
     "output_type": "stream",
     "text": [
      "+-------+----------+----+--------------------+\n",
      "|id_date|      date|year|             ts_load|\n",
      "+-------+----------+----+--------------------+\n",
      "|      1|2022-11-21|2022|2023-08-27 17:48:...|\n",
      "+-------+----------+----+--------------------+\n",
      "only showing top 1 row\n",
      "\n"
     ]
    }
   ],
   "source": [
    "producto_dia_fact = spark.table(\"analisis_precios.producto_dia_fact\")\n",
    "date_dim = spark.table(\"analisis_precios.date_dim\")\n",
    "producto_dim = spark.table(\"analisis_precios.producto_dim\").where(\"product_id = 18013\")\n",
    "\n",
    "date_dim.show(1)"
   ]
  },
  {
   "cell_type": "code",
   "execution_count": 102,
   "id": "ed3edaff-32b1-4d61-bbef-4a7f2dbe39be",
   "metadata": {},
   "outputs": [
    {
     "name": "stdout",
     "output_type": "stream",
     "text": [
      "+----------+\n",
      "|      date|\n",
      "+----------+\n",
      "|2023-07-30|\n",
      "|2023-03-11|\n",
      "|2023-02-28|\n",
      "|2023-02-20|\n",
      "|2023-02-11|\n",
      "|2023-02-10|\n",
      "|2023-02-08|\n",
      "|2023-01-25|\n",
      "|2023-01-23|\n",
      "|2023-01-20|\n",
      "|2023-01-19|\n",
      "|2023-01-18|\n",
      "|2023-01-16|\n",
      "|2023-01-13|\n",
      "|2023-01-12|\n",
      "|2023-01-07|\n",
      "|2023-01-06|\n",
      "|2022-12-31|\n",
      "|2022-12-29|\n",
      "|2022-12-28|\n",
      "+----------+\n",
      "only showing top 20 rows\n",
      "\n"
     ]
    }
   ],
   "source": [
    "producto_dia_fact\\\n",
    "    .join(producto_dim, \"id_producto\", \"inner\")\\\n",
    "    .join(date_dim.alias(\"dd\"), \"id_date\", \"inner\")\\\n",
    "    .select([\"dd.date\"])\\\n",
    "    .orderBy(F.col(\"dd.date\").desc(), descending=True)\\\n",
    "    .show()"
   ]
  },
  {
   "cell_type": "code",
   "execution_count": 87,
   "id": "e4fff2ec-7af8-4424-9ca5-e6fb1f336b59",
   "metadata": {},
   "outputs": [
    {
     "name": "stdout",
     "output_type": "stream",
     "text": [
      "+-----------+-------+-----------------+-----------------+--------+----+--------------------+\n",
      "|id_producto|id_date|            price|       unit_price|discount|year|             ts_load|\n",
      "+-----------+-------+-----------------+-----------------+--------+----+--------------------+\n",
      "|       1839|      4|             5.75|7.670000076293945|    null|2022|2023-08-27 17:49:...|\n",
      "|       1839|      6|             5.75|7.670000076293945|    null|2022|2023-08-27 17:49:...|\n",
      "|       1839|     22|7.050000190734863|9.399999618530273|    null|2022|2023-08-27 17:49:...|\n",
      "|       1839|     15|7.050000190734863|9.399999618530273|    null|2022|2023-08-27 17:49:...|\n",
      "|       1839|     13|7.050000190734863|9.399999618530273|    null|2022|2023-08-27 17:49:...|\n",
      "|       1839|     16|7.050000190734863|9.399999618530273|    null|2022|2023-08-27 17:49:...|\n",
      "|       1839|     23|7.050000190734863|9.399999618530273|    null|2022|2023-08-27 17:49:...|\n",
      "|       1839|     19|7.050000190734863|9.399999618530273|    null|2022|2023-08-27 17:49:...|\n",
      "|       1839|      7|             5.75|7.670000076293945|    null|2022|2023-08-27 17:49:...|\n",
      "|       1839|      8|7.050000190734863|9.399999618530273|    null|2022|2023-08-27 17:49:...|\n",
      "|       1839|     11|7.050000190734863|9.399999618530273|    null|2022|2023-08-27 17:49:...|\n",
      "|       1839|      3|             5.75|7.670000076293945|    null|2022|2023-08-27 17:49:...|\n",
      "|       1839|      5|             5.75|7.670000076293945|    null|2022|2023-08-27 17:49:...|\n",
      "|       1839|     18|7.050000190734863|9.399999618530273|    null|2022|2023-08-27 17:49:...|\n",
      "|       1839|     12|7.050000190734863|9.399999618530273|    null|2022|2023-08-27 17:49:...|\n",
      "|       1839|      9|7.050000190734863|9.399999618530273|    null|2022|2023-08-27 17:49:...|\n",
      "|       1839|     20|7.050000190734863|9.399999618530273|    null|2022|2023-08-27 17:49:...|\n",
      "|       1839|      1|             5.75|7.670000076293945|    null|2022|2023-08-27 17:49:...|\n",
      "|       1839|      2|             5.75|7.670000076293945|    null|2022|2023-08-27 17:49:...|\n",
      "|       1839|     10|7.050000190734863|9.399999618530273|    null|2022|2023-08-27 17:49:...|\n",
      "+-----------+-------+-----------------+-----------------+--------+----+--------------------+\n",
      "only showing top 20 rows\n",
      "\n"
     ]
    }
   ],
   "source": [
    "producto_dia_fact.where(\"id_producto = 1839\")\\\n",
    "    .orderBy(\"\")\n",
    "    .show()"
   ]
  },
  {
   "cell_type": "markdown",
   "id": "e23f43a2-9635-486e-a77a-6836cc1bb5ea",
   "metadata": {},
   "source": [
    "# DELETE"
   ]
  },
  {
   "cell_type": "code",
   "execution_count": 2,
   "id": "9794fe68-65b2-49ef-902b-a71edc753494",
   "metadata": {},
   "outputs": [],
   "source": [
    "dt = delta.DeltaTable.forName(spark, \"producto_dia.staging_product\")"
   ]
  },
  {
   "cell_type": "code",
   "execution_count": 4,
   "id": "e2c8fbd1-137c-45fe-a561-f1be7369594e",
   "metadata": {},
   "outputs": [],
   "source": [
    "dt.delete(psf.column(\"id_producto\") != \"18013\")"
   ]
  },
  {
   "cell_type": "code",
   "execution_count": 5,
   "id": "0ae93fcb-446b-4582-823a-0d17f7bcb96c",
   "metadata": {},
   "outputs": [
    {
     "name": "stdout",
     "output_type": "stream",
     "text": [
      "+-----------+--------------------+-----+\n",
      "|id_producto|         url_product|index|\n",
      "+-----------+--------------------+-----+\n",
      "|      18013|https://www.dia.e...| 1747|\n",
      "+-----------+--------------------+-----+\n",
      "\n"
     ]
    }
   ],
   "source": [
    "dt.toDF().show()"
   ]
  },
  {
   "cell_type": "markdown",
   "id": "df7939b4-8cb5-4f7e-a44f-66d9c0ab728c",
   "metadata": {},
   "source": [
    "{:E)"
   ]
  },
  {
   "cell_type": "markdown",
   "id": "eec2683b-c4a2-4bec-bf20-6e5a85d4f70b",
   "metadata": {},
   "source": [
    "  /==o  /---/\n",
    "{:E)===|\n",
    "  \\==o  \\---\\"
   ]
  }
 ],
 "metadata": {
  "kernelspec": {
   "display_name": "Python 3 (ipykernel)",
   "language": "python",
   "name": "python3"
  },
  "language_info": {
   "codemirror_mode": {
    "name": "ipython",
    "version": 3
   },
   "file_extension": ".py",
   "mimetype": "text/x-python",
   "name": "python",
   "nbconvert_exporter": "python",
   "pygments_lexer": "ipython3",
   "version": "3.8.0"
  }
 },
 "nbformat": 4,
 "nbformat_minor": 5
}
