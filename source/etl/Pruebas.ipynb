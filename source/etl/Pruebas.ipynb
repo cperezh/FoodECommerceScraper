{
 "cells": [
  {
   "cell_type": "code",
   "execution_count": 1,
   "id": "c1e7d27b-384c-4596-85a4-91fc5e2b981d",
   "metadata": {},
   "outputs": [],
   "source": [
    "import os\n",
    "import sys\n",
    "sys.path.insert(0, os.path.abspath('./source/etl'))\n",
    "\n",
    "from pyspark.sql import SparkSession\n",
    "from SparkDBUtils import SparkDB\n",
    "import delta\n",
    "import datetime as dt\n",
    "import pyspark.sql\n",
    "import pyspark.sql.functions as f\n",
    "from pyspark.sql.types import DateType, StructType, StructField, IntegerType, TimestampType\n",
    "\n",
    "sparkdb = SparkDB()\n",
    "spark = sparkdb.spark"
   ]
  },
  {
   "cell_type": "code",
   "execution_count": 2,
   "id": "228090cb-fe1c-4fb5-8114-ea5d93101ed3",
   "metadata": {},
   "outputs": [
    {
     "name": "stdout",
     "output_type": "stream",
     "text": [
      "+---------+--------------------+-----------+\n",
      "|namespace|           tableName|isTemporary|\n",
      "+---------+--------------------+-----------+\n",
      "|  default|            date_dim|      false|\n",
      "|  default|precio_dia_agg_no...|      false|\n",
      "|  default|   producto_dia_fact|      false|\n",
      "|  default|        producto_dim|      false|\n",
      "|  default|       sequences_cfg|      false|\n",
      "+---------+--------------------+-----------+\n",
      "\n"
     ]
    }
   ],
   "source": [
    "spark.sql(\"show tables in default\").show()"
   ]
  },
  {
   "cell_type": "code",
   "execution_count": 6,
   "id": "d44b4c6b-fe95-4b22-bbf6-982077208785",
   "metadata": {},
   "outputs": [
    {
     "name": "stdout",
     "output_type": "stream",
     "text": [
      "+------------+----+--------------------+\n",
      "|  table_name|  id|             ts_load|\n",
      "+------------+----+--------------------+\n",
      "|producto_dim|6871|2023-02-26 19:32:...|\n",
      "|    date_dim|  39|2023-02-26 19:32:...|\n",
      "+------------+----+--------------------+\n",
      "\n"
     ]
    }
   ],
   "source": [
    "spark.sql(\"select * from sequences_cfg\").show()"
   ]
  },
  {
   "cell_type": "code",
   "execution_count": 7,
   "id": "b456abb3-9710-4723-9ba2-1abc72341397",
   "metadata": {},
   "outputs": [
    {
     "data": {
      "text/plain": [
       "224904"
      ]
     },
     "execution_count": 7,
     "metadata": {},
     "output_type": "execute_result"
    }
   ],
   "source": [
    "spark.sql(\"select * from producto_dia_fact\").count()"
   ]
  },
  {
   "cell_type": "code",
   "execution_count": 8,
   "id": "7b4bd3f2-d9da-4368-b484-635bfc36da85",
   "metadata": {},
   "outputs": [
    {
     "data": {
      "text/plain": [
       "39"
      ]
     },
     "execution_count": 8,
     "metadata": {},
     "output_type": "execute_result"
    }
   ],
   "source": [
    "spark.sql(\"select * from precio_dia_agg_norm_fact\").count()"
   ]
  },
  {
   "cell_type": "code",
   "execution_count": 14,
   "id": "812bbdcf-e4ac-4a24-977c-88842c3b00bb",
   "metadata": {},
   "outputs": [],
   "source": [
    "producto_dia_fact = spark.table(\"producto_dia_fact\").alias(\"pf\")\n",
    "date_dim = spark.table(\"date_dim\").alias(\"d\")\n",
    "producto_dim = spark.table(\"producto_dim\").alias(\"p\")"
   ]
  },
  {
   "cell_type": "code",
   "execution_count": 18,
   "id": "bf2449af-c751-4e68-bbca-f2ad517de2ac",
   "metadata": {},
   "outputs": [
    {
     "name": "stdout",
     "output_type": "stream",
     "text": [
      "+------------------+----------+--------------------+\n",
      "|             price|      date|             product|\n",
      "+------------------+----------+--------------------+\n",
      "| 1.590000033378601|2022-11-21|VIÑA DANZA vino r...|\n",
      "| 1.649999976158142|2022-11-21|DIA SNACK MANIAC ...|\n",
      "| 3.690000057220459|2022-11-21|DANONE ACTIVIA bí...|\n",
      "|0.9900000095367432|2022-11-21|LA CONFIANZA hiel...|\n",
      "|2.1500000953674316|2022-11-21|SMINT pastillas d...|\n",
      "| 2.190000057220459|2022-11-21|SELECCIÓN DE DIA ...|\n",
      "| 5.789999961853027|2022-11-21|CILLIT BANG limpi...|\n",
      "|1.4900000095367432|2022-11-21|Jengibre bandeja ...|\n",
      "|             18.75|2022-11-21|FAUSTINO vino tin...|\n",
      "| 1.149999976158142|2022-11-21|EL MOLINO DE DIA ...|\n",
      "+------------------+----------+--------------------+\n",
      "only showing top 10 rows\n",
      "\n"
     ]
    },
    {
     "data": {
      "text/plain": [
       "224904"
      ]
     },
     "execution_count": 18,
     "metadata": {},
     "output_type": "execute_result"
    }
   ],
   "source": [
    "p = producto_dia_fact\\\n",
    "    .join(date_dim, \"id_date\")\\\n",
    "    .join(producto_dim, \"id_producto\")\n",
    "\n",
    "p.select(f.column(\"pf.price\"),\n",
    "        f.column(\"d.date\"),\n",
    "        f.column(\"p.product\")).show(10)"
   ]
  }
 ],
 "metadata": {
  "kernelspec": {
   "display_name": "Python 3 (ipykernel)",
   "language": "python",
   "name": "python3"
  },
  "language_info": {
   "codemirror_mode": {
    "name": "ipython",
    "version": 3
   },
   "file_extension": ".py",
   "mimetype": "text/x-python",
   "name": "python",
   "nbconvert_exporter": "python",
   "pygments_lexer": "ipython3",
   "version": "3.8.0"
  }
 },
 "nbformat": 4,
 "nbformat_minor": 5
}
