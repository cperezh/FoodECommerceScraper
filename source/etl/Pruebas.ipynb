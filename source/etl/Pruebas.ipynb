{
 "cells": [
  {
   "cell_type": "code",
   "execution_count": 2,
   "id": "c1e7d27b-384c-4596-85a4-91fc5e2b981d",
   "metadata": {},
   "outputs": [],
   "source": [
    "import os\n",
    "import sys\n",
    "sys.path.insert(0, os.path.abspath('./source/etl'))\n",
    "\n",
    "from pyspark.sql import SparkSession\n",
    "from SparkDBUtils import SparkDB\n",
    "import delta\n",
    "import datetime as dt\n",
    "import pyspark.sql\n",
    "import pyspark.sql.functions as f\n",
    "from pyspark.sql.types import DateType, StructType, StructField, IntegerType, TimestampType\n",
    "\n",
    "sparkdb = SparkDB()\n",
    "spark = sparkdb.spark"
   ]
  },
  {
   "cell_type": "code",
   "execution_count": 50,
   "id": "93c9344a-51d7-439a-8889-8c6951495387",
   "metadata": {},
   "outputs": [],
   "source": [
    "df = spark.table(\"producto_dim\")\n",
    "df.write.saveAsTable(\"producto_dim2\",\"delta\",\"overwrite\")"
   ]
  },
  {
   "cell_type": "code",
   "execution_count": 15,
   "id": "fe910685-5847-4dd3-9f6b-8f2a35ebd24b",
   "metadata": {},
   "outputs": [],
   "source": [
    "df2 = spark.table(\"producto_dim2\")\n",
    "df2.select(\"product_id\").distinct().show()"
   ]
  },
  {
   "cell_type": "code",
   "execution_count": 17,
   "id": "9f8697fe-b152-4a4c-917a-720845b5cac6",
   "metadata": {},
   "outputs": [
    {
     "name": "stdout",
     "output_type": "stream",
     "text": [
      "+-------+----------------+--------------------+--------------+--------------------+------------------+-----------------+---------------+\n",
      "|summary|     id_producto|             product|         brand|          categories|        product_id|        categoria|          units|\n",
      "+-------+----------------+--------------------+--------------+--------------------+------------------+-----------------+---------------+\n",
      "|  count|            6921|                6921|          6683|                6921|              6921|             6921|           6921|\n",
      "|   mean|          3461.0|                null|          null|                null|185929.78613976465|             null|           null|\n",
      "| stddev|1998.06493888462|                null|          null|                null| 93654.91515911062|             null|           null|\n",
      "|    min|               1|1902 licor de gin...|ABADIA DA COVA|['Bebidas', 'Aguas']|               100|          Bebidas|          €/Kg.|\n",
      "|    25%|            1730|                null|          null|                null|          117788.0|             null|           null|\n",
      "|    50%|            3460|                null|          null|                null|          211192.0|             null|           null|\n",
      "|    75%|            5190|                null|          null|                null|          272778.0|             null|           null|\n",
      "|    max|            6921|Zumo de naranja r...|           ZUM|['Platos preparad...|             99783|Platos preparados|€/ud.1,59 €/ud.|\n",
      "+-------+----------------+--------------------+--------------+--------------------+------------------+-----------------+---------------+\n",
      "\n"
     ]
    }
   ],
   "source": [
    "df.summary().show()"
   ]
  },
  {
   "cell_type": "code",
   "execution_count": 22,
   "id": "1df6ad5d-803e-4fbd-878f-6f423e5b83ae",
   "metadata": {},
   "outputs": [],
   "source": [
    "df3 = df2.where(\"product_id < 117788\")"
   ]
  },
  {
   "cell_type": "code",
   "execution_count": 51,
   "id": "66432f2a-6e94-4ffe-a2c8-c99f504ad808",
   "metadata": {},
   "outputs": [
    {
     "data": {
      "text/plain": [
       "delta.tables.DeltaTable"
      ]
     },
     "execution_count": 51,
     "metadata": {},
     "output_type": "execute_result"
    }
   ],
   "source": [
    "a = delta.DeltaTable.forName(spark, \"producto_dim2\")\n",
    "type(a)"
   ]
  },
  {
   "cell_type": "code",
   "execution_count": 67,
   "id": "c09e5006-2bdf-43d1-b98a-0636a3d1b21f",
   "metadata": {},
   "outputs": [],
   "source": [
    "cols = [\"id\"]\n",
    "data = [1,100]\n",
    "\n",
    "dfb = spark.createDataFrame(data, pyspark.sql.types.IntegerType()).toDF(*cols)"
   ]
  },
  {
   "cell_type": "code",
   "execution_count": 74,
   "id": "26aee409-00e1-4922-aebe-96377da719d9",
   "metadata": {},
   "outputs": [
    {
     "ename": "TypeError",
     "evalue": "sequence item 0: expected str instance, int found",
     "output_type": "error",
     "traceback": [
      "\u001b[1;31m---------------------------------------------------------------------------\u001b[0m",
      "\u001b[1;31mTypeError\u001b[0m                                 Traceback (most recent call last)",
      "Cell \u001b[1;32mIn[74], line 2\u001b[0m\n\u001b[0;32m      1\u001b[0m l \u001b[38;5;241m=\u001b[39m \u001b[38;5;28mlist\u001b[39m(dfb\u001b[38;5;241m.\u001b[39mselect(\u001b[38;5;124m\"\u001b[39m\u001b[38;5;124mid\u001b[39m\u001b[38;5;124m\"\u001b[39m)\u001b[38;5;241m.\u001b[39mtoPandas()[\u001b[38;5;124m\"\u001b[39m\u001b[38;5;124mid\u001b[39m\u001b[38;5;124m\"\u001b[39m])\n\u001b[1;32m----> 2\u001b[0m \u001b[38;5;124;43m\"\u001b[39;49m\u001b[38;5;124;43m,\u001b[39;49m\u001b[38;5;124;43m\"\u001b[39;49m\u001b[38;5;241;43m.\u001b[39;49m\u001b[43mjoin\u001b[49m\u001b[43m(\u001b[49m\u001b[43ml\u001b[49m\u001b[43m)\u001b[49m\n",
      "\u001b[1;31mTypeError\u001b[0m: sequence item 0: expected str instance, int found"
     ]
    }
   ],
   "source": [
    "l = list(dfb.select(\"id\").toPandas()[\"id\"])\n",
    "\",\".join(l)"
   ]
  },
  {
   "cell_type": "code",
   "execution_count": 52,
   "id": "3f64d9e6-0033-485f-84b0-72aff517fc8e",
   "metadata": {},
   "outputs": [
    {
     "name": "stdout",
     "output_type": "stream",
     "text": [
      "+-----------+--------------------+----------------+--------------------+----------+----------+-----------------+-----+--------------------+\n",
      "|id_producto|             product|           brand|          categories|product_id|      date|        categoria|units|             ts_load|\n",
      "+-----------+--------------------+----------------+--------------------+----------+----------+-----------------+-----+--------------------+\n",
      "|          1|CARBONELL aceite ...|       CARBONELL|['Despensa', 'Ace...|       100|2022-11-21|         Despensa| €/l.|2023-02-26 19:35:...|\n",
      "|          2|YBARRA salsa cock...|          YBARRA|['Despensa', 'Sal...|      1000|2022-11-21|         Despensa| €/l.|2023-02-26 19:35:...|\n",
      "|          3|LU PRINCIPE Estre...|     LU PRINCIPE|['Despensa', 'Des...|    100267|2022-11-21|         Despensa|€/Kg.|2023-02-26 19:35:...|\n",
      "|          4|LU PRINCIPE Estre...|     LU PRINCIPE|['Despensa', 'Des...|    100268|2022-11-21|         Despensa|€/Kg.|2023-02-26 19:35:...|\n",
      "|          5|GULLON galleta di...|          GULLON|['Despensa', 'Des...|    100269|2022-11-21|         Despensa|€/Kg.|2023-02-26 19:35:...|\n",
      "|          6|GALLO espaguetis ...|           GALLO|['Despensa', 'Pas...|    100308|2022-11-21|         Despensa|€/Kg.|2023-02-26 19:35:...|\n",
      "|          7|SCOTTEX pañuelos ...|         SCOTTEX|['Cuidado del hog...|    100360|2022-11-21|Cuidado del hogar|€/ud.|2023-02-26 19:35:...|\n",
      "|          8|MAHOU MIXTA cerve...|     MAHOU MIXTA|['Bebidas', 'Cerv...|     10054|2022-11-21|          Bebidas| €/l.|2023-02-26 19:35:...|\n",
      "|          9|EL MOLINO DE DIA ...|EL MOLINO DE DIA|['Despensa', 'Des...|     10057|2022-12-19|         Despensa|€/Kg.|2023-02-26 19:35:...|\n",
      "|         10|DANONE ACTIVIA bí...|  DANONE ACTIVIA|['Despensa', 'Lác...|    100594|2022-11-21|         Despensa|€/Kg.|2023-02-26 19:35:...|\n",
      "|         11|DANONE ACTIMEL yo...|  DANONE ACTIMEL|['Despensa', 'Lác...|    100595|2022-11-21|         Despensa|€/Kg.|2023-02-26 19:35:...|\n",
      "|         12|DIA LACTEA yogur ...|      DIA LACTEA|['Despensa', 'Lác...|    100604|2022-11-21|         Despensa|€/Kg.|2023-02-26 19:35:...|\n",
      "|         13|DIA HOLA COLA ref...|   DIA HOLA COLA|['Bebidas', 'Refr...|     10065|2022-11-21|          Bebidas| €/l.|2023-02-26 19:35:...|\n",
      "|         14|DIA HOLA COLA ref...|   DIA HOLA COLA|['Bebidas', 'Refr...|   10065P4|2022-11-21|          Bebidas| €/l.|2023-02-26 19:35:...|\n",
      "|         15|ELPOZO pechuga de...|          ELPOZO|['Frescos', 'Char...|    100807|2023-02-20|          Frescos|€/Kg.|2023-02-26 19:35:...|\n",
      "|         16|DIA VEGECAMPO cor...|   DIA VEGECAMPO|['Despensa', 'Con...|    100879|2022-11-21|         Despensa|€/Kg.|2023-02-26 19:35:...|\n",
      "|         17|DOVE locion corpo...|            DOVE|['Cuidado persona...|    100919|2022-11-21| Cuidado personal| €/l.|2023-02-26 19:35:...|\n",
      "|         18|WEIKIS con pepita...|          WEIKIS|['Despensa', 'Des...|    100947|2022-11-21|         Despensa|€/Kg.|2023-02-26 19:35:...|\n",
      "|         19|DIASOL aceite ref...|          DIASOL|['Despensa', 'Ace...|       101|2022-11-21|         Despensa| €/l.|2023-02-26 19:35:...|\n",
      "|         20|HELLMANN'S gran m...|        HELLMANN|['Despensa', 'Sal...|    101007|2022-11-21|         Despensa| €/l.|2023-02-26 19:35:...|\n",
      "+-----------+--------------------+----------------+--------------------+----------+----------+-----------------+-----+--------------------+\n",
      "only showing top 20 rows\n",
      "\n"
     ]
    }
   ],
   "source": [
    "a.toDF().show()"
   ]
  },
  {
   "cell_type": "code",
   "execution_count": 9,
   "id": "228090cb-fe1c-4fb5-8114-ea5d93101ed3",
   "metadata": {},
   "outputs": [
    {
     "name": "stdout",
     "output_type": "stream",
     "text": [
      "+---------+--------------------+-----------+\n",
      "|namespace|           tableName|isTemporary|\n",
      "+---------+--------------------+-----------+\n",
      "|  default|            date_dim|      false|\n",
      "|  default|precio_dia_agg_no...|      false|\n",
      "|  default|   producto_dia_fact|      false|\n",
      "|  default|        producto_dim|      false|\n",
      "|  default|       producto_dim2|      false|\n",
      "|  default|       sequences_cfg|      false|\n",
      "+---------+--------------------+-----------+\n",
      "\n"
     ]
    }
   ],
   "source": [
    "spark.sql(\"show tables in default\").show()"
   ]
  },
  {
   "cell_type": "code",
   "execution_count": 6,
   "id": "d44b4c6b-fe95-4b22-bbf6-982077208785",
   "metadata": {},
   "outputs": [
    {
     "name": "stdout",
     "output_type": "stream",
     "text": [
      "+------------+----+--------------------+\n",
      "|  table_name|  id|             ts_load|\n",
      "+------------+----+--------------------+\n",
      "|producto_dim|6871|2023-02-26 19:32:...|\n",
      "|    date_dim|  39|2023-02-26 19:32:...|\n",
      "+------------+----+--------------------+\n",
      "\n"
     ]
    }
   ],
   "source": [
    "spark.sql(\"select * from sequences_cfg\").show()"
   ]
  },
  {
   "cell_type": "code",
   "execution_count": 7,
   "id": "b456abb3-9710-4723-9ba2-1abc72341397",
   "metadata": {},
   "outputs": [
    {
     "data": {
      "text/plain": [
       "224904"
      ]
     },
     "execution_count": 7,
     "metadata": {},
     "output_type": "execute_result"
    }
   ],
   "source": [
    "spark.sql(\"select * from producto_dia_fact\").count()"
   ]
  },
  {
   "cell_type": "code",
   "execution_count": 8,
   "id": "7b4bd3f2-d9da-4368-b484-635bfc36da85",
   "metadata": {},
   "outputs": [
    {
     "data": {
      "text/plain": [
       "39"
      ]
     },
     "execution_count": 8,
     "metadata": {},
     "output_type": "execute_result"
    }
   ],
   "source": [
    "spark.sql(\"select * from precio_dia_agg_norm_fact\").count()"
   ]
  },
  {
   "cell_type": "code",
   "execution_count": 3,
   "id": "812bbdcf-e4ac-4a24-977c-88842c3b00bb",
   "metadata": {},
   "outputs": [],
   "source": [
    "producto_dia_fact = spark.table(\"producto_dia_fact\").alias(\"pf\")\n",
    "date_dim = spark.table(\"date_dim\").alias(\"d\")\n",
    "producto_dim = spark.table(\"producto_dim\").alias(\"p\")"
   ]
  },
  {
   "cell_type": "code",
   "execution_count": 4,
   "id": "bf2449af-c751-4e68-bbca-f2ad517de2ac",
   "metadata": {},
   "outputs": [
    {
     "name": "stdout",
     "output_type": "stream",
     "text": [
      "+-----------------+----------+--------------------+\n",
      "|            price|      date|             product|\n",
      "+-----------------+----------+--------------------+\n",
      "|7.989999771118164|2022-11-21|1902 licor de gin...|\n",
      "|7.989999771118164|2022-12-08|1902 licor de gin...|\n",
      "|7.989999771118164|2022-12-06|1902 licor de gin...|\n",
      "|7.989999771118164|2022-12-29|1902 licor de gin...|\n",
      "|7.989999771118164|2023-01-16|1902 licor de gin...|\n",
      "|7.989999771118164|2023-01-12|1902 licor de gin...|\n",
      "|7.989999771118164|2023-01-13|1902 licor de gin...|\n",
      "|7.989999771118164|2022-11-26|1902 licor de gin...|\n",
      "|7.989999771118164|2022-12-01|1902 licor de gin...|\n",
      "|7.989999771118164|2022-11-23|1902 licor de gin...|\n",
      "+-----------------+----------+--------------------+\n",
      "only showing top 10 rows\n",
      "\n"
     ]
    }
   ],
   "source": [
    "p = producto_dia_fact\\\n",
    "    .join(date_dim, \"id_date\")\\\n",
    "    .join(producto_dim, \"id_producto\")\n",
    "\n",
    "subset = p.select(f.column(\"pf.price\"),\n",
    "        f.column(\"d.date\"),\n",
    "        f.column(\"p.product\"))\\\n",
    "    .where(\"p.id_producto == 4846\")\n",
    "\n",
    "subset.show(10)"
   ]
  },
  {
   "cell_type": "code",
   "execution_count": 35,
   "id": "382dbe52-7883-4a5b-bae0-e2ff395991f6",
   "metadata": {},
   "outputs": [],
   "source": [
    "pan = subset.toPandas()\n",
    "\n",
    "pan.to_csv(\"c:/tmp/extract/test.csv\", index=False)"
   ]
  },
  {
   "cell_type": "code",
   "execution_count": 15,
   "id": "cd61f462-c04e-46f9-811c-88b1e18d6961",
   "metadata": {},
   "outputs": [],
   "source": [
    "subset.write\\\n",
    "    .option(\"header\", \"true\")\\\n",
    "    .csv(\"file:///c:/tmp/extract/test.csv\")"
   ]
  },
  {
   "cell_type": "code",
   "execution_count": 39,
   "id": "010ddbf9-6fa9-4809-bb6c-c77e8341ab1a",
   "metadata": {},
   "outputs": [
    {
     "name": "stderr",
     "output_type": "stream",
     "text": [
      "c:\\users\\carlos\\proyectos\\foodecommercescraper\\venv\\lib\\site-packages\\pyspark\\sql\\pandas\\conversion.py:248: FutureWarning: Passing unit-less datetime64 dtype to .astype is deprecated and will raise in a future version. Pass 'datetime64[ns]' instead\n",
      "  series = series.astype(t, copy=False)\n"
     ]
    }
   ],
   "source": [
    "spark.table(\"date_dim\").toPandas().to_csv(\"c:/tmp/extract/date_dim.csv\", index=False)"
   ]
  }
 ],
 "metadata": {
  "kernelspec": {
   "display_name": "Python 3 (ipykernel)",
   "language": "python",
   "name": "python3"
  },
  "language_info": {
   "codemirror_mode": {
    "name": "ipython",
    "version": 3
   },
   "file_extension": ".py",
   "mimetype": "text/x-python",
   "name": "python",
   "nbconvert_exporter": "python",
   "pygments_lexer": "ipython3",
   "version": "3.8.0"
  }
 },
 "nbformat": 4,
 "nbformat_minor": 5
}
