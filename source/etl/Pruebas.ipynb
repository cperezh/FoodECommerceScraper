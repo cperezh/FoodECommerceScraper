{
 "cells": [
  {
   "cell_type": "code",
   "execution_count": 9,
   "id": "c1e7d27b-384c-4596-85a4-91fc5e2b981d",
   "metadata": {},
   "outputs": [],
   "source": [
    "import os\n",
    "import sys\n",
    "sys.path.insert(0, os.path.abspath('./source/etl'))\n",
    "\n",
    "from pyspark.sql import SparkSession\n",
    "from SparkDBUtils import SparkDB\n",
    "from delta import DeltaTable\n",
    "import datetime as dt\n",
    "import pyspark.sql\n",
    "import pyspark.sql.functions as f\n",
    "from pyspark.sql.types import DateType, StructType, StructField, IntegerType, TimestampType, StringType, FloatType\n",
    "from pyspark.sql.window import Window\n",
    "\n",
    "sparkDB = SparkDB()\n",
    "spark = sparkdb.spark"
   ]
  },
  {
   "cell_type": "code",
   "execution_count": 16,
   "id": "75d33076-8994-4ffd-88c4-6ba15a28526a",
   "metadata": {},
   "outputs": [],
   "source": [
    "simple_schema = StructType([\n",
    "        StructField(\"date\", DateType(), True),\n",
    "        StructField(\"product\", StringType(), True),\n",
    "        StructField(\"product_id\", StringType(), True),\n",
    "        StructField(\"brand\", StringType(), True),\n",
    "        StructField(\"price\", FloatType(), True),\n",
    "        StructField(\"categories\", StringType(), True),\n",
    "        StructField(\"unit_price\", FloatType(), True),\n",
    "        StructField(\"units\", StringType(), True),\n",
    "        StructField(\"discount\", FloatType(), True),\n",
    "        StructField(\"ts_load\", TimestampType(), True)\n",
    "    ])\n",
    "\n",
    "dataset = spark.read.option(\"delimiter\", \";\") \\\n",
    "    .csv(\"../../dataset/dataset.csv\", schema=simple_schema, header=True)\\\n",
    "    .withColumn(\"categoria\", f.lit(\"INIT_CATEGORIA\"))"
   ]
  },
  {
   "cell_type": "code",
   "execution_count": 20,
   "id": "239b6f84-0cef-463a-8531-8aa1b6af095e",
   "metadata": {},
   "outputs": [],
   "source": [
    "year = 2023\n",
    "\n",
    "# tabkla de productos para hacer el lookup\n",
    "product_dim_db = sparkDB.read_table(\"producto_dim\").select([\"product_id\", \"id_producto\"])\n",
    "\n",
    "# tabla de fechas para hacer el lookup\n",
    "date_dim_db = sparkDB.read_table(\"date_dim\").select([\"date\", \"id_date\", \"year\"])\n",
    "\n",
    "# Cogemos los hechos del dataset de la particion\n",
    "producto_dia_fact_new = dataset\\\n",
    "            .join(product_dim_db.alias(\"p\"), \"product_id\", \"left\")\\\n",
    "            .join(date_dim_db.alias(\"d\"), \"date\", \"left\")\\\n",
    "            .select([\"price\",\n",
    "                     \"unit_price\",\n",
    "                     \"discount\",\n",
    "                     \"id_producto\",\n",
    "                     \"id_date\",\n",
    "                     \"d.year\"])\\\n",
    "            .where(f\"year = {year}\")"
   ]
  },
  {
   "cell_type": "code",
   "execution_count": 21,
   "id": "acaa2234-bbe3-4286-b462-bebe0654dbab",
   "metadata": {},
   "outputs": [
    {
     "name": "stdout",
     "output_type": "stream",
     "text": [
      "+-----+----------+--------+-----------+-------+----+\n",
      "|price|unit_price|discount|id_producto|id_date|year|\n",
      "+-----+----------+--------+-----------+-------+----+\n",
      "| 1.43|      1.43|    null|        344|     26|2023|\n",
      "| 1.43|      1.43|    null|        344|     27|2023|\n",
      "| 1.43|      1.43|    null|        344|     28|2023|\n",
      "| 1.43|      1.43|    null|        344|     29|2023|\n",
      "| 1.43|      1.43|    null|        344|     30|2023|\n",
      "| 1.43|      1.43|    null|        344|     31|2023|\n",
      "| 1.43|      1.43|    null|        344|     32|2023|\n",
      "| 1.43|      1.43|    null|        344|     33|2023|\n",
      "| 1.43|      1.43|    null|        344|     34|2023|\n",
      "| 1.43|      1.43|    null|        344|     35|2023|\n",
      "| 1.43|      1.43|    null|        344|     36|2023|\n",
      "| 1.43|      1.43|    null|        344|     37|2023|\n",
      "| 1.43|      1.43|    null|        344|     38|2023|\n",
      "| 1.43|      1.43|    null|        344|     39|2023|\n",
      "| 1.43|      1.43|    null|        344|     40|2023|\n",
      "| 1.43|      1.43|    null|        344|     41|2023|\n",
      "+-----+----------+--------+-----------+-------+----+\n",
      "\n"
     ]
    }
   ],
   "source": [
    "producto_dia_fact_new.where(\"product_id = 119675\").show()"
   ]
  }
 ],
 "metadata": {
  "kernelspec": {
   "display_name": "Python 3 (ipykernel)",
   "language": "python",
   "name": "python3"
  },
  "language_info": {
   "codemirror_mode": {
    "name": "ipython",
    "version": 3
   },
   "file_extension": ".py",
   "mimetype": "text/x-python",
   "name": "python",
   "nbconvert_exporter": "python",
   "pygments_lexer": "ipython3",
   "version": "3.8.0"
  }
 },
 "nbformat": 4,
 "nbformat_minor": 5
}
