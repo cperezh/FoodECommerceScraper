{
 "cells": [
  {
   "cell_type": "code",
   "execution_count": 2,
   "id": "c1e7d27b-384c-4596-85a4-91fc5e2b981d",
   "metadata": {},
   "outputs": [],
   "source": [
    "import os\n",
    "import sys\n",
    "sys.path.insert(0, os.path.abspath('./source/etl'))\n",
    "\n",
    "from pyspark.sql import SparkSession\n",
    "from SparkDBUtils import SparkDB\n",
    "from delta import DeltaTable\n",
    "import datetime as dt\n",
    "import pyspark.sql\n",
    "import pyspark.sql.functions as f\n",
    "from pyspark.sql.types import DateType, StructType, StructField, IntegerType, TimestampType, StringType, FloatType\n",
    "from pyspark.sql.window import Window\n",
    "\n",
    "sparkdb = SparkDB()\n",
    "spark = sparkdb.spark"
   ]
  },
  {
   "cell_type": "code",
   "execution_count": 27,
   "id": "75d33076-8994-4ffd-88c4-6ba15a28526a",
   "metadata": {},
   "outputs": [],
   "source": [
    "simple_schema = StructType([\n",
    "        StructField(\"date\", DateType(), True),\n",
    "        StructField(\"product\", StringType(), True),\n",
    "        StructField(\"product_id\", StringType(), True),\n",
    "        StructField(\"brand\", StringType(), True),\n",
    "        StructField(\"price\", FloatType(), True),\n",
    "        StructField(\"categories\", StringType(), True),\n",
    "        StructField(\"unit_price\", FloatType(), True),\n",
    "        StructField(\"units\", StringType(), True),\n",
    "        StructField(\"discount\", FloatType(), True),\n",
    "        StructField(\"ts_load\", TimestampType(), True)\n",
    "    ])\n",
    "\n",
    "dataset = spark.read.option(\"delimiter\", \";\") \\\n",
    "    .csv(\"../../dataset/dataset.csv\", schema=simple_schema, header=True)"
   ]
  },
  {
   "cell_type": "code",
   "execution_count": 28,
   "id": "239b6f84-0cef-463a-8531-8aa1b6af095e",
   "metadata": {},
   "outputs": [],
   "source": [
    "year = 2023\n",
    "\n",
    "# tabkla de productos para hacer el lookup\n",
    "product_dim_db = sparkDB.read_table(\"producto_dim\").select([\"product_id\", \"id_producto\"])\n",
    "\n",
    "# tabla de fechas para hacer el lookup\n",
    "date_dim_db = sparkDB.read_table(\"date_dim\").select([\"date\", \"id_date\", \"year\"])\n",
    "\n",
    "# Cogemos los hechos del dataset de la particion\n",
    "producto_dia_fact_new = dataset\\\n",
    "            .join(product_dim_db.alias(\"p\"), \"product_id\", \"left\")\\\n",
    "            .join(date_dim_db.alias(\"d\"), \"date\", \"left\")\\\n",
    "            .select([\"price\",\n",
    "                     \"unit_price\",\n",
    "                     \"discount\",\n",
    "                     \"id_producto\",\n",
    "                     \"id_date\",\n",
    "                     \"d.year\"])\\\n",
    "            .where(f\"year = {year}\")"
   ]
  },
  {
   "cell_type": "code",
   "execution_count": 7,
   "id": "28ced645-26cc-4326-8e14-c91a13a07cc3",
   "metadata": {},
   "outputs": [],
   "source": [
    "p = DeltaTable.forName(spark, \"producto_dia_fact\")"
   ]
  },
  {
   "cell_type": "code",
   "execution_count": 15,
   "id": "50cd3f15-dd20-4f35-b8e4-86ef9bcf49b6",
   "metadata": {},
   "outputs": [],
   "source": [
    "df = p.toDF()"
   ]
  },
  {
   "cell_type": "code",
   "execution_count": 20,
   "id": "ea632ad8-ac74-4c70-8e43-b783c7a1c168",
   "metadata": {},
   "outputs": [
    {
     "data": {
      "text/plain": [
       "242394"
      ]
     },
     "execution_count": 20,
     "metadata": {},
     "output_type": "execute_result"
    }
   ],
   "source": [
    "df.count()"
   ]
  },
  {
   "cell_type": "code",
   "execution_count": 19,
   "id": "e6d5e9a2-4222-41a2-8939-be4700332176",
   "metadata": {},
   "outputs": [
    {
     "data": {
      "text/plain": [
       "93939"
      ]
     },
     "execution_count": 19,
     "metadata": {},
     "output_type": "execute_result"
    }
   ],
   "source": [
    "df.where(\"year = 2023\").count()"
   ]
  },
  {
   "cell_type": "code",
   "execution_count": 21,
   "id": "a1e51980-7555-436f-9849-a873607e9ac1",
   "metadata": {},
   "outputs": [],
   "source": [
    "p.delete(\"year = 2023\")"
   ]
  },
  {
   "cell_type": "code",
   "execution_count": 22,
   "id": "8b08db25-2568-4bf8-80aa-cc382ee7b441",
   "metadata": {},
   "outputs": [
    {
     "data": {
      "text/plain": [
       "148455"
      ]
     },
     "execution_count": 22,
     "metadata": {},
     "output_type": "execute_result"
    }
   ],
   "source": [
    "df.count()"
   ]
  },
  {
   "cell_type": "code",
   "execution_count": 23,
   "id": "0394a189-360d-4ae1-bdf0-a30249999cb1",
   "metadata": {},
   "outputs": [
    {
     "data": {
      "text/plain": [
       "0"
      ]
     },
     "execution_count": 23,
     "metadata": {},
     "output_type": "execute_result"
    }
   ],
   "source": [
    "df.where(\"year = 2023\").count()"
   ]
  },
  {
   "cell_type": "code",
   "execution_count": 24,
   "id": "51d651c4-3177-4854-9d07-d7c85682b511",
   "metadata": {},
   "outputs": [
    {
     "data": {
      "text/plain": [
       "93939"
      ]
     },
     "execution_count": 24,
     "metadata": {},
     "output_type": "execute_result"
    }
   ],
   "source": [
    "producto_dia_fact_new.count()"
   ]
  },
  {
   "cell_type": "code",
   "execution_count": 32,
   "id": "b513f67a-0600-4e7b-8c6d-30d0c860da3c",
   "metadata": {},
   "outputs": [
    {
     "name": "stdout",
     "output_type": "stream",
     "text": [
      "+-----+----------+--------+-----------+-------+----+\n",
      "|price|unit_price|discount|id_producto|id_date|year|\n",
      "+-----+----------+--------+-----------+-------+----+\n",
      "| 1.15|      1.92|    null|       4675|     26|2023|\n",
      "|12.59|      0.47|    null|       3587|     26|2023|\n",
      "| 1.05|      21.0|    null|       1553|     26|2023|\n",
      "| 1.19|      14.0|    null|       5189|     26|2023|\n",
      "| 1.51|      1.91|    null|       6819|     26|2023|\n",
      "| 2.95|     14.75|    null|        438|     26|2023|\n",
      "| 1.25|      1.25|    null|       5131|     26|2023|\n",
      "| 2.39|      4.78|    null|       6627|     26|2023|\n",
      "| 2.79|      0.93|    null|       2850|     26|2023|\n",
      "| 1.89|      7.27|    null|        957|     26|2023|\n",
      "+-----+----------+--------+-----------+-------+----+\n",
      "only showing top 10 rows\n",
      "\n"
     ]
    }
   ],
   "source": [
    "producto_dia_fact_new.show(10)"
   ]
  },
  {
   "cell_type": "code",
   "execution_count": 35,
   "id": "ed02256c-38d7-4828-8f68-96fc1aa96b62",
   "metadata": {},
   "outputs": [
    {
     "name": "stdout",
     "output_type": "stream",
     "text": [
      "+-----------+-------+-----------------+------------------+--------+----+--------------------+\n",
      "|id_producto|id_date|            price|        unit_price|discount|year|             ts_load|\n",
      "+-----------+-------+-----------------+------------------+--------+----+--------------------+\n",
      "|        928|      1|4.090000152587891| 2.049999952316284|    null|2022|2023-03-20 19:24:...|\n",
      "|       3185|      1|1.350000023841858| 1.350000023841858|    null|2022|2023-03-20 19:24:...|\n",
      "|       6392|      1|5.789999961853027|  7.71999979019165|    null|2022|2023-03-20 19:24:...|\n",
      "|       4919|      1|             2.25|13.239999771118164|    null|2022|2023-03-20 19:24:...|\n",
      "|       1529|      1|             1.25| 6.940000057220459|    null|2022|2023-03-20 19:24:...|\n",
      "|       6455|      1|1.690000057220459| 1.690000057220459|    null|2022|2023-03-20 19:24:...|\n",
      "|       4470|      1|1.590000033378601|10.600000381469727|    null|2022|2023-03-20 19:24:...|\n",
      "|       5637|      1|7.789999961853027|12.979999542236328|    null|2022|2023-03-20 19:24:...|\n",
      "|       2922|      1|2.549999952316284|15.449999809265137|    null|2022|2023-03-20 19:24:...|\n",
      "|       5410|      1|             2.25|              12.5|    null|2022|2023-03-20 19:24:...|\n",
      "+-----------+-------+-----------------+------------------+--------+----+--------------------+\n",
      "only showing top 10 rows\n",
      "\n"
     ]
    }
   ],
   "source": [
    "p.toDF().show(10)"
   ]
  },
  {
   "cell_type": "code",
   "execution_count": 36,
   "id": "5e0d9ed0-755a-412d-ad09-f1cb2cb54ee6",
   "metadata": {},
   "outputs": [
    {
     "name": "stdout",
     "output_type": "stream",
     "text": [
      "root\n",
      " |-- id_producto: integer (nullable = true)\n",
      " |-- id_date: integer (nullable = true)\n",
      " |-- price: double (nullable = true)\n",
      " |-- unit_price: double (nullable = true)\n",
      " |-- discount: double (nullable = true)\n",
      " |-- year: integer (nullable = true)\n",
      " |-- ts_load: timestamp (nullable = true)\n",
      "\n"
     ]
    }
   ],
   "source": [
    "p.toDF().printSchema()"
   ]
  },
  {
   "cell_type": "code",
   "execution_count": 25,
   "id": "cb4e2290-22a3-4f44-a406-18483bc9df72",
   "metadata": {},
   "outputs": [
    {
     "ename": "AnalysisException",
     "evalue": "Failed to merge fields 'price' and 'price'. Failed to merge incompatible data types DoubleType and FloatType",
     "output_type": "error",
     "traceback": [
      "\u001b[1;31m---------------------------------------------------------------------------\u001b[0m",
      "\u001b[1;31mAnalysisException\u001b[0m                         Traceback (most recent call last)",
      "Cell \u001b[1;32mIn[25], line 1\u001b[0m\n\u001b[1;32m----> 1\u001b[0m \u001b[43mproducto_dia_fact_new\u001b[49m\u001b[38;5;241;43m.\u001b[39;49m\u001b[43mwrite\u001b[49m\u001b[38;5;241;43m.\u001b[39;49m\u001b[43mformat\u001b[49m\u001b[43m(\u001b[49m\u001b[38;5;124;43m\"\u001b[39;49m\u001b[38;5;124;43mdelta\u001b[39;49m\u001b[38;5;124;43m\"\u001b[39;49m\u001b[43m)\u001b[49m\u001b[38;5;241;43m.\u001b[39;49m\u001b[43msaveAsTable\u001b[49m\u001b[43m(\u001b[49m\u001b[38;5;124;43m\"\u001b[39;49m\u001b[38;5;124;43mproducto_dia_fact\u001b[39;49m\u001b[38;5;124;43m\"\u001b[39;49m\u001b[43m,\u001b[49m\u001b[43m \u001b[49m\u001b[43mmode\u001b[49m\u001b[38;5;241;43m=\u001b[39;49m\u001b[38;5;124;43m\"\u001b[39;49m\u001b[38;5;124;43mappend\u001b[39;49m\u001b[38;5;124;43m\"\u001b[39;49m\u001b[43m)\u001b[49m\n",
      "File \u001b[1;32mc:\\users\\carlos\\proyectos\\foodecommercescraper\\venv\\lib\\site-packages\\pyspark\\sql\\readwriter.py:1041\u001b[0m, in \u001b[0;36mDataFrameWriter.saveAsTable\u001b[1;34m(self, name, format, mode, partitionBy, **options)\u001b[0m\n\u001b[0;32m   1039\u001b[0m \u001b[38;5;28;01mif\u001b[39;00m \u001b[38;5;28mformat\u001b[39m \u001b[38;5;129;01mis\u001b[39;00m \u001b[38;5;129;01mnot\u001b[39;00m \u001b[38;5;28;01mNone\u001b[39;00m:\n\u001b[0;32m   1040\u001b[0m     \u001b[38;5;28mself\u001b[39m\u001b[38;5;241m.\u001b[39mformat(\u001b[38;5;28mformat\u001b[39m)\n\u001b[1;32m-> 1041\u001b[0m \u001b[38;5;28;43mself\u001b[39;49m\u001b[38;5;241;43m.\u001b[39;49m\u001b[43m_jwrite\u001b[49m\u001b[38;5;241;43m.\u001b[39;49m\u001b[43msaveAsTable\u001b[49m\u001b[43m(\u001b[49m\u001b[43mname\u001b[49m\u001b[43m)\u001b[49m\n",
      "File \u001b[1;32mc:\\users\\carlos\\proyectos\\foodecommercescraper\\venv\\lib\\site-packages\\py4j\\java_gateway.py:1321\u001b[0m, in \u001b[0;36mJavaMember.__call__\u001b[1;34m(self, *args)\u001b[0m\n\u001b[0;32m   1315\u001b[0m command \u001b[38;5;241m=\u001b[39m proto\u001b[38;5;241m.\u001b[39mCALL_COMMAND_NAME \u001b[38;5;241m+\u001b[39m\\\n\u001b[0;32m   1316\u001b[0m     \u001b[38;5;28mself\u001b[39m\u001b[38;5;241m.\u001b[39mcommand_header \u001b[38;5;241m+\u001b[39m\\\n\u001b[0;32m   1317\u001b[0m     args_command \u001b[38;5;241m+\u001b[39m\\\n\u001b[0;32m   1318\u001b[0m     proto\u001b[38;5;241m.\u001b[39mEND_COMMAND_PART\n\u001b[0;32m   1320\u001b[0m answer \u001b[38;5;241m=\u001b[39m \u001b[38;5;28mself\u001b[39m\u001b[38;5;241m.\u001b[39mgateway_client\u001b[38;5;241m.\u001b[39msend_command(command)\n\u001b[1;32m-> 1321\u001b[0m return_value \u001b[38;5;241m=\u001b[39m \u001b[43mget_return_value\u001b[49m\u001b[43m(\u001b[49m\n\u001b[0;32m   1322\u001b[0m \u001b[43m    \u001b[49m\u001b[43manswer\u001b[49m\u001b[43m,\u001b[49m\u001b[43m \u001b[49m\u001b[38;5;28;43mself\u001b[39;49m\u001b[38;5;241;43m.\u001b[39;49m\u001b[43mgateway_client\u001b[49m\u001b[43m,\u001b[49m\u001b[43m \u001b[49m\u001b[38;5;28;43mself\u001b[39;49m\u001b[38;5;241;43m.\u001b[39;49m\u001b[43mtarget_id\u001b[49m\u001b[43m,\u001b[49m\u001b[43m \u001b[49m\u001b[38;5;28;43mself\u001b[39;49m\u001b[38;5;241;43m.\u001b[39;49m\u001b[43mname\u001b[49m\u001b[43m)\u001b[49m\n\u001b[0;32m   1324\u001b[0m \u001b[38;5;28;01mfor\u001b[39;00m temp_arg \u001b[38;5;129;01min\u001b[39;00m temp_args:\n\u001b[0;32m   1325\u001b[0m     temp_arg\u001b[38;5;241m.\u001b[39m_detach()\n",
      "File \u001b[1;32mc:\\users\\carlos\\proyectos\\foodecommercescraper\\venv\\lib\\site-packages\\pyspark\\sql\\utils.py:196\u001b[0m, in \u001b[0;36mcapture_sql_exception.<locals>.deco\u001b[1;34m(*a, **kw)\u001b[0m\n\u001b[0;32m    192\u001b[0m converted \u001b[38;5;241m=\u001b[39m convert_exception(e\u001b[38;5;241m.\u001b[39mjava_exception)\n\u001b[0;32m    193\u001b[0m \u001b[38;5;28;01mif\u001b[39;00m \u001b[38;5;129;01mnot\u001b[39;00m \u001b[38;5;28misinstance\u001b[39m(converted, UnknownException):\n\u001b[0;32m    194\u001b[0m     \u001b[38;5;66;03m# Hide where the exception came from that shows a non-Pythonic\u001b[39;00m\n\u001b[0;32m    195\u001b[0m     \u001b[38;5;66;03m# JVM exception message.\u001b[39;00m\n\u001b[1;32m--> 196\u001b[0m     \u001b[38;5;28;01mraise\u001b[39;00m converted \u001b[38;5;28;01mfrom\u001b[39;00m \u001b[38;5;28mNone\u001b[39m\n\u001b[0;32m    197\u001b[0m \u001b[38;5;28;01melse\u001b[39;00m:\n\u001b[0;32m    198\u001b[0m     \u001b[38;5;28;01mraise\u001b[39;00m\n",
      "\u001b[1;31mAnalysisException\u001b[0m: Failed to merge fields 'price' and 'price'. Failed to merge incompatible data types DoubleType and FloatType"
     ]
    }
   ],
   "source": [
    "producto_dia_fact_new.write.format(\"delta\").saveAsTable(\"producto_dia_fact\", mode=\"append\")"
   ]
  }
 ],
 "metadata": {
  "kernelspec": {
   "display_name": "Python 3 (ipykernel)",
   "language": "python",
   "name": "python3"
  },
  "language_info": {
   "codemirror_mode": {
    "name": "ipython",
    "version": 3
   },
   "file_extension": ".py",
   "mimetype": "text/x-python",
   "name": "python",
   "nbconvert_exporter": "python",
   "pygments_lexer": "ipython3",
   "version": "3.8.0"
  }
 },
 "nbformat": 4,
 "nbformat_minor": 5
}
