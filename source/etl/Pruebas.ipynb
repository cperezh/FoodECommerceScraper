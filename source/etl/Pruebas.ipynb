{
 "cells": [
  {
   "cell_type": "code",
   "execution_count": 1,
   "id": "c1e7d27b-384c-4596-85a4-91fc5e2b981d",
   "metadata": {},
   "outputs": [],
   "source": [
    "import os\n",
    "import sys\n",
    "sys.path.insert(0, os.path.abspath('./source/etl'))\n",
    "\n",
    "from pyspark.sql import SparkSession\n",
    "from SparkDBUtils import SparkDB\n",
    "from delta import DeltaTable\n",
    "import datetime as dt\n",
    "import pyspark.sql\n",
    "import pyspark.sql.functions as f\n",
    "from pyspark.sql.types import DateType, StructType, StructField, IntegerType, TimestampType, StringType, FloatType\n",
    "from pyspark.sql.window import Window\n",
    "\n",
    "sparkdb = SparkDB()\n",
    "spark = sparkdb.spark"
   ]
  },
  {
   "cell_type": "code",
   "execution_count": 29,
   "id": "75d33076-8994-4ffd-88c4-6ba15a28526a",
   "metadata": {},
   "outputs": [],
   "source": [
    "simple_schema = StructType([\n",
    "        StructField(\"date\", DateType(), True),\n",
    "        StructField(\"product\", StringType(), True),\n",
    "        StructField(\"product_id\", StringType(), True),\n",
    "        StructField(\"brand\", StringType(), True),\n",
    "        StructField(\"price\", FloatType(), True),\n",
    "        StructField(\"categories\", StringType(), True),\n",
    "        StructField(\"unit_price\", FloatType(), True),\n",
    "        StructField(\"units\", StringType(), True),\n",
    "        StructField(\"discount\", FloatType(), True),\n",
    "        StructField(\"ts_load\", TimestampType(), True)\n",
    "    ])\n",
    "\n",
    "dataset = spark.read.option(\"delimiter\", \";\") \\\n",
    "            .csv(\"../../dataset/dataset_test_2.csv\", schema=simple_schema, header=True)"
   ]
  },
  {
   "cell_type": "markdown",
   "id": "85f80529-5323-4e10-b836-5ee7475b7781",
   "metadata": {},
   "source": [
    "# Merge Test"
   ]
  },
  {
   "cell_type": "markdown",
   "id": "ac4fc765-6f43-4a55-a0b6-d4e5c0e7f7cb",
   "metadata": {},
   "source": [
    "Inicialización"
   ]
  },
  {
   "cell_type": "code",
   "execution_count": 52,
   "id": "4789eaa4-95d0-4103-b25d-2a90c384aa4e",
   "metadata": {},
   "outputs": [
    {
     "name": "stdout",
     "output_type": "stream",
     "text": [
      "+----------+--------------------+----------+-----------------+-----+--------------------+----------+-----+--------+-------+\n",
      "|      date|             product|product_id|            brand|price|          categories|unit_price|units|discount|ts_load|\n",
      "+----------+--------------------+----------+-----------------+-----+--------------------+----------+-----+--------+-------+\n",
      "|2022-11-21|DIA MARI MARINERA...|      8456|DIA MARI MARINERA| 7.99|['Congelados', 'P...|      9.99|€/Kg.|    null|   null|\n",
      "+----------+--------------------+----------+-----------------+-----+--------------------+----------+-----+--------+-------+\n",
      "\n"
     ]
    }
   ],
   "source": [
    "dataset.show()"
   ]
  },
  {
   "cell_type": "code",
   "execution_count": 53,
   "id": "04b7cfe6-38d5-4163-a9bb-54da3a9aa5ac",
   "metadata": {},
   "outputs": [],
   "source": [
    "DeltaTable.forName(spark, \"producto_dim\").delete()"
   ]
  },
  {
   "cell_type": "code",
   "execution_count": 54,
   "id": "34cc090e-4b68-43a0-9e1f-59bbb3e8c83f",
   "metadata": {},
   "outputs": [],
   "source": [
    "product_dim_new = dataset\\\n",
    "    .withColumn(\"categoria\", f.lit(None)) \\\n",
    "    .select([\"product_id\",\n",
    "             \"product\",\n",
    "             \"units\",\n",
    "             \"brand\",\n",
    "             \"categories\",\n",
    "             \"categoria\",\n",
    "             \"date\"])\n",
    "    \n",
    "sparkdb.write_table(product_dim_new, \"producto_dim\", \"append\", \"id_producto\")"
   ]
  },
  {
   "cell_type": "code",
   "execution_count": 55,
   "id": "c3fbb084-8fdc-42c0-895a-9bc9022fdbee",
   "metadata": {},
   "outputs": [
    {
     "name": "stdout",
     "output_type": "stream",
     "text": [
      "+-----------+--------------------+-----------------+--------------------+----------+----------+---------+-----+-------+\n",
      "|id_producto|             product|            brand|          categories|product_id|      date|categoria|units|ts_load|\n",
      "+-----------+--------------------+-----------------+--------------------+----------+----------+---------+-----+-------+\n",
      "|       6928|DIA MARI MARINERA...|DIA MARI MARINERA|['Congelados', 'P...|      8456|2022-11-21|     null|€/Kg.|   null|\n",
      "+-----------+--------------------+-----------------+--------------------+----------+----------+---------+-----+-------+\n",
      "\n"
     ]
    }
   ],
   "source": [
    "spark.table(\"producto_dim\").show()"
   ]
  },
  {
   "cell_type": "markdown",
   "id": "367c5349-0cf4-46f9-8662-989ff0de2ee6",
   "metadata": {},
   "source": [
    "Segundo dataset"
   ]
  },
  {
   "cell_type": "code",
   "execution_count": 56,
   "id": "c1ebaa8f-03a6-4038-a4be-2ab4a86624fb",
   "metadata": {},
   "outputs": [],
   "source": [
    "db = spark.table(\"producto_dim\").alias(\"db\").select(\"product_id\",\"id_producto\")\n",
    "\n",
    "dataset2 = spark.read.option(\"delimiter\", \";\") \\\n",
    "            .csv(\"../../dataset/dataset_test.csv\", schema=simple_schema, header=True).alias(\"dt\")"
   ]
  },
  {
   "cell_type": "code",
   "execution_count": 57,
   "id": "60cd4562-da8a-4071-b7f5-fbc26fb40d76",
   "metadata": {},
   "outputs": [
    {
     "name": "stdout",
     "output_type": "stream",
     "text": [
      "+----------+--------------------+----------+-----------------+-----+--------------------+----------+-----+--------+-------+\n",
      "|      date|             product|product_id|            brand|price|          categories|unit_price|units|discount|ts_load|\n",
      "+----------+--------------------+----------+-----------------+-----+--------------------+----------+-----+--------+-------+\n",
      "|2022-11-21|DIA MARI MARINERA...|      8456|DIA MARI MARINERA| 7.99|['Congelados', 'P...|      9.99|€/Kg.|    null|   null|\n",
      "|2022-11-21|DIA ZUMOSFERA zum...|    277771|    DIA ZUMOSFERA| 1.05|['Bebidas', 'Zumos']|      1.75| €/l.|    null|   null|\n",
      "+----------+--------------------+----------+-----------------+-----+--------------------+----------+-----+--------+-------+\n",
      "\n"
     ]
    }
   ],
   "source": [
    "dataset2.show()"
   ]
  },
  {
   "cell_type": "code",
   "execution_count": 58,
   "id": "39d71b3f-c92c-4b1d-8632-6da860b695f7",
   "metadata": {},
   "outputs": [
    {
     "name": "stdout",
     "output_type": "stream",
     "text": [
      "+----------+----------+--------------------+-----------------+-----+--------------------+----------+-----+--------+-------+-----------+\n",
      "|product_id|      date|             product|            brand|price|          categories|unit_price|units|discount|ts_load|id_producto|\n",
      "+----------+----------+--------------------+-----------------+-----+--------------------+----------+-----+--------+-------+-----------+\n",
      "|      8456|2022-11-21|DIA MARI MARINERA...|DIA MARI MARINERA| 7.99|['Congelados', 'P...|      9.99|€/Kg.|    null|   null|       6928|\n",
      "|    277771|2022-11-21|DIA ZUMOSFERA zum...|    DIA ZUMOSFERA| 1.05|['Bebidas', 'Zumos']|      1.75| €/l.|    null|   null|       null|\n",
      "+----------+----------+--------------------+-----------------+-----+--------------------+----------+-----+--------+-------+-----------+\n",
      "\n"
     ]
    }
   ],
   "source": [
    "final = dataset2.join(db, \"product_id\", \"left\").alias(\"f1\")\n",
    "final.show()"
   ]
  },
  {
   "cell_type": "code",
   "execution_count": 59,
   "id": "c7a2c26e-31e8-48f5-b35e-9f15f50efa2e",
   "metadata": {},
   "outputs": [],
   "source": [
    "final2 = sparkdb.insert_id(final.where(\"id_producto is null\"), \"producto_dim\", \"id_producto\").select(\"product_id\",\"id_producto\").alias(\"f2\")"
   ]
  },
  {
   "cell_type": "code",
   "execution_count": 60,
   "id": "d8e4d39c-8c84-4e98-ae79-89a437a4fae7",
   "metadata": {},
   "outputs": [
    {
     "name": "stdout",
     "output_type": "stream",
     "text": [
      "+----------+-----------+\n",
      "|product_id|id_producto|\n",
      "+----------+-----------+\n",
      "|    277771|       6929|\n",
      "+----------+-----------+\n",
      "\n"
     ]
    }
   ],
   "source": [
    "final2.show()"
   ]
  },
  {
   "cell_type": "code",
   "execution_count": 67,
   "id": "5d7e7af0-0a61-48b0-8a5a-35592f9e1d7a",
   "metadata": {},
   "outputs": [
    {
     "name": "stdout",
     "output_type": "stream",
     "text": [
      "+----------+----------------------------------+\n",
      "|product_id|coalesce(id_producto, id_producto)|\n",
      "+----------+----------------------------------+\n",
      "|      8456|                              6928|\n",
      "|    277771|                              6929|\n",
      "+----------+----------------------------------+\n",
      "\n"
     ]
    }
   ],
   "source": [
    "final.join(final2, \"product_id\", \"left\")\\\n",
    "    .select([\"f1.product_id\",f.coalesce(f.column(\"f1.id_producto\"),f.column(\"f2.id_producto\"))]).show()"
   ]
  },
  {
   "cell_type": "markdown",
   "id": "fa232046-793d-4642-aeb2-2004c61ce93a",
   "metadata": {},
   "source": [
    "# Fin Merge Test"
   ]
  },
  {
   "cell_type": "code",
   "execution_count": 4,
   "id": "325359c1-1e32-4063-8787-3f7aa6f6397f",
   "metadata": {},
   "outputs": [],
   "source": [
    "# Ventana para obtener la ultima version de cada producto\n",
    "window_spec = Window\\\n",
    "    .partitionBy(\"product_id\")\\\n",
    "    .orderBy(f.col(\"date\").desc())\n",
    "\n",
    "# Nos quedamos con la ultima version de cada producto en el dataset,\n",
    "# ya que se repiten en todas las fechas\n",
    "product_dim_new = dataset\\\n",
    "    .withColumn(\"row_number\", f.row_number().over(window_spec)) \\\n",
    "    .where(\"row_number = 1\") \\\n",
    "    .select([\"product_id\",\n",
    "             \"product\",\n",
    "             \"units\",\n",
    "             \"brand\",\n",
    "             \"categories\",\n",
    "             \"date\"])"
   ]
  },
  {
   "cell_type": "code",
   "execution_count": 19,
   "id": "55385b20-9b95-42d2-b9df-ec2fd5e8a8d4",
   "metadata": {},
   "outputs": [],
   "source": [
    "DeltaTable.forName(spark, \"producto_dim\").delete()"
   ]
  },
  {
   "cell_type": "code",
   "execution_count": 20,
   "id": "a4f1b9a2-590a-4e90-8e68-ed2d8d7c3d75",
   "metadata": {},
   "outputs": [
    {
     "name": "stdout",
     "output_type": "stream",
     "text": [
      "+-----------+-------+-----+----------+----------+----+---------+-----+-------+\n",
      "|id_producto|product|brand|categories|product_id|date|categoria|units|ts_load|\n",
      "+-----------+-------+-----+----------+----------+----+---------+-----+-------+\n",
      "+-----------+-------+-----+----------+----------+----+---------+-----+-------+\n",
      "\n"
     ]
    }
   ],
   "source": [
    "spark.table(\"producto_dim\").show()"
   ]
  },
  {
   "cell_type": "code",
   "execution_count": 13,
   "id": "02868011-388e-49d6-99ed-cc3678d4448d",
   "metadata": {},
   "outputs": [
    {
     "name": "stdout",
     "output_type": "stream",
     "text": [
      "+-------------------------------------------------------------------------------+\n",
      "|product                                                                        |\n",
      "+-------------------------------------------------------------------------------+\n",
      "|BISCUITS GALICIA galletas saladas con aceite de oliva virgen extra bolsa 200 gr|\n",
      "+-------------------------------------------------------------------------------+\n",
      "\n"
     ]
    }
   ],
   "source": [
    "product_dim_new.where(\"product_id = 291364\").select(\"product\").show(truncate=False)"
   ]
  },
  {
   "cell_type": "code",
   "execution_count": 13,
   "id": "c56b8c96-4694-49b1-bcce-e086b0d6350e",
   "metadata": {},
   "outputs": [
    {
     "name": "stdout",
     "output_type": "stream",
     "text": [
      "+----------+------+\n",
      "|product_id|cuenta|\n",
      "+----------+------+\n",
      "|    291364|     2|\n",
      "|    122969|     2|\n",
      "|    288807|     2|\n",
      "|    247479|     2|\n",
      "|    218534|     2|\n",
      "|    230021|     2|\n",
      "|     48325|     2|\n",
      "|    125714|     2|\n",
      "|       234|     2|\n",
      "|    242472|     2|\n",
      "|    246502|     2|\n",
      "|    129425|     2|\n",
      "|     74305|     2|\n",
      "|    144325|     3|\n",
      "|    178096|     2|\n",
      "|    263219|     2|\n",
      "|    174067|     2|\n",
      "|    197162|     2|\n",
      "|    262429|     2|\n",
      "|     62155|     2|\n",
      "+----------+------+\n",
      "only showing top 20 rows\n",
      "\n"
     ]
    }
   ],
   "source": [
    "spark.table(\"producto_dim\").groupby(\"product_id\")\\\n",
    "    .agg(f.count(\"product_id\").alias(\"cuenta\"))\\\n",
    "    .where(\"cuenta > 1\")\\\n",
    "    .show()"
   ]
  },
  {
   "cell_type": "code",
   "execution_count": 6,
   "id": "b2790fbf-a54c-4ee3-89c3-f6f19613c94f",
   "metadata": {},
   "outputs": [],
   "source": [
    "DeltaTable.forName(spark, \"producto_dia_fact\").delete()"
   ]
  },
  {
   "cell_type": "code",
   "execution_count": 4,
   "id": "5c41933f-3755-4592-9017-05d5fc2e21eb",
   "metadata": {},
   "outputs": [
    {
     "name": "stdout",
     "output_type": "stream",
     "text": [
      "+-------+------------------+------------------+-----------------+-----------------+--------------------+------------------------+------------------+-------------------+\n",
      "|summary|           id_date|         sum_price|   sum_unit_price|     num_products| sum_price_ponderado|sum_unit_price_ponderado|    sum_price_norm|sum_unit_price_norm|\n",
      "+-------+------------------+------------------+-----------------+-----------------+--------------------+------------------------+------------------+-------------------+\n",
      "|  count|                40|                40|               40|               40|                  40|                      40|                40|                 40|\n",
      "|   mean|              20.5|19157.161700528486|75706.94178423789|         5766.025|  3.3224462800255727|      13.136012865190631|0.7179146646917667|0.49032038748298323|\n",
      "| stddev|11.690451944500118|1492.8646734958768|5735.428406341683|441.7045356285939|0.039774844549115305|      0.3038739220048766|0.2370321673717036|0.34065886966446907|\n",
      "|    min|                 1|15045.909965887666|60931.13007868081|             4525|   3.201977634338059|      12.698638140938899|               0.0|                0.0|\n",
      "|    25%|                10|19217.399952456355|74782.28001198918|             5806|  3.3110582531356867|      12.818618455058898|0.6500494416746494|0.13450432969187462|\n",
      "|    50%|                20|19654.109954237938|75240.30001284927|             5873|  3.3345627362668604|      13.311253705371765|0.7901208522028316| 0.6867747134787432|\n",
      "|    75%|                30|20110.769948855042|80384.86005558819|             6001|  3.3482399239331713|      13.400271938017028|0.8716279824718627| 0.7865688988842852|\n",
      "|    max|                40|20365.909949705005|82065.92005731165|             6106|  3.3697812071195625|       13.59065637109441|               1.0|                1.0|\n",
      "+-------+------------------+------------------+-----------------+-----------------+--------------------+------------------------+------------------+-------------------+\n",
      "\n"
     ]
    }
   ],
   "source": [
    "a = spark.table(\"precio_dia_agg_norm_fact\")\n",
    "a.summary().show()"
   ]
  },
  {
   "cell_type": "code",
   "execution_count": 85,
   "id": "583ce3fd-56ee-4020-bb33-d4e2dcee9669",
   "metadata": {},
   "outputs": [
    {
     "name": "stdout",
     "output_type": "stream",
     "text": [
      "root\n",
      " |-- id_date: integer (nullable = true)\n",
      " |-- date: date (nullable = true)\n",
      " |-- ts_load: timestamp (nullable = true)\n",
      "\n"
     ]
    }
   ],
   "source": [
    "fa = spark.table(\"producto_dia_fact\").alias(\"fa\")\n",
    "d = spark.table(\"date_dim\").alias(\"d\")\n",
    "d.printSchema()"
   ]
  },
  {
   "cell_type": "code",
   "execution_count": 91,
   "id": "737f93a4-c014-4c31-81df-a467218fba92",
   "metadata": {},
   "outputs": [
    {
     "name": "stdout",
     "output_type": "stream",
     "text": [
      "+----+------+\n",
      "|anio| count|\n",
      "+----+------+\n",
      "|2023| 82382|\n",
      "|2022|148862|\n",
      "+----+------+\n",
      "\n"
     ]
    }
   ],
   "source": [
    "fa.join(d, \"id_date\")\\\n",
    "    .withColumn(\"anio\",f.year(\"date\"))\\\n",
    "    .groupby(\"anio\").count().show()"
   ]
  },
  {
   "cell_type": "code",
   "execution_count": 50,
   "id": "93c9344a-51d7-439a-8889-8c6951495387",
   "metadata": {},
   "outputs": [],
   "source": [
    "df = spark.table(\"producto_dim\")\n",
    "df.write.saveAsTable(\"producto_dim2\",\"delta\",\"overwrite\")"
   ]
  },
  {
   "cell_type": "code",
   "execution_count": 15,
   "id": "fe910685-5847-4dd3-9f6b-8f2a35ebd24b",
   "metadata": {},
   "outputs": [],
   "source": [
    "df2 = spark.table(\"producto_dim2\")\n",
    "df2.select(\"product_id\").distinct().show()"
   ]
  },
  {
   "cell_type": "code",
   "execution_count": 17,
   "id": "9f8697fe-b152-4a4c-917a-720845b5cac6",
   "metadata": {},
   "outputs": [
    {
     "name": "stdout",
     "output_type": "stream",
     "text": [
      "+-------+----------------+--------------------+--------------+--------------------+------------------+-----------------+---------------+\n",
      "|summary|     id_producto|             product|         brand|          categories|        product_id|        categoria|          units|\n",
      "+-------+----------------+--------------------+--------------+--------------------+------------------+-----------------+---------------+\n",
      "|  count|            6921|                6921|          6683|                6921|              6921|             6921|           6921|\n",
      "|   mean|          3461.0|                null|          null|                null|185929.78613976465|             null|           null|\n",
      "| stddev|1998.06493888462|                null|          null|                null| 93654.91515911062|             null|           null|\n",
      "|    min|               1|1902 licor de gin...|ABADIA DA COVA|['Bebidas', 'Aguas']|               100|          Bebidas|          €/Kg.|\n",
      "|    25%|            1730|                null|          null|                null|          117788.0|             null|           null|\n",
      "|    50%|            3460|                null|          null|                null|          211192.0|             null|           null|\n",
      "|    75%|            5190|                null|          null|                null|          272778.0|             null|           null|\n",
      "|    max|            6921|Zumo de naranja r...|           ZUM|['Platos preparad...|             99783|Platos preparados|€/ud.1,59 €/ud.|\n",
      "+-------+----------------+--------------------+--------------+--------------------+------------------+-----------------+---------------+\n",
      "\n"
     ]
    }
   ],
   "source": [
    "df.summary().show()"
   ]
  },
  {
   "cell_type": "code",
   "execution_count": 22,
   "id": "1df6ad5d-803e-4fbd-878f-6f423e5b83ae",
   "metadata": {},
   "outputs": [],
   "source": [
    "df3 = df2.where(\"product_id < 117788\")"
   ]
  },
  {
   "cell_type": "code",
   "execution_count": 51,
   "id": "66432f2a-6e94-4ffe-a2c8-c99f504ad808",
   "metadata": {},
   "outputs": [
    {
     "data": {
      "text/plain": [
       "delta.tables.DeltaTable"
      ]
     },
     "execution_count": 51,
     "metadata": {},
     "output_type": "execute_result"
    }
   ],
   "source": [
    "a = delta.DeltaTable.forName(spark, \"producto_dim2\")\n",
    "type(a)"
   ]
  },
  {
   "cell_type": "code",
   "execution_count": 67,
   "id": "c09e5006-2bdf-43d1-b98a-0636a3d1b21f",
   "metadata": {},
   "outputs": [],
   "source": [
    "cols = [\"id\"]\n",
    "data = [1,100]\n",
    "\n",
    "dfb = spark.createDataFrame(data, pyspark.sql.types.IntegerType()).toDF(*cols)"
   ]
  },
  {
   "cell_type": "code",
   "execution_count": 74,
   "id": "26aee409-00e1-4922-aebe-96377da719d9",
   "metadata": {},
   "outputs": [
    {
     "ename": "TypeError",
     "evalue": "sequence item 0: expected str instance, int found",
     "output_type": "error",
     "traceback": [
      "\u001b[1;31m---------------------------------------------------------------------------\u001b[0m",
      "\u001b[1;31mTypeError\u001b[0m                                 Traceback (most recent call last)",
      "Cell \u001b[1;32mIn[74], line 2\u001b[0m\n\u001b[0;32m      1\u001b[0m l \u001b[38;5;241m=\u001b[39m \u001b[38;5;28mlist\u001b[39m(dfb\u001b[38;5;241m.\u001b[39mselect(\u001b[38;5;124m\"\u001b[39m\u001b[38;5;124mid\u001b[39m\u001b[38;5;124m\"\u001b[39m)\u001b[38;5;241m.\u001b[39mtoPandas()[\u001b[38;5;124m\"\u001b[39m\u001b[38;5;124mid\u001b[39m\u001b[38;5;124m\"\u001b[39m])\n\u001b[1;32m----> 2\u001b[0m \u001b[38;5;124;43m\"\u001b[39;49m\u001b[38;5;124;43m,\u001b[39;49m\u001b[38;5;124;43m\"\u001b[39;49m\u001b[38;5;241;43m.\u001b[39;49m\u001b[43mjoin\u001b[49m\u001b[43m(\u001b[49m\u001b[43ml\u001b[49m\u001b[43m)\u001b[49m\n",
      "\u001b[1;31mTypeError\u001b[0m: sequence item 0: expected str instance, int found"
     ]
    }
   ],
   "source": [
    "l = list(dfb.select(\"id\").toPandas()[\"id\"])\n",
    "\",\".join(l)"
   ]
  },
  {
   "cell_type": "code",
   "execution_count": 52,
   "id": "3f64d9e6-0033-485f-84b0-72aff517fc8e",
   "metadata": {},
   "outputs": [
    {
     "name": "stdout",
     "output_type": "stream",
     "text": [
      "+-----------+--------------------+----------------+--------------------+----------+----------+-----------------+-----+--------------------+\n",
      "|id_producto|             product|           brand|          categories|product_id|      date|        categoria|units|             ts_load|\n",
      "+-----------+--------------------+----------------+--------------------+----------+----------+-----------------+-----+--------------------+\n",
      "|          1|CARBONELL aceite ...|       CARBONELL|['Despensa', 'Ace...|       100|2022-11-21|         Despensa| €/l.|2023-02-26 19:35:...|\n",
      "|          2|YBARRA salsa cock...|          YBARRA|['Despensa', 'Sal...|      1000|2022-11-21|         Despensa| €/l.|2023-02-26 19:35:...|\n",
      "|          3|LU PRINCIPE Estre...|     LU PRINCIPE|['Despensa', 'Des...|    100267|2022-11-21|         Despensa|€/Kg.|2023-02-26 19:35:...|\n",
      "|          4|LU PRINCIPE Estre...|     LU PRINCIPE|['Despensa', 'Des...|    100268|2022-11-21|         Despensa|€/Kg.|2023-02-26 19:35:...|\n",
      "|          5|GULLON galleta di...|          GULLON|['Despensa', 'Des...|    100269|2022-11-21|         Despensa|€/Kg.|2023-02-26 19:35:...|\n",
      "|          6|GALLO espaguetis ...|           GALLO|['Despensa', 'Pas...|    100308|2022-11-21|         Despensa|€/Kg.|2023-02-26 19:35:...|\n",
      "|          7|SCOTTEX pañuelos ...|         SCOTTEX|['Cuidado del hog...|    100360|2022-11-21|Cuidado del hogar|€/ud.|2023-02-26 19:35:...|\n",
      "|          8|MAHOU MIXTA cerve...|     MAHOU MIXTA|['Bebidas', 'Cerv...|     10054|2022-11-21|          Bebidas| €/l.|2023-02-26 19:35:...|\n",
      "|          9|EL MOLINO DE DIA ...|EL MOLINO DE DIA|['Despensa', 'Des...|     10057|2022-12-19|         Despensa|€/Kg.|2023-02-26 19:35:...|\n",
      "|         10|DANONE ACTIVIA bí...|  DANONE ACTIVIA|['Despensa', 'Lác...|    100594|2022-11-21|         Despensa|€/Kg.|2023-02-26 19:35:...|\n",
      "|         11|DANONE ACTIMEL yo...|  DANONE ACTIMEL|['Despensa', 'Lác...|    100595|2022-11-21|         Despensa|€/Kg.|2023-02-26 19:35:...|\n",
      "|         12|DIA LACTEA yogur ...|      DIA LACTEA|['Despensa', 'Lác...|    100604|2022-11-21|         Despensa|€/Kg.|2023-02-26 19:35:...|\n",
      "|         13|DIA HOLA COLA ref...|   DIA HOLA COLA|['Bebidas', 'Refr...|     10065|2022-11-21|          Bebidas| €/l.|2023-02-26 19:35:...|\n",
      "|         14|DIA HOLA COLA ref...|   DIA HOLA COLA|['Bebidas', 'Refr...|   10065P4|2022-11-21|          Bebidas| €/l.|2023-02-26 19:35:...|\n",
      "|         15|ELPOZO pechuga de...|          ELPOZO|['Frescos', 'Char...|    100807|2023-02-20|          Frescos|€/Kg.|2023-02-26 19:35:...|\n",
      "|         16|DIA VEGECAMPO cor...|   DIA VEGECAMPO|['Despensa', 'Con...|    100879|2022-11-21|         Despensa|€/Kg.|2023-02-26 19:35:...|\n",
      "|         17|DOVE locion corpo...|            DOVE|['Cuidado persona...|    100919|2022-11-21| Cuidado personal| €/l.|2023-02-26 19:35:...|\n",
      "|         18|WEIKIS con pepita...|          WEIKIS|['Despensa', 'Des...|    100947|2022-11-21|         Despensa|€/Kg.|2023-02-26 19:35:...|\n",
      "|         19|DIASOL aceite ref...|          DIASOL|['Despensa', 'Ace...|       101|2022-11-21|         Despensa| €/l.|2023-02-26 19:35:...|\n",
      "|         20|HELLMANN'S gran m...|        HELLMANN|['Despensa', 'Sal...|    101007|2022-11-21|         Despensa| €/l.|2023-02-26 19:35:...|\n",
      "+-----------+--------------------+----------------+--------------------+----------+----------+-----------------+-----+--------------------+\n",
      "only showing top 20 rows\n",
      "\n"
     ]
    }
   ],
   "source": [
    "a.toDF().show()"
   ]
  },
  {
   "cell_type": "code",
   "execution_count": 9,
   "id": "228090cb-fe1c-4fb5-8114-ea5d93101ed3",
   "metadata": {},
   "outputs": [
    {
     "name": "stdout",
     "output_type": "stream",
     "text": [
      "+---------+--------------------+-----------+\n",
      "|namespace|           tableName|isTemporary|\n",
      "+---------+--------------------+-----------+\n",
      "|  default|            date_dim|      false|\n",
      "|  default|precio_dia_agg_no...|      false|\n",
      "|  default|   producto_dia_fact|      false|\n",
      "|  default|        producto_dim|      false|\n",
      "|  default|       producto_dim2|      false|\n",
      "|  default|       sequences_cfg|      false|\n",
      "+---------+--------------------+-----------+\n",
      "\n"
     ]
    }
   ],
   "source": [
    "spark.sql(\"show tables in default\").show()"
   ]
  },
  {
   "cell_type": "code",
   "execution_count": 6,
   "id": "d44b4c6b-fe95-4b22-bbf6-982077208785",
   "metadata": {},
   "outputs": [
    {
     "name": "stdout",
     "output_type": "stream",
     "text": [
      "+------------+----+--------------------+\n",
      "|  table_name|  id|             ts_load|\n",
      "+------------+----+--------------------+\n",
      "|producto_dim|6871|2023-02-26 19:32:...|\n",
      "|    date_dim|  39|2023-02-26 19:32:...|\n",
      "+------------+----+--------------------+\n",
      "\n"
     ]
    }
   ],
   "source": [
    "spark.sql(\"select * from sequences_cfg\").show()"
   ]
  },
  {
   "cell_type": "code",
   "execution_count": 7,
   "id": "b456abb3-9710-4723-9ba2-1abc72341397",
   "metadata": {},
   "outputs": [
    {
     "data": {
      "text/plain": [
       "224904"
      ]
     },
     "execution_count": 7,
     "metadata": {},
     "output_type": "execute_result"
    }
   ],
   "source": [
    "spark.sql(\"select * from producto_dia_fact\").count()"
   ]
  },
  {
   "cell_type": "code",
   "execution_count": 8,
   "id": "7b4bd3f2-d9da-4368-b484-635bfc36da85",
   "metadata": {},
   "outputs": [
    {
     "data": {
      "text/plain": [
       "39"
      ]
     },
     "execution_count": 8,
     "metadata": {},
     "output_type": "execute_result"
    }
   ],
   "source": [
    "spark.sql(\"select * from precio_dia_agg_norm_fact\").count()"
   ]
  },
  {
   "cell_type": "code",
   "execution_count": 3,
   "id": "812bbdcf-e4ac-4a24-977c-88842c3b00bb",
   "metadata": {},
   "outputs": [],
   "source": [
    "producto_dia_fact = spark.table(\"producto_dia_fact\").alias(\"pf\")\n",
    "date_dim = spark.table(\"date_dim\").alias(\"d\")\n",
    "producto_dim = spark.table(\"producto_dim\").alias(\"p\")"
   ]
  },
  {
   "cell_type": "code",
   "execution_count": 4,
   "id": "bf2449af-c751-4e68-bbca-f2ad517de2ac",
   "metadata": {},
   "outputs": [
    {
     "name": "stdout",
     "output_type": "stream",
     "text": [
      "+-----------------+----------+--------------------+\n",
      "|            price|      date|             product|\n",
      "+-----------------+----------+--------------------+\n",
      "|7.989999771118164|2022-11-21|1902 licor de gin...|\n",
      "|7.989999771118164|2022-12-08|1902 licor de gin...|\n",
      "|7.989999771118164|2022-12-06|1902 licor de gin...|\n",
      "|7.989999771118164|2022-12-29|1902 licor de gin...|\n",
      "|7.989999771118164|2023-01-16|1902 licor de gin...|\n",
      "|7.989999771118164|2023-01-12|1902 licor de gin...|\n",
      "|7.989999771118164|2023-01-13|1902 licor de gin...|\n",
      "|7.989999771118164|2022-11-26|1902 licor de gin...|\n",
      "|7.989999771118164|2022-12-01|1902 licor de gin...|\n",
      "|7.989999771118164|2022-11-23|1902 licor de gin...|\n",
      "+-----------------+----------+--------------------+\n",
      "only showing top 10 rows\n",
      "\n"
     ]
    }
   ],
   "source": [
    "p = producto_dia_fact\\\n",
    "    .join(date_dim, \"id_date\")\\\n",
    "    .join(producto_dim, \"id_producto\")\n",
    "\n",
    "subset = p.select(f.column(\"pf.price\"),\n",
    "        f.column(\"d.date\"),\n",
    "        f.column(\"p.product\"))\\\n",
    "    .where(\"p.id_producto == 4846\")\n",
    "\n",
    "subset.show(10)"
   ]
  },
  {
   "cell_type": "code",
   "execution_count": 35,
   "id": "382dbe52-7883-4a5b-bae0-e2ff395991f6",
   "metadata": {},
   "outputs": [],
   "source": [
    "pan = subset.toPandas()\n",
    "\n",
    "pan.to_csv(\"c:/tmp/extract/test.csv\", index=False)"
   ]
  },
  {
   "cell_type": "code",
   "execution_count": 15,
   "id": "cd61f462-c04e-46f9-811c-88b1e18d6961",
   "metadata": {},
   "outputs": [],
   "source": [
    "subset.write\\\n",
    "    .option(\"header\", \"true\")\\\n",
    "    .csv(\"file:///c:/tmp/extract/test.csv\")"
   ]
  },
  {
   "cell_type": "code",
   "execution_count": 39,
   "id": "010ddbf9-6fa9-4809-bb6c-c77e8341ab1a",
   "metadata": {},
   "outputs": [
    {
     "name": "stderr",
     "output_type": "stream",
     "text": [
      "c:\\users\\carlos\\proyectos\\foodecommercescraper\\venv\\lib\\site-packages\\pyspark\\sql\\pandas\\conversion.py:248: FutureWarning: Passing unit-less datetime64 dtype to .astype is deprecated and will raise in a future version. Pass 'datetime64[ns]' instead\n",
      "  series = series.astype(t, copy=False)\n"
     ]
    }
   ],
   "source": [
    "spark.table(\"date_dim\").toPandas().to_csv(\"c:/tmp/extract/date_dim.csv\", index=False)"
   ]
  }
 ],
 "metadata": {
  "kernelspec": {
   "display_name": "Python 3 (ipykernel)",
   "language": "python",
   "name": "python3"
  },
  "language_info": {
   "codemirror_mode": {
    "name": "ipython",
    "version": 3
   },
   "file_extension": ".py",
   "mimetype": "text/x-python",
   "name": "python",
   "nbconvert_exporter": "python",
   "pygments_lexer": "ipython3",
   "version": "3.8.0"
  }
 },
 "nbformat": 4,
 "nbformat_minor": 5
}
