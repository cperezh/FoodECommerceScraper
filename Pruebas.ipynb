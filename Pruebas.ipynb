{
 "cells": [
  {
   "cell_type": "code",
   "execution_count": 2,
   "id": "fifth-kennedy",
   "metadata": {},
   "outputs": [],
   "source": [
    "from pyspark.sql import SparkSession\n",
    "import delta"
   ]
  },
  {
   "cell_type": "code",
   "execution_count": 3,
   "id": "4638909b-70eb-4259-9cf2-47d474085003",
   "metadata": {},
   "outputs": [],
   "source": [
    "__builder = SparkSession\\\n",
    "    .builder\\\n",
    "    .appName(\"Notebook for test\") \\\n",
    "    .config(\"spark.sql.extensions\", \"io.delta.sql.DeltaSparkSessionExtension\") \\\n",
    "    .config(\"spark.sql.catalog.spark_catalog\", \"org.apache.spark.sql.delta.catalog.DeltaCatalog\")\\\n",
    "    .config(\"spark.sql.warehouse.dir\",\"c:/tmp/spark-warehouse\")\\\n",
    "    .config(\"javax.jdo.option.ConnectionURL\",\"jdbc:derby:;databaseName=C:/tmp/metastore_db;create=true\")\\\n",
    "    .enableHiveSupport()\n",
    "\n",
    "spark = delta.configure_spark_with_delta_pip(__builder)\\\n",
    "    .getOrCreate()"
   ]
  },
  {
   "cell_type": "code",
   "execution_count": 5,
   "id": "7b4bd3f2-d9da-4368-b484-635bfc36da85",
   "metadata": {},
   "outputs": [
    {
     "name": "stdout",
     "output_type": "stream",
     "text": [
      "+----------+---+--------------------+\n",
      "|table_name| id|             ts_load|\n",
      "+----------+---+--------------------+\n",
      "|  date_dim|  0|2023-02-19 08:04:...|\n",
      "|  date_dim|  0|2023-02-19 08:10:...|\n",
      "+----------+---+--------------------+\n",
      "\n"
     ]
    }
   ],
   "source": [
    "spark.sql(\"select * from sequences_cfg\").show()"
   ]
  },
  {
   "cell_type": "code",
   "execution_count": 4,
   "id": "5e7a86a3-a886-41ba-a05c-4189742aeae0",
   "metadata": {},
   "outputs": [
    {
     "name": "stdout",
     "output_type": "stream",
     "text": [
      "++\n",
      "||\n",
      "++\n",
      "++\n",
      "\n",
      "++\n",
      "||\n",
      "++\n",
      "++\n",
      "\n"
     ]
    }
   ],
   "source": [
    "spark.sql(\"DROP TABLE date_dim\").show()\n",
    "spark.sql(\"DROP TABLE sequences_cfg\").show()"
   ]
  },
  {
   "cell_type": "code",
   "execution_count": 7,
   "id": "8865931f-12e3-4e15-bcbe-da545d00a01a",
   "metadata": {},
   "outputs": [
    {
     "name": "stdout",
     "output_type": "stream",
     "text": [
      "+---------+\n",
      "|namespace|\n",
      "+---------+\n",
      "|  default|\n",
      "+---------+\n",
      "\n"
     ]
    }
   ],
   "source": [
    "spark.sql(\"SHOW SCHEMAS\").show()"
   ]
  },
  {
   "cell_type": "code",
   "execution_count": 9,
   "id": "b4e8e8b7-0c7a-409d-8785-82454a3c30ce",
   "metadata": {},
   "outputs": [
    {
     "name": "stdout",
     "output_type": "stream",
     "text": [
      "+---------+---------+-----------+\n",
      "|namespace|tableName|isTemporary|\n",
      "+---------+---------+-----------+\n",
      "|  default| date_dim|      false|\n",
      "+---------+---------+-----------+\n",
      "\n"
     ]
    }
   ],
   "source": [
    "spark.sql(\"SHOW TABLES IN default\").show()"
   ]
  },
  {
   "cell_type": "code",
   "execution_count": 6,
   "id": "57be0e69-06bb-4b86-b5c5-cca7b624387f",
   "metadata": {},
   "outputs": [
    {
     "name": "stdout",
     "output_type": "stream",
     "text": [
      "+-------+----+-------+\n",
      "|id_date|date|ts_load|\n",
      "+-------+----+-------+\n",
      "+-------+----+-------+\n",
      "\n"
     ]
    }
   ],
   "source": [
    "spark.sql(\"select * from date_dim\").show()"
   ]
  },
  {
   "cell_type": "code",
   "execution_count": 5,
   "id": "6174a15b-d00c-43f3-b6af-580a1e0516fa",
   "metadata": {},
   "outputs": [
    {
     "name": "stdout",
     "output_type": "stream",
     "text": [
      "+-----------------+\n",
      "|num_affected_rows|\n",
      "+-----------------+\n",
      "|                6|\n",
      "+-----------------+\n",
      "\n"
     ]
    }
   ],
   "source": [
    "spark.sql(\"delete from date_dim\").show()"
   ]
  }
 ],
 "metadata": {
  "kernelspec": {
   "display_name": "Python 3 (ipykernel)",
   "language": "python",
   "name": "python3"
  },
  "language_info": {
   "codemirror_mode": {
    "name": "ipython",
    "version": 3
   },
   "file_extension": ".py",
   "mimetype": "text/x-python",
   "name": "python",
   "nbconvert_exporter": "python",
   "pygments_lexer": "ipython3",
   "version": "3.8.0"
  }
 },
 "nbformat": 4,
 "nbformat_minor": 5
}
