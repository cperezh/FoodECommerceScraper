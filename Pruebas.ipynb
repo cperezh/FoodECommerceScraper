{
 "cells": [
  {
   "cell_type": "code",
   "execution_count": 1,
   "id": "fifth-kennedy",
   "metadata": {},
   "outputs": [],
   "source": [
    "from pyspark.sql import SparkSession\n",
    "import delta"
   ]
  },
  {
   "cell_type": "code",
   "execution_count": 2,
   "id": "4638909b-70eb-4259-9cf2-47d474085003",
   "metadata": {},
   "outputs": [],
   "source": [
    "__builder = SparkSession\\\n",
    "    .builder\\\n",
    "    .appName(\"Notebook for test\") \\\n",
    "    .config(\"spark.sql.extensions\", \"io.delta.sql.DeltaSparkSessionExtension\") \\\n",
    "    .config(\"spark.sql.catalog.spark_catalog\", \"org.apache.spark.sql.delta.catalog.DeltaCatalog\")\\\n",
    "    .config(\"spark.sql.warehouse.dir\",\"c:/tmp/spark-warehouse\")\\\n",
    "    .config(\"javax.jdo.option.ConnectionURL\",\"jdbc:derby:;databaseName=C:/tmp/metastore_db;create=true\")\\\n",
    "    .enableHiveSupport()\n",
    "\n",
    "spark = delta.configure_spark_with_delta_pip(__builder)\\\n",
    "    .getOrCreate()"
   ]
  },
  {
   "cell_type": "code",
   "execution_count": 3,
   "id": "52587be2-a46d-48e2-a84e-1a45b28fded6",
   "metadata": {},
   "outputs": [],
   "source": [
    "seq = spark.table(\"sequences_cfg\")"
   ]
  },
  {
   "cell_type": "code",
   "execution_count": 4,
   "id": "ad75cbd3-aa9d-49c2-864d-5c737b76951b",
   "metadata": {},
   "outputs": [
    {
     "name": "stderr",
     "output_type": "stream",
     "text": [
      "WARNING:root:'PYARROW_IGNORE_TIMEZONE' environment variable was not set. It is required to set this environment variable to '1' in both driver and executor sides if you use pyarrow>=2.0.0. pandas-on-Spark will set it for you but it does not work if there is a Spark context already launched.\n",
      "c:\\users\\carlos\\proyectos\\foodecommercescraper\\venv\\lib\\site-packages\\pyspark\\sql\\pandas\\conversion.py:248: FutureWarning: Passing unit-less datetime64 dtype to .astype is deprecated and will raise in a future version. Pass 'datetime64[ns]' instead\n",
      "  series = series.astype(t, copy=False)\n"
     ]
    },
    {
     "data": {
      "text/html": [
       "<div>\n",
       "<style scoped>\n",
       "    .dataframe tbody tr th:only-of-type {\n",
       "        vertical-align: middle;\n",
       "    }\n",
       "\n",
       "    .dataframe tbody tr th {\n",
       "        vertical-align: top;\n",
       "    }\n",
       "\n",
       "    .dataframe thead th {\n",
       "        text-align: right;\n",
       "    }\n",
       "</style>\n",
       "<table border=\"1\" class=\"dataframe\">\n",
       "  <thead>\n",
       "    <tr style=\"text-align: right;\">\n",
       "      <th></th>\n",
       "      <th>table_name</th>\n",
       "      <th>id</th>\n",
       "      <th>ts_load</th>\n",
       "    </tr>\n",
       "  </thead>\n",
       "  <tbody>\n",
       "    <tr>\n",
       "      <th>0</th>\n",
       "      <td>date_dim</td>\n",
       "      <td>0</td>\n",
       "      <td>2023-02-20 06:30:12.272533</td>\n",
       "    </tr>\n",
       "  </tbody>\n",
       "</table>\n",
       "</div>"
      ],
      "text/plain": [
       "  table_name  id                    ts_load\n",
       "0   date_dim   0 2023-02-20 06:30:12.272533"
      ]
     },
     "execution_count": 4,
     "metadata": {},
     "output_type": "execute_result"
    }
   ],
   "source": [
    "df = seq.pandas_api()"
   ]
  },
  {
   "cell_type": "code",
   "execution_count": 12,
   "id": "e81ca984-caf6-4ceb-a32d-e9c40d41dd26",
   "metadata": {},
   "outputs": [
    {
     "data": {
      "text/plain": [
       "0"
      ]
     },
     "execution_count": 12,
     "metadata": {},
     "output_type": "execute_result"
    }
   ],
   "source": [
    "df[\"id\"].iloc[0]"
   ]
  },
  {
   "cell_type": "code",
   "execution_count": 4,
   "id": "7b4bd3f2-d9da-4368-b484-635bfc36da85",
   "metadata": {},
   "outputs": [
    {
     "name": "stdout",
     "output_type": "stream",
     "text": [
      "+----------+---+--------------------+\n",
      "|table_name| id|             ts_load|\n",
      "+----------+---+--------------------+\n",
      "|  date_dim|  0|2023-02-19 08:04:...|\n",
      "|  date_dim|  0|2023-02-19 08:10:...|\n",
      "+----------+---+--------------------+\n",
      "\n"
     ]
    }
   ],
   "source": [
    "spark.sql(\"select * from sequences_cfg\").show()"
   ]
  },
  {
   "cell_type": "code",
   "execution_count": 3,
   "id": "5e7a86a3-a886-41ba-a05c-4189742aeae0",
   "metadata": {},
   "outputs": [
    {
     "name": "stdout",
     "output_type": "stream",
     "text": [
      "++\n",
      "||\n",
      "++\n",
      "++\n",
      "\n",
      "++\n",
      "||\n",
      "++\n",
      "++\n",
      "\n"
     ]
    }
   ],
   "source": [
    "spark.sql(\"DROP TABLE date_dim\").show()\n",
    "spark.sql(\"DROP TABLE sequences_cfg\").show()"
   ]
  },
  {
   "cell_type": "code",
   "execution_count": 7,
   "id": "8865931f-12e3-4e15-bcbe-da545d00a01a",
   "metadata": {},
   "outputs": [
    {
     "name": "stdout",
     "output_type": "stream",
     "text": [
      "+---------+\n",
      "|namespace|\n",
      "+---------+\n",
      "|  default|\n",
      "+---------+\n",
      "\n"
     ]
    }
   ],
   "source": [
    "spark.sql(\"SHOW SCHEMAS\").show()"
   ]
  },
  {
   "cell_type": "code",
   "execution_count": 9,
   "id": "b4e8e8b7-0c7a-409d-8785-82454a3c30ce",
   "metadata": {},
   "outputs": [
    {
     "name": "stdout",
     "output_type": "stream",
     "text": [
      "+---------+---------+-----------+\n",
      "|namespace|tableName|isTemporary|\n",
      "+---------+---------+-----------+\n",
      "|  default| date_dim|      false|\n",
      "+---------+---------+-----------+\n",
      "\n"
     ]
    }
   ],
   "source": [
    "spark.sql(\"SHOW TABLES IN default\").show()"
   ]
  },
  {
   "cell_type": "code",
   "execution_count": 6,
   "id": "57be0e69-06bb-4b86-b5c5-cca7b624387f",
   "metadata": {},
   "outputs": [
    {
     "name": "stdout",
     "output_type": "stream",
     "text": [
      "+-------+----+-------+\n",
      "|id_date|date|ts_load|\n",
      "+-------+----+-------+\n",
      "+-------+----+-------+\n",
      "\n"
     ]
    }
   ],
   "source": [
    "spark.sql(\"select * from date_dim\").show()"
   ]
  },
  {
   "cell_type": "code",
   "execution_count": 5,
   "id": "6174a15b-d00c-43f3-b6af-580a1e0516fa",
   "metadata": {},
   "outputs": [
    {
     "name": "stdout",
     "output_type": "stream",
     "text": [
      "+-----------------+\n",
      "|num_affected_rows|\n",
      "+-----------------+\n",
      "|                6|\n",
      "+-----------------+\n",
      "\n"
     ]
    }
   ],
   "source": [
    "spark.sql(\"delete from date_dim\").show()"
   ]
  }
 ],
 "metadata": {
  "kernelspec": {
   "display_name": "Python 3 (ipykernel)",
   "language": "python",
   "name": "python3"
  },
  "language_info": {
   "codemirror_mode": {
    "name": "ipython",
    "version": 3
   },
   "file_extension": ".py",
   "mimetype": "text/x-python",
   "name": "python",
   "nbconvert_exporter": "python",
   "pygments_lexer": "ipython3",
   "version": "3.8.0"
  }
 },
 "nbformat": 4,
 "nbformat_minor": 5
}
